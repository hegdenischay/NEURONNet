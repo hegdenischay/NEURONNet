{
  "cells": [
    {
      "cell_type": "markdown",
      "metadata": {
        "id": "view-in-github",
        "colab_type": "text"
      },
      "source": [
        "<a href=\"https://colab.research.google.com/github/hegdenischay/NEURONNet/blob/main/Full%20Network/Latest_%20Complete%20Network_sensors.ipynb\" target=\"_parent\"><img src=\"https://colab.research.google.com/assets/colab-badge.svg\" alt=\"Open In Colab\"/></a>"
      ]
    },
    {
      "cell_type": "code",
      "execution_count": 1,
      "metadata": {
        "cellView": "form",
        "id": "HBtbl9iM-hha"
      },
      "outputs": [],
      "source": [
        "size =   1000#@param {type:\"integer\"}\n",
        "dimension = \"High\" #@param [\"High\", \"Low\"]\n",
        "epochs =  20 #@param {type:\"integer\"}\n",
        "A_plus = 0.01 #@param {type:\"number\"}\n",
        "A_minus = -0.0011 #@param {type: \"number\"}\n",
        "lateralDelay = 5 #@param {type: \"number\"}"
      ],
      "id": "HBtbl9iM-hha"
    },
    {
      "cell_type": "code",
      "execution_count": 2,
      "metadata": {
        "cellView": "form",
        "colab": {
          "base_uri": "https://localhost:8080/",
          "height": 113,
          "referenced_widgets": [
            "b37d18b277e44b67a903d4875721db40",
            "88594d4eb70044bb9c288e10925d7b22",
            "fae23c81e2a54e5aa089a491020ab0d5",
            "9039b77c99494d34a0c3d9694cfc7cbf",
            "086a48aafe9e42e29610317de45fa4cb",
            "fd8f6e10c33246bfbc04ca57ca9e45a4",
            "f65a3dc479d5494faa78e001caa78fe2",
            "39049b56edea4e9bbfb7bde1e88c6797",
            "a497722de74b4bb39ca8151adc1fc422",
            "63e70931232b491392cdf580e0a5f349",
            "9303aa612682469eb9b3ee6d8af1223c"
          ]
        },
        "id": "0c4-GSDp5oLJ",
        "outputId": "08a41573-72d2-40b2-9e43-5d56528c5b45"
      },
      "outputs": [
        {
          "output_type": "display_data",
          "data": {
            "text/plain": [
              "Checkbox(value=False, description='Add noise')"
            ],
            "application/vnd.jupyter.widget-view+json": {
              "version_major": 2,
              "version_minor": 0,
              "model_id": "b37d18b277e44b67a903d4875721db40"
            }
          },
          "metadata": {}
        },
        {
          "output_type": "display_data",
          "data": {
            "text/plain": [
              "VBox(children=(FloatText(value=0.1, description='Amplitude:'), FloatText(value=15.0, description='sets:')))"
            ],
            "application/vnd.jupyter.widget-view+json": {
              "version_major": 2,
              "version_minor": 0,
              "model_id": "9039b77c99494d34a0c3d9694cfc7cbf"
            }
          },
          "metadata": {}
        }
      ],
      "source": [
        "#@title Parameters\n",
        "from ipywidgets import FloatText, Checkbox, VBox, Dropdown\n",
        "import ipywidgets as widgets\n",
        "\n",
        "currentAmp = FloatText(description='Amplitude:', value=0.1)\n",
        "sets = FloatText(description='sets:', value=15)\n",
        "noiseSD = FloatText(description='noiseSD:', value=0.01)\n",
        "\n",
        "vb = VBox(children = [currentAmp, sets])\n",
        "with_noise = Checkbox(description='Add noise')\n",
        "\n",
        "def add_noise(button):\n",
        "    if button['new']:\n",
        "        vb.children = [currentAmp, sets, noiseSD]\n",
        "    else:\n",
        "        vb.children = [currentAmp, sets]\n",
        "\n",
        "with_noise.observe(add_noise, names='value')\n",
        "display(with_noise)\n",
        "display(vb)"
      ],
      "id": "0c4-GSDp5oLJ"
    },
    {
      "cell_type": "code",
      "execution_count": 3,
      "metadata": {
        "cellView": "form",
        "colab": {
          "base_uri": "https://localhost:8080/",
          "height": 145,
          "referenced_widgets": [
            "a467b5f8b1734643ba2148f2ca51d7d1",
            "a5eb2178f59f4d86b8f8988f5f66b654",
            "eeaaf5dc6662499abfd66aa7abcbe4f7",
            "b6f4e082a0414df5940967993e0b5032",
            "7f92f9022e8c4cb2bfdc383e1f06c0c2",
            "82d2aeedae5e49aaa81cf19e71253df1",
            "1cf93655bf1d427caede18742825ad60",
            "70369b75106d495d8439f5f9fb2e349c",
            "39aed9bf94fd41a3b84fcb5d842e0492",
            "832460314d464652a6f66c249a850b2c",
            "b3ca4562e7ea48ea90eb5ac83a8bdb65",
            "566a659f6e4244889cdc4b4bded67533",
            "21d92d618fe748a698f79850a7706e70",
            "ad91ffb59d1e4001bb5d2dd131469521"
          ]
        },
        "id": "R-P8mRYb5rGX",
        "outputId": "40f98cb7-f6c8-417f-a3f4-e28a53e31684"
      },
      "outputs": [
        {
          "output_type": "display_data",
          "data": {
            "text/plain": [
              "Dropdown(description='distribution:', options=('uniform', 'normal', 'poisson'), value='uniform')"
            ],
            "application/vnd.jupyter.widget-view+json": {
              "version_major": 2,
              "version_minor": 0,
              "model_id": "a467b5f8b1734643ba2148f2ca51d7d1"
            }
          },
          "metadata": {}
        },
        {
          "output_type": "display_data",
          "data": {
            "text/plain": [
              "VBox(children=(FloatText(value=1.0, description='low:'), FloatText(value=1.5, description='high:'), FloatText(…"
            ],
            "application/vnd.jupyter.widget-view+json": {
              "version_major": 2,
              "version_minor": 0,
              "model_id": "b6f4e082a0414df5940967993e0b5032"
            }
          },
          "metadata": {}
        }
      ],
      "source": [
        "#@title Distribution\n",
        "from ipywidgets import FloatText, Checkbox, VBox, Dropdown\n",
        "import ipywidgets as widgets\n",
        "\n",
        "distribution = Dropdown(description='distribution:', options=[\"uniform\", \"normal\", \"poisson\"], value=\"uniform\")\n",
        "low = FloatText(description='low:', value=1)\n",
        "high = FloatText(description='high:', value=1.5)\n",
        "leng = FloatText(description='size:', value=sets.value)\n",
        "mean = FloatText(description='mean:', value=1)\n",
        "sd = FloatText(description='SD:', value=0.5)\n",
        "lam = FloatText(description='lam', value=3)\n",
        "\n",
        "vb2 = VBox(children = [low, high, leng])\n",
        "\n",
        "def change_widgets(button):\n",
        "    if button['new'] == \"uniform\":\n",
        "        vb2.children = [low, high, leng]\n",
        "    elif button['new'] == \"normal\":\n",
        "        vb2.children = [mean, sd, leng]\n",
        "    elif button['new'] == \"poisson\":\n",
        "        vb2.children = [lam, sets]\n",
        "\n",
        "distribution.observe(change_widgets, names='value')\n",
        "display(distribution)\n",
        "display(vb2)"
      ],
      "id": "R-P8mRYb5rGX"
    },
    {
      "cell_type": "markdown",
      "metadata": {
        "id": "L_9d7LtSWFA0"
      },
      "source": [
        "### Install Neuron"
      ],
      "id": "L_9d7LtSWFA0"
    },
    {
      "cell_type": "code",
      "execution_count": 4,
      "metadata": {
        "colab": {
          "base_uri": "https://localhost:8080/"
        },
        "id": "CHPcM6GtV5K_",
        "outputId": "efedb266-5eaa-4471-c528-beff92624734"
      },
      "outputs": [
        {
          "output_type": "stream",
          "name": "stdout",
          "text": [
            "Requirement already satisfied: pandas in /usr/local/lib/python3.7/dist-packages (1.3.5)\n",
            "Collecting neuron\n",
            "  Downloading NEURON-8.1.0-cp37-cp37m-manylinux_2_17_x86_64.manylinux2014_x86_64.whl (15.0 MB)\n",
            "\u001b[K     |████████████████████████████████| 15.0 MB 4.8 MB/s \n",
            "\u001b[?25hCollecting wget\n",
            "  Downloading wget-3.2.zip (10 kB)\n",
            "Requirement already satisfied: numpy>=1.17.3 in /usr/local/lib/python3.7/dist-packages (from pandas) (1.21.6)\n",
            "Requirement already satisfied: python-dateutil>=2.7.3 in /usr/local/lib/python3.7/dist-packages (from pandas) (2.8.2)\n",
            "Requirement already satisfied: pytz>=2017.3 in /usr/local/lib/python3.7/dist-packages (from pandas) (2022.1)\n",
            "Requirement already satisfied: six>=1.5 in /usr/local/lib/python3.7/dist-packages (from python-dateutil>=2.7.3->pandas) (1.15.0)\n",
            "Building wheels for collected packages: wget\n",
            "  Building wheel for wget (setup.py) ... \u001b[?25l\u001b[?25hdone\n",
            "  Created wheel for wget: filename=wget-3.2-py3-none-any.whl size=9675 sha256=815d7789ce10fa5550c874e731b83682a7884a4ed5f8f75f0f90ac9ce9fc53d0\n",
            "  Stored in directory: /root/.cache/pip/wheels/a1/b6/7c/0e63e34eb06634181c63adacca38b79ff8f35c37e3c13e3c02\n",
            "Successfully built wget\n",
            "Installing collected packages: wget, neuron\n",
            "Successfully installed neuron-8.1.0 wget-3.2\n"
          ]
        }
      ],
      "source": [
        "pip install pandas neuron wget"
      ],
      "id": "CHPcM6GtV5K_"
    },
    {
      "cell_type": "code",
      "execution_count": 5,
      "metadata": {
        "id": "jcQEX_3vHOUz"
      },
      "outputs": [],
      "source": [
        "# %load_ext google.colab.data_table\n",
        "# import pandas\n",
        "# data = {'Time taken': ['5 sets (with learning)', '5 sets (without learning)', '30 sets (with learning)', '30 sets (without)'], 'Time (s)': [64.94386959075928, 64.94386959075928-47.318169593811035, 163.1467843055725, 163.1467843055725-123.22148942947388]}  \n",
        "# pandas.DataFrame(data)"
      ],
      "id": "jcQEX_3vHOUz"
    },
    {
      "cell_type": "markdown",
      "metadata": {
        "id": "MWYTz03xLsWS"
      },
      "source": [
        "### Import prerequisites"
      ],
      "id": "MWYTz03xLsWS"
    },
    {
      "cell_type": "code",
      "execution_count": 6,
      "metadata": {
        "id": "1452ffae"
      },
      "outputs": [],
      "source": [
        "import time\n",
        "totalstart = time.time()\n",
        "import os\n",
        "if os.getcwd() != \"/content\":\n",
        "    # we are not in google colab, assume hebbian library is in current dir\n",
        "    from hebb import ORN, MCELL, GCELL\n",
        "else:\n",
        "    # download from git\n",
        "    import shutil, requests\n",
        "    url = 'https://cloud.operationtulip.com/s/t8nbn8Y582w94P3/download/git.zip'\n",
        "    response = requests.get(url, stream=True)\n",
        "    with open('git.zip', 'wb') as out_file:\n",
        "        shutil.copyfileobj(response.raw, out_file)\n",
        "    del response\n",
        "    import zipfile\n",
        "    with zipfile.ZipFile('git.zip', 'r') as zip_ref:\n",
        "        zip_ref.extractall('')\n"
      ],
      "id": "1452ffae"
    },
    {
      "cell_type": "code",
      "execution_count": 7,
      "metadata": {
        "id": "63491b2a"
      },
      "outputs": [],
      "source": [
        "!nrnivmodl &>/dev/null"
      ],
      "id": "63491b2a"
    },
    {
      "cell_type": "code",
      "execution_count": 8,
      "metadata": {
        "id": "EYQ3O2_rte6s"
      },
      "outputs": [],
      "source": [
        "from neuron import h #.h is a HOC object instance & gui from neuron can also be imported \n",
        "from math import pi                  \n",
        "from neuron.units import ms,mV\n",
        "from hebb_test import ORN, MCELL, GCELL\n",
        "h.load_file('stdrun.hoc')                #Allows us to do a high level simulation\n",
        "pc = h.ParallelContext()\n",
        "import random  \n",
        "import matplotlib.pyplot as plt1\n",
        "\n",
        "from bokeh.io import output_notebook\n",
        "import bokeh.plotting as plt2\n",
        "output_notebook()\n",
        "\n",
        "import seaborn as sns"
      ],
      "id": "EYQ3O2_rte6s"
    },
    {
      "cell_type": "markdown",
      "metadata": {
        "id": "IqVU4uAHwxiJ"
      },
      "source": [
        "## Helper Functions"
      ],
      "id": "IqVU4uAHwxiJ"
    },
    {
      "cell_type": "code",
      "execution_count": 9,
      "metadata": {
        "id": "9o2Z2RO4_o5B"
      },
      "outputs": [],
      "source": [
        "def stairstep(lo: float, hi: float, duration: int, max_duration: int = 200, noise: list = []) -> list:\n",
        "    # duration and max_duration are in ms\n",
        "    ans = [lo if i < duration else hi for i in range(0,max_duration)]\n",
        "    if len(noise) == 0:\n",
        "        return ans\n",
        "    else:\n",
        "        assert len(ans) == len(noise)\n",
        "        return [ans[i]+noise[i] for i in range(len(ans))]\n",
        "    # return [0+0.8*(i/duration) if i < duration else 0 for i in range(0,max_duration)]\n",
        "    # visualize input "
      ],
      "id": "9o2Z2RO4_o5B"
    },
    {
      "cell_type": "code",
      "execution_count": 10,
      "metadata": {
        "id": "5odvQsJ7wzh_"
      },
      "outputs": [],
      "source": [
        "def netConMaker(source, dest, weights, delay, threshold, place='axon', type='exc'):\n",
        "    # print(source, dest)\n",
        "    if place == 'axon':\n",
        "        if type == 'exc':\n",
        "            netcon = h.NetCon(source.axon(0.5)._ref_v, dest.dendexcisyn, sec=source.axon)\n",
        "        elif type == 'inh':\n",
        "            netcon = h.NetCon(source.axon(0.5)._ref_v, dest.dendinhisyn, sec=source.axon)\n",
        "    elif place == 'soma':\n",
        "        if type == 'exc':\n",
        "            netcon = h.NetCon(source.soma(0.5)._ref_v, dest.dendexcisyn, sec=source.soma)\n",
        "        elif type == 'inh':\n",
        "            netcon = h.NetCon(source.soma(0.5)._ref_v, dest.dendinhisyn, sec=source.soma)\n",
        "    netcon.weight[0] = weights\n",
        "    netcon.delay = delay\n",
        "    netcon.threshold = threshold\n",
        "    return netcon"
      ],
      "id": "5odvQsJ7wzh_"
    },
    {
      "cell_type": "code",
      "execution_count": 11,
      "metadata": {
        "id": "fyVJT9eYTbt1"
      },
      "outputs": [],
      "source": [
        "def latConMaker(source, dest, weights, delay, threshold, type='exc'):\n",
        "    if type == 'exc':\n",
        "        netcon = h.NetCon(source.dend(0.5)._ref_v, dest.dendexcisyn, sec=source.dend)\n",
        "    else:\n",
        "        netcon = h.NetCon(source.dend(0.5)._ref_v, dest.dendinhisyn, sec=source.dend)\n",
        "    netcon.weight[0] = weights\n",
        "    netcon.delay = delay\n",
        "    netcon.threshold = threshold\n",
        "    return netcon"
      ],
      "id": "fyVJT9eYTbt1"
    },
    {
      "cell_type": "code",
      "execution_count": 12,
      "metadata": {
        "id": "G2RZsImWw1pX"
      },
      "outputs": [],
      "source": [
        "%matplotlib inline\n",
        "def plotCell(source, name, addendum=''):\n",
        "    recording_cell = source\n",
        "    cell_axon = h.Vector().record(recording_cell.axon(0.5)._ref_v)\n",
        "    cell_dend = h.Vector().record(recording_cell.dend(0.5)._ref_v)\n",
        "    t = h.Vector().record(h._ref_t)\n",
        "\n",
        "    h.finitialize(-70 * mV)\n",
        "    h.continuerun(300 * ms)\n",
        "\n",
        "    f = plt1.figure(figsize=(16,9))\n",
        "    ax = f.add_subplot(1,1,1)\n",
        "    ax.plot(t, list(cell_axon), label=name+' axon '+addendum)\n",
        "    ax.plot(t, list(cell_dend), label=name+' dendrite '+addendum)\n",
        "    ax.legend(loc=\"upper right\")\n",
        "    ax.set_xlabel('t (ms)')\n",
        "    ax.set_ylabel('v (mV)')\n",
        "    plt1.show()"
      ],
      "id": "G2RZsImWw1pX"
    },
    {
      "cell_type": "code",
      "execution_count": 13,
      "metadata": {
        "id": "fRU2J5WKw3Cm"
      },
      "outputs": [],
      "source": [
        "import math\n",
        "def generate_L_weight_delta(first, second):\n",
        "    A_plus = 0.01\n",
        "    A_minus = -0.011\n",
        "    tau_pre =20*ms\n",
        "    tau_post =20*ms\n",
        "    delta_t = [(second[iter] - first[iter]) for iter in range(min(len(first),len(second)))]\n",
        "    delta_w_list = [A_plus*math.exp(-delta_t[iter]/tau_post) if delta_t[iter] >=0 else A_minus*math.exp(delta_t[iter]/tau_pre) for iter in range(min(len(first),len(second)))]  \n",
        "    delta_w = sum(delta_w_list)\n",
        "    return delta_w"
      ],
      "id": "fRU2J5WKw3Cm"
    },
    {
      "cell_type": "code",
      "execution_count": 14,
      "metadata": {
        "id": "K6OJ0E7jV4nG"
      },
      "outputs": [],
      "source": [
        "from IPython.display import HTML, display\n",
        "import time\n",
        "\n",
        "def progress(value, max=100):\n",
        "    return HTML(\"\"\"\n",
        "        <progress\n",
        "            value='{value}'\n",
        "            max='{max}',\n",
        "            style='width: 100%'\n",
        "        >\n",
        "            {value}\n",
        "        </progress>\n",
        "    \"\"\".format(value=value, max=max))"
      ],
      "id": "K6OJ0E7jV4nG"
    },
    {
      "cell_type": "markdown",
      "metadata": {
        "id": "90Kn6XE2V6nW"
      },
      "source": [
        "## Network Definitions"
      ],
      "id": "90Kn6XE2V6nW"
    },
    {
      "cell_type": "code",
      "execution_count": 15,
      "metadata": {
        "id": "IGDhgsQEYa2X"
      },
      "outputs": [],
      "source": [
        "class AON:\n",
        "    def __init__(self,M,weights,delay1=1,delay2=2,delay3=3,delay4=4):\n",
        "        wMM=weights[0]\n",
        "        wMG=weights[1]\n",
        "        wGM=weights[2]\n",
        "        wGG=weights[3]\n",
        "        \n",
        "        self.M = M #Set no.\n",
        "        self.th = -70\n",
        "        self.maindelay = 5\n",
        "\n",
        "        self.M1=MCELL(1,self.M)\n",
        "        self.M2=MCELL(2,self.M)\n",
        "        self.G1=GCELL(3,self.M)\n",
        "        self.G2=GCELL(4,self.M)\n",
        "        self.cells = [self.M1, self.M2, self.G1, self.G2]\n",
        "        \n",
        "        self.nc0 = netConMaker(self.M1, self.M2, wMM, delay1+self.maindelay, self.th, 'soma') #Connecting E1 to E2\n",
        "        self.nc1 = netConMaker(self.M2, self.M1, wMM, delay2+self.maindelay, self.th, 'soma') #Connecting E2 to E1\n",
        "        self.nc2 = netConMaker(self.M2, self.G1, wMG, delay2+self.maindelay, self.th, 'soma') #Connecting E2 to I1\n",
        "        self.nc3 = netConMaker(self.G1, self.M2, wGM, delay3+self.maindelay, self.th, 'soma', type='inh') #Connecting I1 to E2\n",
        "        self.nc4 = netConMaker(self.G1, self.G2, wGG, delay3+self.maindelay, self.th, 'soma', type='inh') #Connecting I1 to I2\n",
        "        self.nc5 = netConMaker(self.G2, self.G1, wGG, delay4+self.maindelay, self.th, 'soma', type='inh') #Connecting I2 to I1\n",
        "        self.nc6 = netConMaker(self.G2, self.M1, wGM, delay4+self.maindelay, self.th, 'soma', type='inh') #Connecting I2 to E1\n",
        "        self.nc7 = netConMaker(self.M1, self.G2, wMG, delay1+self.maindelay, self.th, 'soma') #Connecting E1 to I2\n",
        "        self.nc8 = netConMaker(self.M1, self.G1, wMG, delay1+self.maindelay, self.th, 'soma') #Connecting E1 to I1\n",
        "        self.nc9 = netConMaker(self.G1, self.M1, wGM, delay3+self.maindelay, self.th, 'soma', type='inh') #Connecting I1 to E1"
      ],
      "id": "IGDhgsQEYa2X"
    },
    {
      "cell_type": "code",
      "source": [
        "import wget\n",
        "import pandas as pd\n",
        "file = wget.download('https://cloud.operationtulip.com/s/ySazp9r54BZnDZc/download/dataset%28in_CSV%29.csv')\n",
        "dataframe1 = pd.read_csv(file)\n",
        "inp = []\n",
        "inp.append([dataframe1[\"GAS1\"][i] for i in range(len(dataframe1[\"GAS1\"])) if dataframe1[\"label\"][i] == \"Banana\"])\n",
        "inp.append([dataframe1[\"GAS2\"][i] for i in range(len(dataframe1[\"GAS2\"])) if dataframe1[\"label\"][i] == \"Banana\"])\n",
        "inp.append([dataframe1[\"GAS3\"][i] for i in range(len(dataframe1[\"GAS3\"])) if dataframe1[\"label\"][i] == \"Banana\"])"
      ],
      "metadata": {
        "id": "fCx2TrHd4cql"
      },
      "id": "fCx2TrHd4cql",
      "execution_count": 18,
      "outputs": []
    },
    {
      "cell_type": "code",
      "execution_count": 19,
      "metadata": {
        "id": "6b8b7d01"
      },
      "outputs": [],
      "source": [
        "#Gives one 2 coupled neuron using freeman's topology in olfactory bulb\n",
        "class CONNECTING:\n",
        "\n",
        "    def __init__(self,M,weights,delay1=0,delay2=2,delay3=4,delay4=6):\n",
        "        wMM=weights[0]\n",
        "        wMG=weights[1]\n",
        "        wGM=weights[2]\n",
        "        wGG=weights[3]\n",
        "        \n",
        "        self.M = M #Set no.\n",
        "        self.th = -70\n",
        "        self.maindelay = 5\n",
        "        \n",
        "        #Making 2 neurons\n",
        "        self.orn = ORN(1,self.M)\n",
        "        self.P1=MCELL(2,self.M)\n",
        "        self.P2=MCELL(3,self.M)\n",
        "        self.cells = [self.orn, self.P1, self.P2]\n",
        "        \n",
        "        # #Giving current pulse\n",
        "        self.stim = h.VClamp(self.orn.dend(0.5))\n",
        "        self.stim.delay = 10\n",
        "        self.stim.dur = 100\n",
        "        self.stim.amp = 0\n",
        "        self.input = h.Vector(inp[M-1])\n",
        "        self.tv = h.Vector([i for i in range(len(inp[M-1]))])\n",
        "        self.input.play(self.stim._ref_v, self.tv, True)\n",
        "        # self.stim = h.IClamp(self.orn.dend(0.5))  #P1.soma to P1.dend\n",
        "        # # self.stimArr = [h.IClamp(self.orn.ciliumArr[i](0.5)) for i in range(len(self.orn.ciliumArr))]\n",
        "        # if with_noise.value == True:\n",
        "        #     self.noise = np.random.normal(0, noiseSD.value, 100)\n",
        "        #     self.input = h.Vector(stairstep(0,currentAmp.value,10,100,self.noise))\n",
        "        #     self.tv = h.Vector([i for i in range(100)])\n",
        "        #     self.stim.delay = 10\n",
        "        #     self.stim.dur = 100\n",
        "        #     self.stim.amp = 0\n",
        "        #     self.input.play(self.stim._ref_amp, self.tv, True) \n",
        "        # else:\n",
        "        #     self.stim.delay = 10\n",
        "        #     self.stim.dur = 100\n",
        "        #     self.stim.amp = currentAmp.value\n",
        "        \n",
        "        self.nc0 = netConMaker(self.orn, self.P1, wMM, self.maindelay+delay2, self.th, 'soma') #Connecting ORN to P1\n",
        "        self.nc1 = netConMaker(self.P1, self.P2, wMM, self.maindelay+delay3, self.th, 'soma') #Connecting P1 to P2\n",
        "        self.nc2 = netConMaker(self.P2, self.P1, wMM, self.maindelay+delay3, self.th, 'soma') #Connecting P2 to P1\n",
        "    \n",
        "        # 4-coupled\n",
        "\n",
        "        self.M1=MCELL(1,self.M)\n",
        "        self.M2=MCELL(2,self.M)\n",
        "        self.G1=GCELL(3,self.M)\n",
        "        self.G2=GCELL(4,self.M)\n",
        "        self.cells.extend([self.M1, self.M2, self.G1, self.G2])\n",
        "\n",
        "        self.nc14 = netConMaker(self.orn, self.M1, wMM, delay1+self.maindelay, self.th, 'soma')\n",
        "        self.nc3 = netConMaker(self.P1, self.M1, wMM, delay1+self.maindelay, self.th, 'soma')\n",
        "        self.nc4 = netConMaker(self.M1, self.M2, wMM, delay2+self.maindelay, self.th, 'soma') #Connecting M1 to M2\n",
        "        self.nc5 = netConMaker(self.M2, self.M1, wMM, delay2+self.maindelay, self.th, 'soma') #Connecting M2 to M1\n",
        "        self.nc6 = netConMaker(self.M2, self.G1, wMG, delay2+self.maindelay, self.th, 'soma') #Connecting M2 to G1\n",
        "        self.nc7 = netConMaker(self.G1, self.M2, wGM, delay2+self.maindelay, self.th, 'soma', type='inh') #Connecting G1 to M2\n",
        "        self.nc8 = netConMaker(self.G1, self.G2, wGG, delay3+self.maindelay, self.th, 'soma', type='inh') #Connecting G1 to G2\n",
        "        self.nc9 = netConMaker(self.G2, self.G1, wGG, delay3+self.maindelay, self.th, 'soma', type='inh') #Connecting G2 to G1\n",
        "        self.nc10 = netConMaker(self.G2, self.M1, wGM, delay4+self.maindelay, self.th, 'soma', type='inh') #Connecting G2 to M1\n",
        "        self.nc11 = netConMaker(self.M1, self.G2, wMG, delay4+self.maindelay, self.th, 'soma') #Connecting M1 to G2\n",
        "        self.nc12 = netConMaker(self.M1, self.G1, wMG, delay1+self.maindelay, self.th, 'soma') #Connecting M1 to G1\n",
        "        self.nc13 = netConMaker(self.G1, self.M1, wGM, delay1+self.maindelay, self.th, 'soma', type='inh') #Connecting G1 to M1"
      ],
      "id": "6b8b7d01"
    },
    {
      "cell_type": "code",
      "execution_count": 20,
      "metadata": {
        "id": "e3d8b0fd"
      },
      "outputs": [],
      "source": [
        "\n",
        "class LATERAL:\n",
        "    \"\"\"Laterally coupling N-2 coupled neurons\n",
        "    \"\"\"\n",
        "    def __init__(self,N,weights,delay1=0,delay2=2,delay3=4,delay4=6):\n",
        "        wMML=weights[1]\n",
        "        wGGL=weights[5]\n",
        "        \n",
        "        self.N = N\n",
        "        self.th = -70\n",
        "        self.maindelay = lateralDelay\n",
        "        self.sets = [CONNECTING(i, weights) for i in range(N)]\n",
        "            \n",
        "        self.twoCupArr = []\n",
        "        for r in range(0,N-1):\n",
        "          #Connecting P1[0] to P1[1]\n",
        "          # make a list for easier access\n",
        "          netConList = []\n",
        "          netConList.append(latConMaker(self.sets[r].P1, self.sets[r+1].P1,wMML,self.maindelay+delay2,self.th)) #P1[0] to P1[1]\n",
        "          netConList.append(latConMaker(self.sets[r+1].P1, self.sets[r].P1, wMML, self.maindelay+delay2,self.th))\n",
        "\n",
        "          self.twoCupArr.append(netConList)\n",
        "        self.fourCupArr = []\n",
        "        for r in range(1,N-1):\n",
        "            for j in range(N-r):\n",
        "                netConList = []\n",
        "                netConList.append(latConMaker(self.sets[j].M1, self.sets[j+r].M1, wMML, self.maindelay+delay3, self.th)) #Connect M1[0] to M1[1]\n",
        "                netConList.append(latConMaker(self.sets[j+r].M1, self.sets[j].M1, wMML, self.maindelay+delay3, self.th)) #Connect M1[1] to M1[0]\n",
        "                netConList.append(latConMaker(self.sets[j].G1, self.sets[j+r].G1, wGGL, self.maindelay+delay2, self.th, 'inh')) #Connecting G1[0] to G1[1]\n",
        "                netConList.append(latConMaker(self.sets[j+r].G1, self.sets[j].G1, wGGL, self.maindelay+delay2, self.th, 'inh')) #Connecting G1[1] to G1[0]\n",
        "                self.fourCupArr.append(netConList)\n",
        "\n",
        "        # add AON and PC\n",
        "        self.AON = AON(5,weights)\n",
        "        self.PC = AON(6,weights)\n",
        "        self.DPC = GCELL(7,self.N)\n",
        "        # add noise to AON's M1\n",
        "        self.stim = h.IClamp(self.AON.M1.dend(0.5))  #P1.soma to P1.dend\n",
        "        self.noise = np.random.normal(0, 0.1, 100)\n",
        "        self.input = h.Vector(self.noise)\n",
        "        self.tv = h.Vector([i for i in range(100)])\n",
        "        self.input.play(self.stim._ref_amp, self.tv, True)\n",
        "        self.otherNetCons = []\n",
        "        self.otherNetCons.append(netConMaker(self.sets[0].M1, self.AON.M1, wMML, self.maindelay+delay2, self.th, 'soma')) # 4-coupled M1 -> AON's E1\n",
        "        for i in self.sets:\n",
        "            for j in self.sets:\n",
        "                if i != j:\n",
        "                    self.otherNetCons.append(netConMaker(i.P1, j.P1, wMML, self.maindelay+delay2, self.th, 'soma')) # all-to-all in P1\n",
        "                    self.otherNetCons.append(netConMaker(i.M1, j.M1, wMML, self.maindelay+delay3, self.th, 'soma')) # all-to-all in M1\n",
        "                    self.otherNetCons.append(netConMaker(i.G1, j.G1, wGGL, self.maindelay+delay2, self.th, 'soma')) # all-to-all in M1\n",
        "\n",
        "        for i in self.sets:\n",
        "            self.otherNetCons.append(netConMaker(self.AON.M1, i.P2, wMML, self.maindelay+delay2, self.th, 'soma')) # AON E1 -> 2-coupled P2\n",
        "        if dimension == \"High\":\n",
        "            self.otherNetCons.append(netConMaker(self.PC.M1, self.AON.G1, wMML, self.maindelay+delay3+10, self.th, 'soma')) # PC's A1 to AON's I1\n",
        "        self.otherNetCons.append(netConMaker(self.sets[0].M1, self.PC.M1, wMML, self.maindelay+delay2, self.th, 'soma')) # M1 to A1\n",
        "        for i in self.sets:\n",
        "            self.otherNetCons.append(netConMaker(self.AON.M1, i.G1, wMML, self.maindelay+delay2, self.th, 'soma')) # AON's E1 -> 4-coupled G1\n",
        "        \n",
        "        self.otherNetCons.append(netConMaker(self.PC.G1, self.DPC, wMML/100000, self.maindelay+delay3, self.th, 'soma', 'inh')) # PC's B1 -> DPC\n",
        "        self.otherNetCons.append(netConMaker(self.DPC, self.PC.G1, wMML/100000, self.maindelay+delay3, self.th, 'soma')) # DPC -> PC's B1\n",
        "        if dimension == \"High\":\n",
        "            for i in self.sets:\n",
        "                self.otherNetCons.append(netConMaker(self.DPC, i.G1, wMML/100000, self.maindelay+delay3+10, self.th))# DPC to G1 \n",
        "        self.otherNetCons.append(netConMaker(self.sets[-1].G1, self.DPC, wMML, self.maindelay+4, self.th, 'soma'))\n",
        "        \n"
      ],
      "id": "e3d8b0fd"
    },
    {
      "cell_type": "code",
      "execution_count": 21,
      "metadata": {
        "id": "akuCSVQv7mlc"
      },
      "outputs": [],
      "source": [
        "import numpy as np\n",
        "if distribution.value == \"uniform\":\n",
        "    weights = np.random.uniform(low.value, high.value, 2*int(leng.value)-1)\n",
        "elif distribution.value == \"normal\":\n",
        "    weights = np.random.normal(mean.value, sd.value, 2*int(leng.value)-1)\n",
        "elif distribution.value == \"poisson\":\n",
        "    weights = np.random.poisson(lam.value, 2*int(leng.value)-1)"
      ],
      "id": "akuCSVQv7mlc"
    },
    {
      "cell_type": "code",
      "execution_count": 22,
      "metadata": {
        "id": "665f6425",
        "outputId": "357148d4-04d4-4cb2-db25-78630871f813",
        "colab": {
          "base_uri": "https://localhost:8080/",
          "height": 345
        }
      },
      "outputs": [
        {
          "output_type": "error",
          "ename": "LookupError",
          "evalue": "ignored",
          "traceback": [
            "\u001b[0;31m---------------------------------------------------------------------------\u001b[0m",
            "\u001b[0;31mLookupError\u001b[0m                               Traceback (most recent call last)",
            "\u001b[0;32m<ipython-input-22-0e2489f5a417>\u001b[0m in \u001b[0;36m<module>\u001b[0;34m()\u001b[0m\n\u001b[1;32m      7\u001b[0m \u001b[0;31m# all_weights = [4.65058555, 2.92840154, 3.68134116, 1.30487304, 1.07771946, 3.15136447, 1.04247865, 2.29878494, 2.01195344]\u001b[0m\u001b[0;34m\u001b[0m\u001b[0;34m\u001b[0m\u001b[0;34m\u001b[0m\u001b[0m\n\u001b[1;32m      8\u001b[0m \u001b[0;31m# all_weights = [0.95336892, 0.87793015, 0.71060386, 0.88298338, 0.84561174, 0.5006465, 0.60983793, 0.88890724, 0.85189888]\u001b[0m\u001b[0;34m\u001b[0m\u001b[0;34m\u001b[0m\u001b[0;34m\u001b[0m\u001b[0m\n\u001b[0;32m----> 9\u001b[0;31m \u001b[0mL1\u001b[0m\u001b[0;34m=\u001b[0m\u001b[0mLATERAL\u001b[0m\u001b[0;34m(\u001b[0m\u001b[0msize\u001b[0m\u001b[0;34m,\u001b[0m\u001b[0mweights\u001b[0m\u001b[0;34m)\u001b[0m\u001b[0;34m\u001b[0m\u001b[0;34m\u001b[0m\u001b[0m\n\u001b[0m",
            "\u001b[0;32m<ipython-input-20-e1b737e58b43>\u001b[0m in \u001b[0;36m__init__\u001b[0;34m(self, N, weights, delay1, delay2, delay3, delay4)\u001b[0m\n\u001b[1;32m     10\u001b[0m         \u001b[0mself\u001b[0m\u001b[0;34m.\u001b[0m\u001b[0mth\u001b[0m \u001b[0;34m=\u001b[0m \u001b[0;34m-\u001b[0m\u001b[0;36m70\u001b[0m\u001b[0;34m\u001b[0m\u001b[0;34m\u001b[0m\u001b[0m\n\u001b[1;32m     11\u001b[0m         \u001b[0mself\u001b[0m\u001b[0;34m.\u001b[0m\u001b[0mmaindelay\u001b[0m \u001b[0;34m=\u001b[0m \u001b[0mlateralDelay\u001b[0m\u001b[0;34m\u001b[0m\u001b[0;34m\u001b[0m\u001b[0m\n\u001b[0;32m---> 12\u001b[0;31m         \u001b[0mself\u001b[0m\u001b[0;34m.\u001b[0m\u001b[0msets\u001b[0m \u001b[0;34m=\u001b[0m \u001b[0;34m[\u001b[0m\u001b[0mCONNECTING\u001b[0m\u001b[0;34m(\u001b[0m\u001b[0mi\u001b[0m\u001b[0;34m,\u001b[0m \u001b[0mweights\u001b[0m\u001b[0;34m)\u001b[0m \u001b[0;32mfor\u001b[0m \u001b[0mi\u001b[0m \u001b[0;32min\u001b[0m \u001b[0mrange\u001b[0m\u001b[0;34m(\u001b[0m\u001b[0mN\u001b[0m\u001b[0;34m)\u001b[0m\u001b[0;34m]\u001b[0m\u001b[0;34m\u001b[0m\u001b[0;34m\u001b[0m\u001b[0m\n\u001b[0m\u001b[1;32m     13\u001b[0m \u001b[0;34m\u001b[0m\u001b[0m\n\u001b[1;32m     14\u001b[0m         \u001b[0mself\u001b[0m\u001b[0;34m.\u001b[0m\u001b[0mtwoCupArr\u001b[0m \u001b[0;34m=\u001b[0m \u001b[0;34m[\u001b[0m\u001b[0;34m]\u001b[0m\u001b[0;34m\u001b[0m\u001b[0;34m\u001b[0m\u001b[0m\n",
            "\u001b[0;32m<ipython-input-20-e1b737e58b43>\u001b[0m in \u001b[0;36m<listcomp>\u001b[0;34m(.0)\u001b[0m\n\u001b[1;32m     10\u001b[0m         \u001b[0mself\u001b[0m\u001b[0;34m.\u001b[0m\u001b[0mth\u001b[0m \u001b[0;34m=\u001b[0m \u001b[0;34m-\u001b[0m\u001b[0;36m70\u001b[0m\u001b[0;34m\u001b[0m\u001b[0;34m\u001b[0m\u001b[0m\n\u001b[1;32m     11\u001b[0m         \u001b[0mself\u001b[0m\u001b[0;34m.\u001b[0m\u001b[0mmaindelay\u001b[0m \u001b[0;34m=\u001b[0m \u001b[0mlateralDelay\u001b[0m\u001b[0;34m\u001b[0m\u001b[0;34m\u001b[0m\u001b[0m\n\u001b[0;32m---> 12\u001b[0;31m         \u001b[0mself\u001b[0m\u001b[0;34m.\u001b[0m\u001b[0msets\u001b[0m \u001b[0;34m=\u001b[0m \u001b[0;34m[\u001b[0m\u001b[0mCONNECTING\u001b[0m\u001b[0;34m(\u001b[0m\u001b[0mi\u001b[0m\u001b[0;34m,\u001b[0m \u001b[0mweights\u001b[0m\u001b[0;34m)\u001b[0m \u001b[0;32mfor\u001b[0m \u001b[0mi\u001b[0m \u001b[0;32min\u001b[0m \u001b[0mrange\u001b[0m\u001b[0;34m(\u001b[0m\u001b[0mN\u001b[0m\u001b[0;34m)\u001b[0m\u001b[0;34m]\u001b[0m\u001b[0;34m\u001b[0m\u001b[0;34m\u001b[0m\u001b[0m\n\u001b[0m\u001b[1;32m     13\u001b[0m \u001b[0;34m\u001b[0m\u001b[0m\n\u001b[1;32m     14\u001b[0m         \u001b[0mself\u001b[0m\u001b[0;34m.\u001b[0m\u001b[0mtwoCupArr\u001b[0m \u001b[0;34m=\u001b[0m \u001b[0;34m[\u001b[0m\u001b[0;34m]\u001b[0m\u001b[0;34m\u001b[0m\u001b[0;34m\u001b[0m\u001b[0m\n",
            "\u001b[0;32m<ipython-input-19-efa80bbd9c01>\u001b[0m in \u001b[0;36m__init__\u001b[0;34m(self, M, weights, delay1, delay2, delay3, delay4)\u001b[0m\n\u001b[1;32m     20\u001b[0m         \u001b[0;31m# #Giving current pulse\u001b[0m\u001b[0;34m\u001b[0m\u001b[0;34m\u001b[0m\u001b[0;34m\u001b[0m\u001b[0m\n\u001b[1;32m     21\u001b[0m         \u001b[0mself\u001b[0m\u001b[0;34m.\u001b[0m\u001b[0mstim\u001b[0m \u001b[0;34m=\u001b[0m \u001b[0mh\u001b[0m\u001b[0;34m.\u001b[0m\u001b[0mVClamp\u001b[0m\u001b[0;34m(\u001b[0m\u001b[0mself\u001b[0m\u001b[0;34m.\u001b[0m\u001b[0morn\u001b[0m\u001b[0;34m.\u001b[0m\u001b[0mdend\u001b[0m\u001b[0;34m(\u001b[0m\u001b[0;36m0.5\u001b[0m\u001b[0;34m)\u001b[0m\u001b[0;34m)\u001b[0m\u001b[0;34m\u001b[0m\u001b[0;34m\u001b[0m\u001b[0m\n\u001b[0;32m---> 22\u001b[0;31m         \u001b[0mself\u001b[0m\u001b[0;34m.\u001b[0m\u001b[0mstim\u001b[0m\u001b[0;34m.\u001b[0m\u001b[0mdelay\u001b[0m \u001b[0;34m=\u001b[0m \u001b[0;36m10\u001b[0m\u001b[0;34m\u001b[0m\u001b[0;34m\u001b[0m\u001b[0m\n\u001b[0m\u001b[1;32m     23\u001b[0m         \u001b[0mself\u001b[0m\u001b[0;34m.\u001b[0m\u001b[0mstim\u001b[0m\u001b[0;34m.\u001b[0m\u001b[0mdur\u001b[0m \u001b[0;34m=\u001b[0m \u001b[0;36m100\u001b[0m\u001b[0;34m\u001b[0m\u001b[0;34m\u001b[0m\u001b[0m\n\u001b[1;32m     24\u001b[0m         \u001b[0mself\u001b[0m\u001b[0;34m.\u001b[0m\u001b[0mstim\u001b[0m\u001b[0;34m.\u001b[0m\u001b[0mamp\u001b[0m \u001b[0;34m=\u001b[0m \u001b[0;36m0\u001b[0m\u001b[0;34m\u001b[0m\u001b[0;34m\u001b[0m\u001b[0m\n",
            "\u001b[0;31mLookupError\u001b[0m: 'delay' is not a defined hoc variable name."
          ]
        }
      ],
      "source": [
        "#Give N value to get N no. of 2 coupled neurons laterally connected\n",
        "#given_input_from_user = int(input('Enter the number of 2 coupled sets required: '))\n",
        "import numpy as np\n",
        "# size = 5\n",
        "low, high = 1, 5\n",
        "# all_weights = np.random.uniform(low, high,2*given_input_from_user-1)\n",
        "# all_weights = [4.65058555, 2.92840154, 3.68134116, 1.30487304, 1.07771946, 3.15136447, 1.04247865, 2.29878494, 2.01195344]\n",
        "# all_weights = [0.95336892, 0.87793015, 0.71060386, 0.88298338, 0.84561174, 0.5006465, 0.60983793, 0.88890724, 0.85189888]\n",
        "L1=LATERAL(size,weights)"
      ],
      "id": "665f6425"
    },
    {
      "cell_type": "markdown",
      "metadata": {
        "id": "VWHFMMFXWjhI"
      },
      "source": [
        "# Show Topology"
      ],
      "id": "VWHFMMFXWjhI"
    },
    {
      "cell_type": "code",
      "execution_count": null,
      "metadata": {
        "id": "0e0ed526"
      },
      "outputs": [],
      "source": [
        "h.topology()"
      ],
      "id": "0e0ed526"
    },
    {
      "cell_type": "code",
      "execution_count": null,
      "metadata": {
        "id": "NtGysxQGod5k"
      },
      "outputs": [],
      "source": [
        "# # from neuron import h, gui\n",
        "# from matplotlib import pyplot as plt\n",
        "# import numpy\n",
        "# for sec in h.allsec():\n",
        "#     sec.nseg = 1\n",
        "#     for seg in sec:\n",
        "#         seg.diam = numpy.interp(seg.x, [0, 1], [10, 40])\n",
        "\n",
        "# s = h.Shape()\n",
        "# s.show(1)\n",
        "# # s.color(2, sec=a) # color section \"a\" red\n",
        "# # h.topology()\n",
        "# h.finitialize(-65)\n",
        "        \n",
        "# fig = plt.figure()\n",
        "# fig.set_figwidth(16)\n",
        "# fig.set_figheight(9)\n",
        "# ax = fig.add_subplot(projection='3d')\n",
        "\n",
        "# MCell=[]\n",
        "# GCell=[]\n",
        "# ORNCell=[]\n",
        "# ORNCellPlot=[[],[],[]]\n",
        "# MCellPlot=[[],[],[]]\n",
        "# GCellPlot=[[],[],[]]\n",
        "# h.finitialize()\n",
        "# for sec in h.allsec():\n",
        "#     if 'ORNcell' in repr(sec):\n",
        "#         ORNCell.append(sec)\n",
        "#     elif 'Mcell' in repr(sec):\n",
        "#         MCell.append(sec)\n",
        "#     elif 'Gcell' in repr(sec):\n",
        "#         GCell.append(sec)\n",
        "\n",
        "# for sec in ORNCell:\n",
        "#     for i in range(sec.n3d()):\n",
        "#         ORNCellPlot[0].append(sec.x3d(i))\n",
        "#         ORNCellPlot[1].append(sec.y3d(i))\n",
        "#         ORNCellPlot[2].append(sec.z3d(i))\n",
        "# for sec in MCell:\n",
        "#     for i in range(sec.n3d()):\n",
        "#         MCellPlot[0].append(sec.x3d(i))\n",
        "#         MCellPlot[1].append(sec.y3d(i))\n",
        "#         MCellPlot[2].append(sec.z3d(i))\n",
        "# for sec in GCell:\n",
        "#     for i in range(sec.n3d()):\n",
        "#         GCellPlot[0].append(sec.x3d(i))\n",
        "#         GCellPlot[1].append(sec.y3d(i))\n",
        "#         GCellPlot[2].append(sec.z3d(i))\n",
        "# #         print(sec.x3d(i), sec.y3d(i), sec.z3d(i))\n",
        "# # print(ORNCellPlot, MCellPlot,GCellPlot)\n",
        "# ax.scatter(ORNCellPlot[0], ORNCellPlot[1], ORNCellPlot[2], label='ORN')\n",
        "# ax.scatter(MCellPlot[0], MCellPlot[1], MCellPlot[2], label='MCell')\n",
        "# ax.scatter(GCellPlot[0], GCellPlot[1], GCellPlot[2], label='GCell')\n",
        "\n",
        "# ax.set_xlabel('X coord')\n",
        "# ax.set_ylabel('Y coord')\n",
        "# ax.set_zlabel('Z coord')\n",
        "# ax.legend()\n",
        "\n",
        "# plt.show()"
      ],
      "id": "NtGysxQGod5k"
    },
    {
      "cell_type": "code",
      "execution_count": null,
      "metadata": {
        "id": "3a2432d7"
      },
      "outputs": [],
      "source": [
        "# from neuron import h, gui2\n",
        "# gui2.set_backend('jupyter')\n",
        "# ps = gui2.PlotShape()\n",
        "# ps.variable('v')\n",
        "# ps.show(0)"
      ],
      "id": "3a2432d7"
    },
    {
      "cell_type": "code",
      "execution_count": null,
      "metadata": {
        "id": "VeLKBDd4lIN9"
      },
      "outputs": [],
      "source": [
        "import math\n",
        "def drawline(pre, post, ax):\n",
        "#     ps.beginline()\n",
        "#     print(\"Pre:\", pre.axon.x3d(1), pre.axon.y3d(1), pre.axon.z3d(1))\n",
        "#     print(\"Post:\", post.axon.x3d(1), post.axon.y3d(1), post.axon.z3d(1))\n",
        "\n",
        "    pre_x, pre_y, pre_z = pre.axon.x3d(0), pre.axon.y3d(0), pre.axon.z3d(0)\n",
        "    post_x, post_y, post_z = post.axon.x3d(1), post.axon.y3d(1), post.axon.z3d(1)\n",
        "#     print(\"pre_x\", pre_x, post_x,\"pre_y\", pre_y, post_y,\"pre_z\", pre_z, post_z)\n",
        "    ax.plot([pre_x, post_x], [pre_y, post_y], [pre_z, post_z])"
      ],
      "id": "VeLKBDd4lIN9"
    },
    {
      "cell_type": "code",
      "execution_count": null,
      "metadata": {
        "id": "2jOVUuyWgaN8"
      },
      "outputs": [],
      "source": [
        "%matplotlib notebook\n",
        "from neuron import h\n",
        "from matplotlib import pyplot\n",
        "ps = h.PlotShape(False)  # False tells h.PlotShape not to use NEURON's gui\n",
        "ps.plot(pyplot)\n",
        "fig = pyplot.figure(1)\n",
        "ax = fig.axes[0]\n",
        "print(\"Two-coupled\")\n",
        "for i in L1.twoCupArr:\n",
        "    # get into netconList\n",
        "    for j in i:\n",
        "        # get P1 and P2\n",
        "        drawline(j.precell(), j.postcell(), ax)\n",
        "print('Four-coupled:')\n",
        "for i in L1.fourCupArr:\n",
        "    # get into netConList\n",
        "    for j in i:\n",
        "        drawline(j.precell(), j.postcell(),ax)\n",
        "\n",
        "\n",
        "pyplot.show()\n",
        "# ps.show()"
      ],
      "id": "2jOVUuyWgaN8"
    },
    {
      "cell_type": "markdown",
      "metadata": {
        "id": "N5NCjS3XWr6s"
      },
      "source": [
        "# Voltages before Learning"
      ],
      "id": "N5NCjS3XWr6s"
    },
    {
      "cell_type": "code",
      "execution_count": null,
      "metadata": {
        "id": "AHz7-xsesMqf"
      },
      "outputs": [],
      "source": [
        "%matplotlib inline"
      ],
      "id": "AHz7-xsesMqf"
    },
    {
      "cell_type": "code",
      "execution_count": null,
      "metadata": {
        "id": "kgGo1OVEJeIV"
      },
      "outputs": [],
      "source": [
        "plotCell(L1.DPC, 'DPC')"
      ],
      "id": "kgGo1OVEJeIV"
    },
    {
      "cell_type": "code",
      "execution_count": null,
      "metadata": {
        "id": "cd04db13"
      },
      "outputs": [],
      "source": [
        "plotCell(L1.sets[0].orn, 'ORN')"
      ],
      "id": "cd04db13"
    },
    {
      "cell_type": "code",
      "execution_count": null,
      "metadata": {
        "id": "88eaf376"
      },
      "outputs": [],
      "source": [
        "plotCell(L1.sets[0].M1, 'M1', '(4-coupled)')"
      ],
      "id": "88eaf376"
    },
    {
      "cell_type": "code",
      "execution_count": null,
      "metadata": {
        "id": "abb566c5"
      },
      "outputs": [],
      "source": [
        "plotCell(L1.sets[0].M2, 'M2', '(4-coupled)')"
      ],
      "id": "abb566c5"
    },
    {
      "cell_type": "code",
      "execution_count": null,
      "metadata": {
        "id": "35b7d6f9"
      },
      "outputs": [],
      "source": [
        "plotCell(L1.sets[0].G1, 'G1', '(4-coupled)')"
      ],
      "id": "35b7d6f9"
    },
    {
      "cell_type": "code",
      "execution_count": null,
      "metadata": {
        "id": "8bd92108"
      },
      "outputs": [],
      "source": [
        "plotCell(L1.sets[0].G2, 'G2', '(4-coupled)')"
      ],
      "id": "8bd92108"
    },
    {
      "cell_type": "code",
      "execution_count": null,
      "metadata": {
        "id": "5b8e99cc"
      },
      "outputs": [],
      "source": [
        "plotCell(L1.sets[0].P1, 'P1', '(2-coupled)')"
      ],
      "id": "5b8e99cc"
    },
    {
      "cell_type": "code",
      "execution_count": null,
      "metadata": {
        "id": "wZvBRuU2aQoc"
      },
      "outputs": [],
      "source": [
        "plotCell(L1.sets[0].P2, 'P2', '(2-coupled)')"
      ],
      "id": "wZvBRuU2aQoc"
    },
    {
      "cell_type": "markdown",
      "metadata": {
        "id": "8b2874e2"
      },
      "source": [
        "# Voltage vs Voltage analysis"
      ],
      "id": "8b2874e2"
    },
    {
      "cell_type": "code",
      "execution_count": null,
      "metadata": {
        "id": "acc174de"
      },
      "outputs": [],
      "source": [
        "%matplotlib inline\n",
        "recording_cell = L1.sets[0].P1\n",
        "recording_cell_2 = L1.sets[0].P2\n",
        "axon_m1 = h.Vector().record(recording_cell.axon(0.5)._ref_v)\n",
        "dend_m1 = h.Vector().record(recording_cell.dend(0.5)._ref_v)\n",
        "axon_m2 = h.Vector().record(recording_cell_2.axon(0.5)._ref_v)\n",
        "dend_m2 = h.Vector().record(recording_cell_2.dend(0.5)._ref_v)\n",
        "t = h.Vector().record(h._ref_t)\n",
        "\n",
        "h.finitialize(-70 * mV)\n",
        "h.continuerun(200 * ms)\n",
        "\n",
        "# f = plt2.figure(x_axis_label='v (mV)', y_axis_label='v (mV)')\n",
        "# f.line(list(axon_m1), list(axon_m2), line_width=1,legend_label='P1 axon vs P2 axon (2-coupled)',line_color='black')\n",
        "# f2 = plt2.figure(x_axis_label='v (mV)', y_axis_label='v (mV)')\n",
        "# f2.line(list(dend_m1), list(dend_m2), line_width=2,legend_label='P1 dendrite vs P2 dendrite (2-coupled)',line_color='black')\n",
        "# plt2.show(f)\n",
        "# plt2.show(f2)\n",
        "\n",
        "fig, axs = plt1.subplots(2, figsize=(16,18))\n",
        "axs[0].plot(list(axon_m1), list(axon_m2), label='P1 axon vs P2 axon (2-coupled)')\n",
        "axs[0].legend(loc=\"upper right\")\n",
        "axs[0].set_xlabel('t (ms)')\n",
        "axs[0].set_ylabel('v (mV)')\n",
        "axs[1].plot(list(dend_m1),list(dend_m2), label='P1 dendrite vs P2 dendrite (2-coupled)')\n",
        "axs[1].legend(loc=\"upper right\")\n",
        "axs[1].set_xlabel('t (ms)')\n",
        "axs[1].set_ylabel('v (mV)')\n",
        "plt1.show()"
      ],
      "id": "acc174de"
    },
    {
      "cell_type": "code",
      "execution_count": null,
      "metadata": {
        "id": "af37e656"
      },
      "outputs": [],
      "source": [
        "recording_cell = L1.sets[0].P1\n",
        "recording_cell_2 = L1.sets[0].P2\n",
        "axon_m1 = h.Vector().record(recording_cell.axon(0.5)._ref_v)\n",
        "dend_m1 = h.Vector().record(recording_cell.dend(0.5)._ref_v)\n",
        "axon_m2 = h.Vector().record(recording_cell_2.axon(0.5)._ref_v)\n",
        "dend_m2 = h.Vector().record(recording_cell_2.dend(0.5)._ref_v)\n",
        "t = h.Vector().record(h._ref_t)\n",
        "\n",
        "h.finitialize(-70 * mV)\n",
        "h.continuerun(200 * ms)\n",
        "\n",
        "fig, axs = plt1.subplots(2, figsize=(16,18))\n",
        "axs[0].plot(list(axon_m1), list(axon_m2), label='P1 axon vs P2 axon (2-coupled)')\n",
        "axs[0].legend(loc=\"upper right\")\n",
        "axs[0].set_xlabel('t (ms)')\n",
        "axs[0].set_ylabel('v (mV)')\n",
        "axs[1].plot(list(dend_m1),list(dend_m2), label='P1 dendrite vs P2 dendrite (2-coupled)')\n",
        "axs[1].legend(loc=\"upper right\")\n",
        "axs[1].set_xlabel('t (ms)')\n",
        "axs[1].set_ylabel('v (mV)')\n",
        "plt1.show()"
      ],
      "id": "af37e656"
    },
    {
      "cell_type": "code",
      "execution_count": null,
      "metadata": {
        "id": "f47d7f5d"
      },
      "outputs": [],
      "source": [
        "recording_cell = L1.sets[0].G1\n",
        "recording_cell_2 = L1.sets[0].G2\n",
        "axon_m1 = h.Vector().record(recording_cell.axon(0.5)._ref_v)\n",
        "dend_m1 = h.Vector().record(recording_cell.dend(0.5)._ref_v)\n",
        "axon_m2 = h.Vector().record(recording_cell_2.axon(0.5)._ref_v)\n",
        "dend_m2 = h.Vector().record(recording_cell_2.dend(0.5)._ref_v)\n",
        "t = h.Vector().record(h._ref_t)\n",
        "\n",
        "h.finitialize(-70 * mV)\n",
        "h.continuerun(200 * ms)\n",
        "fig, axs = plt1.subplots(2, figsize=(16,18))\n",
        "axs[0].plot(list(axon_m1), list(axon_m2), label='G1 axon vs G2 axon (4-coupled)')\n",
        "axs[0].legend(loc=\"upper right\")\n",
        "axs[0].set_xlabel('t (ms)')\n",
        "axs[0].set_ylabel('v (mV)')\n",
        "axs[1].plot(list(dend_m1),list(dend_m2), label='G1 dendrite vs G2 dendrite (4-coupled)')\n",
        "axs[1].legend(loc=\"upper right\")\n",
        "axs[1].set_xlabel('t (ms)')\n",
        "axs[1].set_ylabel('v (mV)')\n",
        "plt1.show()"
      ],
      "id": "f47d7f5d"
    },
    {
      "cell_type": "code",
      "execution_count": null,
      "metadata": {
        "id": "5FQ42tT8nFlj"
      },
      "outputs": [],
      "source": [
        "import numpy\n",
        "\n",
        "OB_axon = []\n",
        "OB_dend = []\n",
        "AON_axon = []\n",
        "AON_dend = []\n",
        "for i in L1.sets:\n",
        "    for j in enumerate(i.cells):\n",
        "        if j[0] > 2:\n",
        "            OB_axon.append(h.Vector().record(j[1].axon(0.5)._ref_v))\n",
        "            OB_dend.append(h.Vector().record(j[1].dend(0.5)._ref_v))\n",
        "\n",
        "for i in L1.AON.cells:\n",
        "    AON_axon.append(h.Vector().record(i.axon(0.5)._ref_v))\n",
        "    AON_dend.append(h.Vector().record(i.dend(0.5)._ref_v))\n",
        "t = h.Vector().record(h._ref_t)\n",
        "\n",
        "h.finitialize(-70 * mV)\n",
        "h.continuerun(200 * ms)\n",
        "\n",
        "OB_axon_plot = np.mean(OB_axon, 0)\n",
        "OB_dend_plot = np.mean(OB_dend, 0)\n",
        "AON_axon_plot = np.mean(AON_axon, 0)\n",
        "AON_dend_plot = np.mean(AON_dend, 0)\n",
        "\n",
        "fig, axs = plt1.subplots(2, figsize=(16,18))\n",
        "axs[0].plot(list(OB_axon_plot), list(AON_axon_plot), label='OB axon vs AON axon')\n",
        "axs[0].legend(loc=\"upper right\")\n",
        "axs[0].set_xlabel('t (ms)')\n",
        "axs[0].set_ylabel('v (mV)')\n",
        "axs[1].plot(list(OB_dend_plot),list(AON_dend_plot), label='OB dendrite vs AON dendrite')\n",
        "axs[1].legend(loc=\"upper right\")\n",
        "axs[1].set_xlabel('t (ms)')\n",
        "axs[1].set_ylabel('v (mV)')\n",
        "plt1.show()"
      ],
      "id": "5FQ42tT8nFlj"
    },
    {
      "cell_type": "code",
      "execution_count": null,
      "metadata": {
        "id": "UuUaM8xlpZmW"
      },
      "outputs": [],
      "source": [
        "import numpy\n",
        "\n",
        "OB_axon = []\n",
        "OB_dend = []\n",
        "two_axon = []\n",
        "two_dend = []\n",
        "for i in L1.sets:\n",
        "    for j in enumerate(i.cells):\n",
        "        if j[0] > 2:\n",
        "            OB_axon.append(h.Vector().record(j[1].axon(0.5)._ref_v))\n",
        "            OB_dend.append(h.Vector().record(j[1].dend(0.5)._ref_v))\n",
        "\n",
        "for i in L1.sets:\n",
        "    for j in enumerate(i.cells):\n",
        "        if j[0] < 2:\n",
        "            two_axon.append(h.Vector().record(j[1].axon(0.5)._ref_v))\n",
        "            two_dend.append(h.Vector().record(j[1].dend(0.5)._ref_v))\n",
        "t = h.Vector().record(h._ref_t)\n",
        "\n",
        "h.finitialize(-70 * mV)\n",
        "h.continuerun(200 * ms)\n",
        "\n",
        "OB_axon_plot = np.mean(OB_axon, 0)\n",
        "OB_dend_plot = np.mean(OB_dend, 0)\n",
        "two_axon_plot = np.mean(two_axon, 0)\n",
        "two_dend_plot = np.mean(two_dend, 0)\n",
        "\n",
        "fig, axs = plt1.subplots(2, figsize=(16,18))\n",
        "axs[0].plot(list(OB_axon_plot), list(two_axon_plot), label='OB axon vs 2-coupled axon')\n",
        "axs[0].legend(loc=\"upper right\")\n",
        "axs[0].set_xlabel('v (mV)')\n",
        "axs[0].set_ylabel('v (mV)')\n",
        "axs[1].plot(list(OB_dend_plot),list(two_dend_plot), label='OB dendrite vs 2-coupled dendrite')\n",
        "axs[1].legend(loc=\"upper right\")\n",
        "axs[1].set_xlabel('v (mv)')\n",
        "axs[1].set_ylabel('v (mV)')\n",
        "plt1.show()"
      ],
      "id": "UuUaM8xlpZmW"
    },
    {
      "cell_type": "code",
      "execution_count": null,
      "metadata": {
        "id": "G2J7jHBzq9VZ"
      },
      "outputs": [],
      "source": [
        "import numpy\n",
        "\n",
        "OB_axon = []\n",
        "OB_dend = []\n",
        "PC_axon = []\n",
        "PC_dend = []\n",
        "for i in L1.sets:\n",
        "    for j in enumerate(i.cells):\n",
        "        if j[0] > 2:\n",
        "            OB_axon.append(h.Vector().record(j[1].axon(0.5)._ref_v))\n",
        "            OB_dend.append(h.Vector().record(j[1].dend(0.5)._ref_v))\n",
        "\n",
        "for i in L1.PC.cells:\n",
        "    PC_axon.append(h.Vector().record(i.axon(0.5)._ref_v))\n",
        "    PC_dend.append(h.Vector().record(i.dend(0.5)._ref_v))\n",
        "t = h.Vector().record(h._ref_t)\n",
        "\n",
        "h.finitialize(-70 * mV)\n",
        "h.continuerun(200 * ms)\n",
        "\n",
        "OB_axon_plot = np.mean(OB_axon, 0)\n",
        "OB_dend_plot = np.mean(OB_dend, 0)\n",
        "PC_axon_plot = np.mean(PC_axon, 0)\n",
        "PC_dend_plot = np.mean(PC_dend, 0)\n",
        "\n",
        "fig, axs = plt1.subplots(2, figsize=(16,18))\n",
        "axs[0].plot(list(OB_axon_plot), list(PC_axon_plot), label='OB axon vs PC axon')\n",
        "axs[0].legend(loc=\"upper right\")\n",
        "axs[0].set_xlabel('v (mV)')\n",
        "axs[0].set_ylabel('v (mV)')\n",
        "axs[1].plot(list(OB_dend_plot),list(PC_dend_plot), label='OB dendrite vs PC dendrite')\n",
        "axs[1].legend(loc=\"upper right\")\n",
        "axs[1].set_xlabel('v (mV)')\n",
        "axs[1].set_ylabel('v (mV)')\n",
        "plt1.show()"
      ],
      "id": "G2J7jHBzq9VZ"
    },
    {
      "cell_type": "markdown",
      "metadata": {
        "id": "RfdTmzQdtIdp"
      },
      "source": [
        "# Scatter Plots (Before Learning)"
      ],
      "id": "RfdTmzQdtIdp"
    },
    {
      "cell_type": "code",
      "execution_count": null,
      "metadata": {
        "id": "fWQNP7d8tLje"
      },
      "outputs": [],
      "source": [
        "%matplotlib inline\n",
        "h.finitialize(-70*mV)\n",
        "h.continuerun(300*ms)\n",
        "color=['green','orange','blue','red', 'pink', 'purple']\n",
        "label=['P1', 'P2', 'M1','M2','G1','G2']\n",
        "plt1.figure(figsize=(16,10))\n",
        "for j in range(len(L1.sets)):\n",
        "  #for i,cell in enumerate(L1.sets[j].cells):\n",
        "    plt1.scatter(L1.sets[j].cells[0].spike_times, [0.5 + 0.7*j for i in range(len(L1.sets[j].cells[0].spike_times))], s=10,color=color[0]) # for P1\n",
        "    plt1.scatter(L1.sets[j].cells[1].spike_times, [0.7 + 0.7*j for i in range(len(L1.sets[j].cells[1].spike_times))], s=10, color=color[1]) # for P2\n",
        "    plt1.scatter(L1.sets[j].cells[2].spike_times, [0.9 + 0.7*j for i in range(len(L1.sets[j].cells[2].spike_times))], s=10, color=color[2]) # for M1\n",
        "    plt1.scatter(L1.sets[j].cells[3].spike_times, [1.1 + 0.7*j for i in range(len(L1.sets[j].cells[3].spike_times))], s=10, color=color[3]) # for M2\n",
        "    plt1.scatter(L1.sets[j].cells[4].spike_times, [1.3 + 0.7*j for i in range(len(L1.sets[j].cells[4].spike_times))], s=10, color=color[4]) # for G1\n",
        "    plt1.scatter(L1.sets[j].cells[5].spike_times, [1.5 + 0.7*j for i in range(len(L1.sets[j].cells[5].spike_times))], s=10, color=color[5]) # for G2\n",
        "\n",
        "plt1.xlabel('time(ms)')\n",
        "plt1.legend(label)\n",
        "plt1.show()"
      ],
      "id": "fWQNP7d8tLje"
    },
    {
      "cell_type": "markdown",
      "metadata": {
        "id": "8ba65a81"
      },
      "source": [
        "# Scratchpad"
      ],
      "id": "8ba65a81"
    },
    {
      "cell_type": "code",
      "execution_count": null,
      "metadata": {
        "id": "r1OpYqNWGErT"
      },
      "outputs": [],
      "source": [
        "# P1_axon_data = []\n",
        "# P2_axon_data = []\n",
        "# M1_axon_data = []\n",
        "# M2_axon_data = []\n",
        "# G1_axon_data = []\n",
        "# G2_axon_data = []\n",
        "\n",
        "\n",
        "# for i in range(len(L1.sets)):\n",
        "#     P1_axon_data.append(h.Vector().record(L1.sets[i].P1.axon(0.5)._ref_v))\n",
        "#     P2_axon_data.append(h.Vector().record(L1.sets[i].P2.axon(0.5)._ref_v))\n",
        "#     M1_axon_data.append(h.Vector().record(L1.sets[i].M1.axon(0.5)._ref_v))\n",
        "#     M2_axon_data.append(h.Vector().record(L1.sets[i].M2.axon(0.5)._ref_v))\n",
        "#     G1_axon_data.append(h.Vector().record(L1.sets[i].G1.axon(0.5)._ref_v))\n",
        "#     G2_axon_data.append(h.Vector().record(L1.sets[i].G2.axon(0.5)._ref_v))\n",
        "\n",
        "# t = h.Vector().record(h._ref_t)\n",
        "# h.finitialize(-70* mV)\n",
        "# h.continuerun(300*ms)\n",
        "\n",
        "# print(P1_axon_data)    \n",
        "# arr = np.array(P1_axon_data)\n",
        "# back_to_the_list = list(arr.sum(axis=0))\n",
        "# f = plt2.figure(x_axis_label='time')\n",
        "# f.line(P2_axon_data[0],P1_axon_data[0], line_width=1, line_color='black')\n",
        "# plt2.show(f)"
      ],
      "id": "r1OpYqNWGErT"
    },
    {
      "cell_type": "markdown",
      "metadata": {
        "id": "TL_yPmqSW-AZ"
      },
      "source": [
        "# Learning"
      ],
      "id": "TL_yPmqSW-AZ"
    },
    {
      "cell_type": "code",
      "execution_count": null,
      "metadata": {
        "cellView": "form",
        "id": "Xfmf2k-NDN29"
      },
      "outputs": [],
      "source": [
        "#@title Learning Mechanism { vertical-output: true }\n",
        "import sys, time\n",
        "tick = time.time()\n",
        "weight_data = []\n",
        "\n",
        "out = display(progress(0, epochs), display_id=True)\n",
        "\n",
        "for l in range(epochs):\n",
        "    #print(\"iteration no is\",l)\n",
        "    out.update(progress(l, epochs))    \n",
        "    # print(\"\\nmutual learning\")\n",
        "    P1_axon_data = []\n",
        "    P1_dend_data = []\n",
        "    P2_axon_data = []\n",
        "    P2_dend_data = []\n",
        "    M1_axon_data = []\n",
        "    M1_dend_data = []\n",
        "    M2_axon_data = []\n",
        "    M2_dend_data = []\n",
        "    G1_axon_data = []\n",
        "    G1_dend_data = []\n",
        "    G2_axon_data = []\n",
        "    G2_dend_data = []\n",
        "    P1_spike_times = []\n",
        "    P2_spike_times = []\n",
        "    M1_spike_times = []\n",
        "    M2_spike_times = []\n",
        "    G1_spike_times = []\n",
        "    G2_spike_times = []\n",
        "\n",
        "    h.finitialize(-70* mV)\n",
        "    h.continuerun(300*ms)\n",
        "    t = h.Vector().record(h._ref_t)\n",
        "    \n",
        "    for i in range(len(L1.sets)):\n",
        "        P1_axon_data.append(list(h.Vector().record(L1.sets[i].P1.axon(0.5)._ref_v)))\n",
        "        P1_dend_data.append(list(h.Vector().record(L1.sets[i].P1.dend(0.5)._ref_v)))\n",
        "        P1_spike_times.append(list(L1.sets[i].P1.spike_times))\n",
        "        P2_axon_data.append(list(h.Vector().record(L1.sets[i].P2.axon(0.5)._ref_v)))\n",
        "        P2_spike_times.append(list(L1.sets[i].P2.spike_times))\n",
        "        P2_dend_data.append(list(h.Vector().record(L1.sets[i].P2.dend(0.5)._ref_v)))\n",
        "        M1_axon_data.append(list(h.Vector().record(L1.sets[i].M1.axon(0.5)._ref_v)))\n",
        "        M1_dend_data.append(list(h.Vector().record(L1.sets[i].M1.dend(0.5)._ref_v)))\n",
        "        M1_spike_times.append(list(L1.sets[i].M1.spike_times))\n",
        "        M2_axon_data.append(list(h.Vector().record(L1.sets[i].M2.axon(0.5)._ref_v)))\n",
        "        M2_dend_data.append(list(h.Vector().record(L1.sets[i].M2.dend(0.5)._ref_v)))\n",
        "        M2_spike_times.append(list(L1.sets[i].M2.spike_times))\n",
        "        G1_axon_data.append(list(h.Vector().record(L1.sets[i].G1.axon(0.5)._ref_v)))\n",
        "        G1_dend_data.append(list(h.Vector().record(L1.sets[i].G1.dend(0.5)._ref_v)))\n",
        "        G1_spike_times.append(list(L1.sets[i].G1.spike_times))\n",
        "        G2_axon_data.append(list(h.Vector().record(L1.sets[i].G2.axon(0.5)._ref_v)))\n",
        "        G2_dend_data.append(list(h.Vector().record(L1.sets[i].G2.dend(0.5)._ref_v)))\n",
        "        G2_spike_times.append(list(L1.sets[i].G2.spike_times))\n",
        "\n",
        "   \n",
        "    # h.finitialize(-70 * mV)\n",
        "\n",
        "    for i in range(len(L1.sets)):\n",
        "        # 2-coupled STDP-based learning\n",
        "        L1.sets[i].nc1.weight[0] += generate_L_weight_delta(P1_spike_times[i], P2_spike_times[i])\n",
        "        # logging\n",
        "        # print(\"P1_axon\", P1_spike_times[i], P2_spike_times[i])\n",
        "        L1.sets[i].nc2.weight[0] += generate_L_weight_delta(P2_spike_times[i], P1_spike_times[i])\n",
        "        L1.sets[i].nc3.weight[0] += generate_L_weight_delta(P1_spike_times[i], M1_spike_times[i])\n",
        "        # 4-coupled STDP-based learning\n",
        "        L1.sets[i].nc4.weight[0] += generate_L_weight_delta(M1_spike_times[i], M2_spike_times[i])\n",
        "        L1.sets[i].nc5.weight[0] += generate_L_weight_delta(M2_spike_times[i], M1_spike_times[i])\n",
        "        L1.sets[i].nc6.weight[0] += generate_L_weight_delta(M2_spike_times[i], G1_spike_times[i])\n",
        "        L1.sets[i].nc7.weight[0] += generate_L_weight_delta(G1_spike_times[i], M2_spike_times[i])\n",
        "        L1.sets[i].nc8.weight[0] += generate_L_weight_delta(G1_spike_times[i], G2_spike_times[i])\n",
        "        L1.sets[i].nc9.weight[0] += generate_L_weight_delta(G2_spike_times[i], G1_spike_times[i])\n",
        "        L1.sets[i].nc10.weight[0] += generate_L_weight_delta(G2_spike_times[i], M1_spike_times[i])\n",
        "        L1.sets[i].nc11.weight[0] += generate_L_weight_delta(M1_spike_times[i], G2_spike_times[i])\n",
        "        L1.sets[i].nc12.weight[0] += generate_L_weight_delta(M1_spike_times[i], G1_spike_times[i])\n",
        "        L1.sets[i].nc13.weight[0] += generate_L_weight_delta(G1_spike_times[i], M1_spike_times[i])\n",
        "        # L1.sets[i].DPC.weight[0] += generate_L_weight_delta(G1_spike_times[i], M1_spike_times[i])\n",
        "        \n",
        "    # do a proper logging function\n",
        "    weight_data.append(L1.sets[0].nc1.weight[0])\n",
        "\n",
        "\n",
        "    #Lateral Learning\n",
        "    for i in range(len(L1.sets)-1):\n",
        "        # 2-coupled part\n",
        "        L1.twoCupArr[i][0].weight[0] += generate_L_weight_delta(P1_spike_times[i], P1_spike_times[i+1])\n",
        "        L1.twoCupArr[i][1].weight[0] += generate_L_weight_delta(P1_spike_times[i+1], P1_spike_times[i])\n",
        "        # 4-coupled part\n",
        "        L1.fourCupArr[i][0].weight[0] += generate_L_weight_delta(M1_spike_times[i], M1_spike_times[i+1])\n",
        "        L1.fourCupArr[i][1].weight[0] += generate_L_weight_delta(M1_spike_times[i+1], M1_spike_times[i])\n",
        "        L1.fourCupArr[i][2].weight[0] += generate_L_weight_delta(G1_spike_times[i], G1_spike_times[i+1])\n",
        "        L1.fourCupArr[i][3].weight[0] += generate_L_weight_delta(G1_spike_times[i+1], G1_spike_times[i])\n",
        "    # plotCell(L1.sets[-1].M1, 'M1')\n",
        "\n",
        "\n",
        "out.update(progress(epochs, epochs))    \n",
        "tock = time.time()\n",
        "print(\"The time it took to learn\", tock-tick, \"seconds\")"
      ],
      "id": "Xfmf2k-NDN29"
    },
    {
      "cell_type": "code",
      "execution_count": null,
      "metadata": {
        "cellView": "form",
        "id": "n-sh-9ksMxO1"
      },
      "outputs": [],
      "source": [
        "#@title Time Taken { vertical-output: true }\n",
        "totalend = time.time()\n",
        "print(\"Total time it took: \", totalend-totalstart)"
      ],
      "id": "n-sh-9ksMxO1"
    },
    {
      "cell_type": "markdown",
      "metadata": {
        "id": "4tGgp4nPXab1"
      },
      "source": [
        "# Voltage vs Voltage Analysis (After Learning)"
      ],
      "id": "4tGgp4nPXab1"
    },
    {
      "cell_type": "code",
      "execution_count": null,
      "metadata": {
        "id": "KdmcamZlPYm4"
      },
      "outputs": [],
      "source": [
        "import numpy\n",
        "\n",
        "OB_axon = []\n",
        "OB_dend = []\n",
        "AON_axon = []\n",
        "AON_dend = []\n",
        "for i in L1.sets:\n",
        "    for j in enumerate(i.cells):\n",
        "        if j[0] > 2:\n",
        "            OB_axon.append(h.Vector().record(j[1].axon(0.5)._ref_v))\n",
        "            OB_dend.append(h.Vector().record(j[1].dend(0.5)._ref_v))\n",
        "\n",
        "for i in L1.AON.cells:\n",
        "    AON_axon.append(h.Vector().record(i.axon(0.5)._ref_v))\n",
        "    AON_dend.append(h.Vector().record(i.dend(0.5)._ref_v))\n",
        "t = h.Vector().record(h._ref_t)\n",
        "\n",
        "h.finitialize(-70 * mV)\n",
        "h.continuerun(200 * ms)\n",
        "\n",
        "OB_axon_plot = np.mean(OB_axon, 0)\n",
        "OB_dend_plot = np.mean(OB_dend, 0)\n",
        "AON_axon_plot = np.mean(AON_axon, 0)\n",
        "AON_dend_plot = np.mean(AON_dend, 0)\n",
        "\n",
        "fig, axs = plt1.subplots(2, figsize=(16,18))\n",
        "axs[0].plot(list(OB_axon_plot), list(AON_axon_plot), label='OB axon vs AON axon')\n",
        "axs[0].legend(loc=\"upper right\")\n",
        "axs[0].set_xlabel('v (mV)')\n",
        "axs[0].set_ylabel('v (mV)')\n",
        "axs[1].plot(list(OB_dend_plot),list(AON_dend_plot), label='OB dendrite vs AON dendrite')\n",
        "axs[1].legend(loc=\"upper right\")\n",
        "axs[1].set_xlabel('v (mV)')\n",
        "axs[1].set_ylabel('v (mV)')\n",
        "plt1.show()"
      ],
      "id": "KdmcamZlPYm4"
    },
    {
      "cell_type": "code",
      "execution_count": null,
      "metadata": {
        "id": "wNYluUPKPYnC"
      },
      "outputs": [],
      "source": [
        "import numpy\n",
        "\n",
        "OB_axon = []\n",
        "OB_dend = []\n",
        "two_axon = []\n",
        "two_dend = []\n",
        "for i in L1.sets:\n",
        "    for j in enumerate(i.cells):\n",
        "        if j[0] > 2:\n",
        "            OB_axon.append(h.Vector().record(j[1].axon(0.5)._ref_v))\n",
        "            OB_dend.append(h.Vector().record(j[1].dend(0.5)._ref_v))\n",
        "\n",
        "for i in L1.sets:\n",
        "    for j in enumerate(i.cells):\n",
        "        if j[0] < 2:\n",
        "            two_axon.append(h.Vector().record(j[1].axon(0.5)._ref_v))\n",
        "            two_dend.append(h.Vector().record(j[1].dend(0.5)._ref_v))\n",
        "t = h.Vector().record(h._ref_t)\n",
        "\n",
        "h.finitialize(-70 * mV)\n",
        "h.continuerun(200 * ms)\n",
        "\n",
        "OB_axon_plot = np.mean(OB_axon, 0)\n",
        "OB_dend_plot = np.mean(OB_dend, 0)\n",
        "two_axon_plot = np.mean(two_axon, 0)\n",
        "two_dend_plot = np.mean(two_dend, 0)\n",
        "\n",
        "fig, axs = plt1.subplots(2, figsize=(16,18))\n",
        "axs[0].plot(list(OB_axon_plot), list(two_axon_plot), label='OB axon vs 2-coupled axon')\n",
        "axs[0].legend(loc=\"upper right\")\n",
        "axs[0].set_xlabel('v (mV)')\n",
        "axs[0].set_ylabel('v (mV)')\n",
        "axs[1].plot(list(OB_dend_plot),list(two_dend_plot), label='OB dendrite vs 2-coupled dendrite')\n",
        "axs[1].legend(loc=\"upper right\")\n",
        "axs[1].set_xlabel('v (mV)')\n",
        "axs[1].set_ylabel('v (mV)')\n",
        "plt1.show()"
      ],
      "id": "wNYluUPKPYnC"
    },
    {
      "cell_type": "code",
      "execution_count": null,
      "metadata": {
        "id": "-BH_-ksaPYnC"
      },
      "outputs": [],
      "source": [
        "import numpy\n",
        "\n",
        "OB_axon = []\n",
        "OB_dend = []\n",
        "PC_axon = []\n",
        "PC_dend = []\n",
        "for i in L1.sets:\n",
        "    for j in enumerate(i.cells):\n",
        "        if j[0] > 2:\n",
        "            OB_axon.append(h.Vector().record(j[1].axon(0.5)._ref_v))\n",
        "            OB_dend.append(h.Vector().record(j[1].dend(0.5)._ref_v))\n",
        "\n",
        "for i in L1.PC.cells:\n",
        "    PC_axon.append(h.Vector().record(i.axon(0.5)._ref_v))\n",
        "    PC_dend.append(h.Vector().record(i.dend(0.5)._ref_v))\n",
        "t = h.Vector().record(h._ref_t)\n",
        "\n",
        "h.finitialize(-70 * mV)\n",
        "h.continuerun(200 * ms)\n",
        "\n",
        "OB_axon_plot = np.mean(OB_axon, 0)\n",
        "OB_dend_plot = np.mean(OB_dend, 0)\n",
        "PC_axon_plot = np.mean(PC_axon, 0)\n",
        "PC_dend_plot = np.mean(PC_dend, 0)\n",
        "\n",
        "fig, axs = plt1.subplots(2, figsize=(16,18))\n",
        "axs[0].plot(list(OB_axon_plot), list(PC_axon_plot), label='OB axon vs PC axon')\n",
        "axs[0].legend(loc=\"upper right\")\n",
        "axs[0].set_xlabel('v (mV)')\n",
        "axs[0].set_ylabel('v (mV)')\n",
        "axs[1].plot(list(OB_dend_plot),list(PC_dend_plot), label='OB dendrite vs PC dendrite')\n",
        "axs[1].legend(loc=\"upper right\")\n",
        "axs[1].set_xlabel('v (mV)')\n",
        "axs[1].set_ylabel('v (mV)')\n",
        "plt1.show()"
      ],
      "id": "-BH_-ksaPYnC"
    },
    {
      "cell_type": "code",
      "execution_count": null,
      "metadata": {
        "id": "heuZils4vn16"
      },
      "outputs": [],
      "source": [
        "recording_cell = L1.sets[-1].M1\n",
        "recording_cell_2 = L1.AON.M1\n",
        "axon_m1 = h.Vector().record(recording_cell.axon(0.5)._ref_v)\n",
        "dend_m1 = h.Vector().record(recording_cell.dend(0.5)._ref_v)\n",
        "axon_m2 = h.Vector().record(recording_cell_2.axon(0.5)._ref_v)\n",
        "dend_m2 = h.Vector().record(recording_cell_2.dend(0.5)._ref_v)\n",
        "t = h.Vector().record(h._ref_t)\n",
        "\n",
        "h.finitialize(-70 * mV)\n",
        "h.continuerun(200 * ms)\n",
        "\n",
        "# f = plt2.figure(x_axis_label='M1 Axon v (mV)', y_axis_label='AON Axon v (mV)')\n",
        "# f.line(list(axon_m1), list(axon_m2), line_width=1,legend_label='4-coupled M1 axon vs AON axon',line_color='black')\n",
        "# f2 = plt2.figure(x_axis_label='M1 Dendrite v (mV)', y_axis_label='AON dendrite v (mV)')\n",
        "# f2.line(list(dend_m1), list(dend_m2), line_width=2,legend_label='4-coupled M1 dendrite vs AON dendrite',line_color='black')\n",
        "# plt2.show(f)\n",
        "# plt2.show(f2)\n",
        "\n",
        "fig, axs = plt1.subplots(2, figsize=(16,18))\n",
        "axs[0].plot(list(axon_m1), list(axon_m2), label='4-coupled M1 axon vs AON axon')\n",
        "axs[0].legend(loc=\"upper right\")\n",
        "axs[0].set_xlabel('v (mV)')\n",
        "axs[0].set_ylabel('v (mV)')\n",
        "axs[1].plot(list(dend_m1),list(dend_m2), label='4-coupled M1 dendrite vs AON dendrite')\n",
        "axs[1].legend(loc=\"upper right\")\n",
        "axs[1].set_xlabel('v (mV)')\n",
        "axs[1].set_ylabel('v (mV)')\n",
        "plt1.show()"
      ],
      "id": "heuZils4vn16"
    },
    {
      "cell_type": "markdown",
      "metadata": {
        "id": "dpdAXofpXg5X"
      },
      "source": [
        "# Weights (While Learning)"
      ],
      "id": "dpdAXofpXg5X"
    },
    {
      "cell_type": "code",
      "execution_count": null,
      "metadata": {
        "id": "li94TAixZcMj"
      },
      "outputs": [],
      "source": [
        "print(weight_data)\n",
        "f = plt1.figure()\n",
        "x = [i for i in range(epochs)]\n",
        "# f.line(x, weight_data, line_width=1, line_color='black')\n",
        "plt1.plot(x, weight_data)\n",
        "plt1.show(f)"
      ],
      "id": "li94TAixZcMj"
    },
    {
      "cell_type": "markdown",
      "metadata": {
        "id": "4fsYjO7nXqIO"
      },
      "source": [
        "# Voltages (After Learning)"
      ],
      "id": "4fsYjO7nXqIO"
    },
    {
      "cell_type": "code",
      "execution_count": null,
      "metadata": {
        "id": "10ee714f"
      },
      "outputs": [],
      "source": [
        "plotCell(L1.sets[-1].P1, 'P1')"
      ],
      "id": "10ee714f"
    },
    {
      "cell_type": "code",
      "execution_count": null,
      "metadata": {
        "id": "vTPQQ-MiDTE7"
      },
      "outputs": [],
      "source": [
        "plotCell(L1.sets[-1].P2, 'P2')"
      ],
      "id": "vTPQQ-MiDTE7"
    },
    {
      "cell_type": "code",
      "execution_count": null,
      "metadata": {
        "id": "qW4ZMAEnlITg"
      },
      "outputs": [],
      "source": [
        "plotCell(L1.sets[-1].M1, 'M1')"
      ],
      "id": "qW4ZMAEnlITg"
    },
    {
      "cell_type": "code",
      "execution_count": null,
      "metadata": {
        "id": "_Xo8OFebpZWd"
      },
      "outputs": [],
      "source": [
        "plotCell(L1.sets[-1].G1, 'G1')"
      ],
      "id": "_Xo8OFebpZWd"
    },
    {
      "cell_type": "code",
      "execution_count": null,
      "metadata": {
        "id": "I0UDNCQpp7Uj"
      },
      "outputs": [],
      "source": [
        "plotCell(L1.sets[-1].M2, 'M2')"
      ],
      "id": "I0UDNCQpp7Uj"
    },
    {
      "cell_type": "code",
      "execution_count": null,
      "metadata": {
        "id": "eRknOYTFpbFG"
      },
      "outputs": [],
      "source": [
        "plotCell(L1.sets[-1].G2, 'G2')"
      ],
      "id": "eRknOYTFpbFG"
    },
    {
      "cell_type": "code",
      "execution_count": null,
      "metadata": {
        "id": "Ac0U4rBbmvkJ"
      },
      "outputs": [],
      "source": [
        "plotCell(L1.DPC, 'DPC')"
      ],
      "id": "Ac0U4rBbmvkJ"
    },
    {
      "cell_type": "code",
      "execution_count": null,
      "metadata": {
        "id": "uVtKjQachT6y"
      },
      "outputs": [],
      "source": [
        "plotCell(L1.AON.M1, 'AON')"
      ],
      "id": "uVtKjQachT6y"
    },
    {
      "cell_type": "code",
      "execution_count": null,
      "metadata": {
        "id": "Qnz23rrwhXQ1"
      },
      "outputs": [],
      "source": [
        "plotCell(L1.PC.G1, 'Pyramidal Cell')"
      ],
      "id": "Qnz23rrwhXQ1"
    },
    {
      "cell_type": "markdown",
      "metadata": {
        "id": "BIHFPxj2tbhC"
      },
      "source": [
        "# Scatter Plots (After Learning)"
      ],
      "id": "BIHFPxj2tbhC"
    },
    {
      "cell_type": "code",
      "execution_count": null,
      "metadata": {
        "id": "65R31SQCteXh"
      },
      "outputs": [],
      "source": [
        "%matplotlib inline\n",
        "h.finitialize(-70*mV)\n",
        "h.continuerun(300*ms)\n",
        "color=['green','orange','blue','red', 'pink', 'purple']\n",
        "label=['P1', 'P2', 'M1','M2','G1','G2']\n",
        "plt1.figure(figsize=(16,10))\n",
        "for j in range(len(L1.sets)):\n",
        "  #for i,cell in enumerate(L1.sets[j].cells):\n",
        "    plt1.scatter(L1.sets[j].cells[0].spike_times, [0.5 + 0.7*j for i in range(len(L1.sets[j].cells[0].spike_times))], s=10,color=color[0]) # for P1\n",
        "    plt1.scatter(L1.sets[j].cells[1].spike_times, [0.7 + 0.7*j for i in range(len(L1.sets[j].cells[1].spike_times))], s=10, color=color[1]) # for P2\n",
        "    plt1.scatter(L1.sets[j].cells[2].spike_times, [0.9 + 0.7*j for i in range(len(L1.sets[j].cells[2].spike_times))], s=10, color=color[2]) # for M1\n",
        "    plt1.scatter(L1.sets[j].cells[3].spike_times, [1.1 + 0.7*j for i in range(len(L1.sets[j].cells[3].spike_times))], s=10, color=color[3]) # for M2\n",
        "    plt1.scatter(L1.sets[j].cells[4].spike_times, [1.3 + 0.7*j for i in range(len(L1.sets[j].cells[4].spike_times))], s=10, color=color[4]) # for G1\n",
        "    plt1.scatter(L1.sets[j].cells[5].spike_times, [1.5 + 0.7*j for i in range(len(L1.sets[j].cells[5].spike_times))], s=10, color=color[5]) # for G2\n",
        "\n",
        "plt1.xlabel('time(ms)')\n",
        "plt1.legend(label)\n",
        "plt1.show()"
      ],
      "id": "65R31SQCteXh"
    },
    {
      "cell_type": "markdown",
      "metadata": {
        "id": "RYcaSlQaX8NY"
      },
      "source": [
        "# Scratchpad "
      ],
      "id": "RYcaSlQaX8NY"
    },
    {
      "cell_type": "code",
      "execution_count": null,
      "metadata": {
        "id": "SL3LpJeyY1do"
      },
      "outputs": [],
      "source": [
        "name = 'DPC'\n",
        "addendum=\"\"\n",
        "recording_cell = L1.DPC\n",
        "cell_axon = h.Vector().record(recording_cell.axon(0.5)._ref_v)\n",
        "cell_dend = h.Vector().record(recording_cell.dend(0.5)._ref_v)\n",
        "t = h.Vector().record(h._ref_t)\n",
        "\n",
        "h.finitialize(-70 * mV)\n",
        "h.continuerun(300 * ms)\n",
        "\n",
        "f = plt2.figure(x_axis_label='t (ms)', y_axis_label='v (mV)')\n",
        "f.line(t, list(cell_axon), line_width=1,legend_label=name+' axon '+addendum,line_color='black')\n",
        "f.line(t, list(cell_dend), line_width=2,legend_label=name+' dendrite '+addendum,line_color='red', line_dash='dashed')\n",
        "plt2.show(f)"
      ],
      "id": "SL3LpJeyY1do"
    },
    {
      "cell_type": "code",
      "execution_count": null,
      "metadata": {
        "id": "39kj6_YAdD6p"
      },
      "outputs": [],
      "source": [
        ""
      ],
      "id": "39kj6_YAdD6p"
    }
  ],
  "metadata": {
    "colab": {
      "collapsed_sections": [
        "L_9d7LtSWFA0",
        "MWYTz03xLsWS",
        "IqVU4uAHwxiJ",
        "90Kn6XE2V6nW",
        "VWHFMMFXWjhI",
        "N5NCjS3XWr6s",
        "8b2874e2",
        "8ba65a81",
        "4tGgp4nPXab1",
        "dpdAXofpXg5X",
        "4fsYjO7nXqIO",
        "RYcaSlQaX8NY"
      ],
      "name": "Latest: Complete Network.ipynb",
      "provenance": [],
      "include_colab_link": true
    },
    "kernelspec": {
      "display_name": "Python 3",
      "language": "python",
      "name": "python3"
    },
    "language_info": {
      "codemirror_mode": {
        "name": "ipython",
        "version": 3
      },
      "file_extension": ".py",
      "mimetype": "text/x-python",
      "name": "python",
      "nbconvert_exporter": "python",
      "pygments_lexer": "ipython3",
      "version": "3.9.6"
    },
    "widgets": {
      "application/vnd.jupyter.widget-state+json": {
        "b37d18b277e44b67a903d4875721db40": {
          "model_module": "@jupyter-widgets/controls",
          "model_name": "CheckboxModel",
          "model_module_version": "1.5.0",
          "state": {
            "_dom_classes": [],
            "_model_module": "@jupyter-widgets/controls",
            "_model_module_version": "1.5.0",
            "_model_name": "CheckboxModel",
            "_view_count": null,
            "_view_module": "@jupyter-widgets/controls",
            "_view_module_version": "1.5.0",
            "_view_name": "CheckboxView",
            "description": "Add noise",
            "description_tooltip": null,
            "disabled": false,
            "indent": true,
            "layout": "IPY_MODEL_88594d4eb70044bb9c288e10925d7b22",
            "style": "IPY_MODEL_fae23c81e2a54e5aa089a491020ab0d5",
            "value": false
          }
        },
        "88594d4eb70044bb9c288e10925d7b22": {
          "model_module": "@jupyter-widgets/base",
          "model_name": "LayoutModel",
          "model_module_version": "1.2.0",
          "state": {
            "_model_module": "@jupyter-widgets/base",
            "_model_module_version": "1.2.0",
            "_model_name": "LayoutModel",
            "_view_count": null,
            "_view_module": "@jupyter-widgets/base",
            "_view_module_version": "1.2.0",
            "_view_name": "LayoutView",
            "align_content": null,
            "align_items": null,
            "align_self": null,
            "border": null,
            "bottom": null,
            "display": null,
            "flex": null,
            "flex_flow": null,
            "grid_area": null,
            "grid_auto_columns": null,
            "grid_auto_flow": null,
            "grid_auto_rows": null,
            "grid_column": null,
            "grid_gap": null,
            "grid_row": null,
            "grid_template_areas": null,
            "grid_template_columns": null,
            "grid_template_rows": null,
            "height": null,
            "justify_content": null,
            "justify_items": null,
            "left": null,
            "margin": null,
            "max_height": null,
            "max_width": null,
            "min_height": null,
            "min_width": null,
            "object_fit": null,
            "object_position": null,
            "order": null,
            "overflow": null,
            "overflow_x": null,
            "overflow_y": null,
            "padding": null,
            "right": null,
            "top": null,
            "visibility": null,
            "width": null
          }
        },
        "fae23c81e2a54e5aa089a491020ab0d5": {
          "model_module": "@jupyter-widgets/controls",
          "model_name": "DescriptionStyleModel",
          "model_module_version": "1.5.0",
          "state": {
            "_model_module": "@jupyter-widgets/controls",
            "_model_module_version": "1.5.0",
            "_model_name": "DescriptionStyleModel",
            "_view_count": null,
            "_view_module": "@jupyter-widgets/base",
            "_view_module_version": "1.2.0",
            "_view_name": "StyleView",
            "description_width": ""
          }
        },
        "9039b77c99494d34a0c3d9694cfc7cbf": {
          "model_module": "@jupyter-widgets/controls",
          "model_name": "VBoxModel",
          "model_module_version": "1.5.0",
          "state": {
            "_dom_classes": [],
            "_model_module": "@jupyter-widgets/controls",
            "_model_module_version": "1.5.0",
            "_model_name": "VBoxModel",
            "_view_count": null,
            "_view_module": "@jupyter-widgets/controls",
            "_view_module_version": "1.5.0",
            "_view_name": "VBoxView",
            "box_style": "",
            "children": [
              "IPY_MODEL_086a48aafe9e42e29610317de45fa4cb",
              "IPY_MODEL_fd8f6e10c33246bfbc04ca57ca9e45a4"
            ],
            "layout": "IPY_MODEL_f65a3dc479d5494faa78e001caa78fe2"
          }
        },
        "086a48aafe9e42e29610317de45fa4cb": {
          "model_module": "@jupyter-widgets/controls",
          "model_name": "FloatTextModel",
          "model_module_version": "1.5.0",
          "state": {
            "_dom_classes": [],
            "_model_module": "@jupyter-widgets/controls",
            "_model_module_version": "1.5.0",
            "_model_name": "FloatTextModel",
            "_view_count": null,
            "_view_module": "@jupyter-widgets/controls",
            "_view_module_version": "1.5.0",
            "_view_name": "FloatTextView",
            "continuous_update": false,
            "description": "Amplitude:",
            "description_tooltip": null,
            "disabled": false,
            "layout": "IPY_MODEL_39049b56edea4e9bbfb7bde1e88c6797",
            "step": null,
            "style": "IPY_MODEL_a497722de74b4bb39ca8151adc1fc422",
            "value": 0.1
          }
        },
        "fd8f6e10c33246bfbc04ca57ca9e45a4": {
          "model_module": "@jupyter-widgets/controls",
          "model_name": "FloatTextModel",
          "model_module_version": "1.5.0",
          "state": {
            "_dom_classes": [],
            "_model_module": "@jupyter-widgets/controls",
            "_model_module_version": "1.5.0",
            "_model_name": "FloatTextModel",
            "_view_count": null,
            "_view_module": "@jupyter-widgets/controls",
            "_view_module_version": "1.5.0",
            "_view_name": "FloatTextView",
            "continuous_update": false,
            "description": "sets:",
            "description_tooltip": null,
            "disabled": false,
            "layout": "IPY_MODEL_63e70931232b491392cdf580e0a5f349",
            "step": null,
            "style": "IPY_MODEL_9303aa612682469eb9b3ee6d8af1223c",
            "value": 15
          }
        },
        "f65a3dc479d5494faa78e001caa78fe2": {
          "model_module": "@jupyter-widgets/base",
          "model_name": "LayoutModel",
          "model_module_version": "1.2.0",
          "state": {
            "_model_module": "@jupyter-widgets/base",
            "_model_module_version": "1.2.0",
            "_model_name": "LayoutModel",
            "_view_count": null,
            "_view_module": "@jupyter-widgets/base",
            "_view_module_version": "1.2.0",
            "_view_name": "LayoutView",
            "align_content": null,
            "align_items": null,
            "align_self": null,
            "border": null,
            "bottom": null,
            "display": null,
            "flex": null,
            "flex_flow": null,
            "grid_area": null,
            "grid_auto_columns": null,
            "grid_auto_flow": null,
            "grid_auto_rows": null,
            "grid_column": null,
            "grid_gap": null,
            "grid_row": null,
            "grid_template_areas": null,
            "grid_template_columns": null,
            "grid_template_rows": null,
            "height": null,
            "justify_content": null,
            "justify_items": null,
            "left": null,
            "margin": null,
            "max_height": null,
            "max_width": null,
            "min_height": null,
            "min_width": null,
            "object_fit": null,
            "object_position": null,
            "order": null,
            "overflow": null,
            "overflow_x": null,
            "overflow_y": null,
            "padding": null,
            "right": null,
            "top": null,
            "visibility": null,
            "width": null
          }
        },
        "39049b56edea4e9bbfb7bde1e88c6797": {
          "model_module": "@jupyter-widgets/base",
          "model_name": "LayoutModel",
          "model_module_version": "1.2.0",
          "state": {
            "_model_module": "@jupyter-widgets/base",
            "_model_module_version": "1.2.0",
            "_model_name": "LayoutModel",
            "_view_count": null,
            "_view_module": "@jupyter-widgets/base",
            "_view_module_version": "1.2.0",
            "_view_name": "LayoutView",
            "align_content": null,
            "align_items": null,
            "align_self": null,
            "border": null,
            "bottom": null,
            "display": null,
            "flex": null,
            "flex_flow": null,
            "grid_area": null,
            "grid_auto_columns": null,
            "grid_auto_flow": null,
            "grid_auto_rows": null,
            "grid_column": null,
            "grid_gap": null,
            "grid_row": null,
            "grid_template_areas": null,
            "grid_template_columns": null,
            "grid_template_rows": null,
            "height": null,
            "justify_content": null,
            "justify_items": null,
            "left": null,
            "margin": null,
            "max_height": null,
            "max_width": null,
            "min_height": null,
            "min_width": null,
            "object_fit": null,
            "object_position": null,
            "order": null,
            "overflow": null,
            "overflow_x": null,
            "overflow_y": null,
            "padding": null,
            "right": null,
            "top": null,
            "visibility": null,
            "width": null
          }
        },
        "a497722de74b4bb39ca8151adc1fc422": {
          "model_module": "@jupyter-widgets/controls",
          "model_name": "DescriptionStyleModel",
          "model_module_version": "1.5.0",
          "state": {
            "_model_module": "@jupyter-widgets/controls",
            "_model_module_version": "1.5.0",
            "_model_name": "DescriptionStyleModel",
            "_view_count": null,
            "_view_module": "@jupyter-widgets/base",
            "_view_module_version": "1.2.0",
            "_view_name": "StyleView",
            "description_width": ""
          }
        },
        "63e70931232b491392cdf580e0a5f349": {
          "model_module": "@jupyter-widgets/base",
          "model_name": "LayoutModel",
          "model_module_version": "1.2.0",
          "state": {
            "_model_module": "@jupyter-widgets/base",
            "_model_module_version": "1.2.0",
            "_model_name": "LayoutModel",
            "_view_count": null,
            "_view_module": "@jupyter-widgets/base",
            "_view_module_version": "1.2.0",
            "_view_name": "LayoutView",
            "align_content": null,
            "align_items": null,
            "align_self": null,
            "border": null,
            "bottom": null,
            "display": null,
            "flex": null,
            "flex_flow": null,
            "grid_area": null,
            "grid_auto_columns": null,
            "grid_auto_flow": null,
            "grid_auto_rows": null,
            "grid_column": null,
            "grid_gap": null,
            "grid_row": null,
            "grid_template_areas": null,
            "grid_template_columns": null,
            "grid_template_rows": null,
            "height": null,
            "justify_content": null,
            "justify_items": null,
            "left": null,
            "margin": null,
            "max_height": null,
            "max_width": null,
            "min_height": null,
            "min_width": null,
            "object_fit": null,
            "object_position": null,
            "order": null,
            "overflow": null,
            "overflow_x": null,
            "overflow_y": null,
            "padding": null,
            "right": null,
            "top": null,
            "visibility": null,
            "width": null
          }
        },
        "9303aa612682469eb9b3ee6d8af1223c": {
          "model_module": "@jupyter-widgets/controls",
          "model_name": "DescriptionStyleModel",
          "model_module_version": "1.5.0",
          "state": {
            "_model_module": "@jupyter-widgets/controls",
            "_model_module_version": "1.5.0",
            "_model_name": "DescriptionStyleModel",
            "_view_count": null,
            "_view_module": "@jupyter-widgets/base",
            "_view_module_version": "1.2.0",
            "_view_name": "StyleView",
            "description_width": ""
          }
        },
        "a467b5f8b1734643ba2148f2ca51d7d1": {
          "model_module": "@jupyter-widgets/controls",
          "model_name": "DropdownModel",
          "model_module_version": "1.5.0",
          "state": {
            "_dom_classes": [],
            "_model_module": "@jupyter-widgets/controls",
            "_model_module_version": "1.5.0",
            "_model_name": "DropdownModel",
            "_options_labels": [
              "uniform",
              "normal",
              "poisson"
            ],
            "_view_count": null,
            "_view_module": "@jupyter-widgets/controls",
            "_view_module_version": "1.5.0",
            "_view_name": "DropdownView",
            "description": "distribution:",
            "description_tooltip": null,
            "disabled": false,
            "index": 0,
            "layout": "IPY_MODEL_a5eb2178f59f4d86b8f8988f5f66b654",
            "style": "IPY_MODEL_eeaaf5dc6662499abfd66aa7abcbe4f7"
          }
        },
        "a5eb2178f59f4d86b8f8988f5f66b654": {
          "model_module": "@jupyter-widgets/base",
          "model_name": "LayoutModel",
          "model_module_version": "1.2.0",
          "state": {
            "_model_module": "@jupyter-widgets/base",
            "_model_module_version": "1.2.0",
            "_model_name": "LayoutModel",
            "_view_count": null,
            "_view_module": "@jupyter-widgets/base",
            "_view_module_version": "1.2.0",
            "_view_name": "LayoutView",
            "align_content": null,
            "align_items": null,
            "align_self": null,
            "border": null,
            "bottom": null,
            "display": null,
            "flex": null,
            "flex_flow": null,
            "grid_area": null,
            "grid_auto_columns": null,
            "grid_auto_flow": null,
            "grid_auto_rows": null,
            "grid_column": null,
            "grid_gap": null,
            "grid_row": null,
            "grid_template_areas": null,
            "grid_template_columns": null,
            "grid_template_rows": null,
            "height": null,
            "justify_content": null,
            "justify_items": null,
            "left": null,
            "margin": null,
            "max_height": null,
            "max_width": null,
            "min_height": null,
            "min_width": null,
            "object_fit": null,
            "object_position": null,
            "order": null,
            "overflow": null,
            "overflow_x": null,
            "overflow_y": null,
            "padding": null,
            "right": null,
            "top": null,
            "visibility": null,
            "width": null
          }
        },
        "eeaaf5dc6662499abfd66aa7abcbe4f7": {
          "model_module": "@jupyter-widgets/controls",
          "model_name": "DescriptionStyleModel",
          "model_module_version": "1.5.0",
          "state": {
            "_model_module": "@jupyter-widgets/controls",
            "_model_module_version": "1.5.0",
            "_model_name": "DescriptionStyleModel",
            "_view_count": null,
            "_view_module": "@jupyter-widgets/base",
            "_view_module_version": "1.2.0",
            "_view_name": "StyleView",
            "description_width": ""
          }
        },
        "b6f4e082a0414df5940967993e0b5032": {
          "model_module": "@jupyter-widgets/controls",
          "model_name": "VBoxModel",
          "model_module_version": "1.5.0",
          "state": {
            "_dom_classes": [],
            "_model_module": "@jupyter-widgets/controls",
            "_model_module_version": "1.5.0",
            "_model_name": "VBoxModel",
            "_view_count": null,
            "_view_module": "@jupyter-widgets/controls",
            "_view_module_version": "1.5.0",
            "_view_name": "VBoxView",
            "box_style": "",
            "children": [
              "IPY_MODEL_7f92f9022e8c4cb2bfdc383e1f06c0c2",
              "IPY_MODEL_82d2aeedae5e49aaa81cf19e71253df1",
              "IPY_MODEL_1cf93655bf1d427caede18742825ad60"
            ],
            "layout": "IPY_MODEL_70369b75106d495d8439f5f9fb2e349c"
          }
        },
        "7f92f9022e8c4cb2bfdc383e1f06c0c2": {
          "model_module": "@jupyter-widgets/controls",
          "model_name": "FloatTextModel",
          "model_module_version": "1.5.0",
          "state": {
            "_dom_classes": [],
            "_model_module": "@jupyter-widgets/controls",
            "_model_module_version": "1.5.0",
            "_model_name": "FloatTextModel",
            "_view_count": null,
            "_view_module": "@jupyter-widgets/controls",
            "_view_module_version": "1.5.0",
            "_view_name": "FloatTextView",
            "continuous_update": false,
            "description": "low:",
            "description_tooltip": null,
            "disabled": false,
            "layout": "IPY_MODEL_39aed9bf94fd41a3b84fcb5d842e0492",
            "step": null,
            "style": "IPY_MODEL_832460314d464652a6f66c249a850b2c",
            "value": 1
          }
        },
        "82d2aeedae5e49aaa81cf19e71253df1": {
          "model_module": "@jupyter-widgets/controls",
          "model_name": "FloatTextModel",
          "model_module_version": "1.5.0",
          "state": {
            "_dom_classes": [],
            "_model_module": "@jupyter-widgets/controls",
            "_model_module_version": "1.5.0",
            "_model_name": "FloatTextModel",
            "_view_count": null,
            "_view_module": "@jupyter-widgets/controls",
            "_view_module_version": "1.5.0",
            "_view_name": "FloatTextView",
            "continuous_update": false,
            "description": "high:",
            "description_tooltip": null,
            "disabled": false,
            "layout": "IPY_MODEL_b3ca4562e7ea48ea90eb5ac83a8bdb65",
            "step": null,
            "style": "IPY_MODEL_566a659f6e4244889cdc4b4bded67533",
            "value": 1.5
          }
        },
        "1cf93655bf1d427caede18742825ad60": {
          "model_module": "@jupyter-widgets/controls",
          "model_name": "FloatTextModel",
          "model_module_version": "1.5.0",
          "state": {
            "_dom_classes": [],
            "_model_module": "@jupyter-widgets/controls",
            "_model_module_version": "1.5.0",
            "_model_name": "FloatTextModel",
            "_view_count": null,
            "_view_module": "@jupyter-widgets/controls",
            "_view_module_version": "1.5.0",
            "_view_name": "FloatTextView",
            "continuous_update": false,
            "description": "size:",
            "description_tooltip": null,
            "disabled": false,
            "layout": "IPY_MODEL_21d92d618fe748a698f79850a7706e70",
            "step": null,
            "style": "IPY_MODEL_ad91ffb59d1e4001bb5d2dd131469521",
            "value": 15
          }
        },
        "70369b75106d495d8439f5f9fb2e349c": {
          "model_module": "@jupyter-widgets/base",
          "model_name": "LayoutModel",
          "model_module_version": "1.2.0",
          "state": {
            "_model_module": "@jupyter-widgets/base",
            "_model_module_version": "1.2.0",
            "_model_name": "LayoutModel",
            "_view_count": null,
            "_view_module": "@jupyter-widgets/base",
            "_view_module_version": "1.2.0",
            "_view_name": "LayoutView",
            "align_content": null,
            "align_items": null,
            "align_self": null,
            "border": null,
            "bottom": null,
            "display": null,
            "flex": null,
            "flex_flow": null,
            "grid_area": null,
            "grid_auto_columns": null,
            "grid_auto_flow": null,
            "grid_auto_rows": null,
            "grid_column": null,
            "grid_gap": null,
            "grid_row": null,
            "grid_template_areas": null,
            "grid_template_columns": null,
            "grid_template_rows": null,
            "height": null,
            "justify_content": null,
            "justify_items": null,
            "left": null,
            "margin": null,
            "max_height": null,
            "max_width": null,
            "min_height": null,
            "min_width": null,
            "object_fit": null,
            "object_position": null,
            "order": null,
            "overflow": null,
            "overflow_x": null,
            "overflow_y": null,
            "padding": null,
            "right": null,
            "top": null,
            "visibility": null,
            "width": null
          }
        },
        "39aed9bf94fd41a3b84fcb5d842e0492": {
          "model_module": "@jupyter-widgets/base",
          "model_name": "LayoutModel",
          "model_module_version": "1.2.0",
          "state": {
            "_model_module": "@jupyter-widgets/base",
            "_model_module_version": "1.2.0",
            "_model_name": "LayoutModel",
            "_view_count": null,
            "_view_module": "@jupyter-widgets/base",
            "_view_module_version": "1.2.0",
            "_view_name": "LayoutView",
            "align_content": null,
            "align_items": null,
            "align_self": null,
            "border": null,
            "bottom": null,
            "display": null,
            "flex": null,
            "flex_flow": null,
            "grid_area": null,
            "grid_auto_columns": null,
            "grid_auto_flow": null,
            "grid_auto_rows": null,
            "grid_column": null,
            "grid_gap": null,
            "grid_row": null,
            "grid_template_areas": null,
            "grid_template_columns": null,
            "grid_template_rows": null,
            "height": null,
            "justify_content": null,
            "justify_items": null,
            "left": null,
            "margin": null,
            "max_height": null,
            "max_width": null,
            "min_height": null,
            "min_width": null,
            "object_fit": null,
            "object_position": null,
            "order": null,
            "overflow": null,
            "overflow_x": null,
            "overflow_y": null,
            "padding": null,
            "right": null,
            "top": null,
            "visibility": null,
            "width": null
          }
        },
        "832460314d464652a6f66c249a850b2c": {
          "model_module": "@jupyter-widgets/controls",
          "model_name": "DescriptionStyleModel",
          "model_module_version": "1.5.0",
          "state": {
            "_model_module": "@jupyter-widgets/controls",
            "_model_module_version": "1.5.0",
            "_model_name": "DescriptionStyleModel",
            "_view_count": null,
            "_view_module": "@jupyter-widgets/base",
            "_view_module_version": "1.2.0",
            "_view_name": "StyleView",
            "description_width": ""
          }
        },
        "b3ca4562e7ea48ea90eb5ac83a8bdb65": {
          "model_module": "@jupyter-widgets/base",
          "model_name": "LayoutModel",
          "model_module_version": "1.2.0",
          "state": {
            "_model_module": "@jupyter-widgets/base",
            "_model_module_version": "1.2.0",
            "_model_name": "LayoutModel",
            "_view_count": null,
            "_view_module": "@jupyter-widgets/base",
            "_view_module_version": "1.2.0",
            "_view_name": "LayoutView",
            "align_content": null,
            "align_items": null,
            "align_self": null,
            "border": null,
            "bottom": null,
            "display": null,
            "flex": null,
            "flex_flow": null,
            "grid_area": null,
            "grid_auto_columns": null,
            "grid_auto_flow": null,
            "grid_auto_rows": null,
            "grid_column": null,
            "grid_gap": null,
            "grid_row": null,
            "grid_template_areas": null,
            "grid_template_columns": null,
            "grid_template_rows": null,
            "height": null,
            "justify_content": null,
            "justify_items": null,
            "left": null,
            "margin": null,
            "max_height": null,
            "max_width": null,
            "min_height": null,
            "min_width": null,
            "object_fit": null,
            "object_position": null,
            "order": null,
            "overflow": null,
            "overflow_x": null,
            "overflow_y": null,
            "padding": null,
            "right": null,
            "top": null,
            "visibility": null,
            "width": null
          }
        },
        "566a659f6e4244889cdc4b4bded67533": {
          "model_module": "@jupyter-widgets/controls",
          "model_name": "DescriptionStyleModel",
          "model_module_version": "1.5.0",
          "state": {
            "_model_module": "@jupyter-widgets/controls",
            "_model_module_version": "1.5.0",
            "_model_name": "DescriptionStyleModel",
            "_view_count": null,
            "_view_module": "@jupyter-widgets/base",
            "_view_module_version": "1.2.0",
            "_view_name": "StyleView",
            "description_width": ""
          }
        },
        "21d92d618fe748a698f79850a7706e70": {
          "model_module": "@jupyter-widgets/base",
          "model_name": "LayoutModel",
          "model_module_version": "1.2.0",
          "state": {
            "_model_module": "@jupyter-widgets/base",
            "_model_module_version": "1.2.0",
            "_model_name": "LayoutModel",
            "_view_count": null,
            "_view_module": "@jupyter-widgets/base",
            "_view_module_version": "1.2.0",
            "_view_name": "LayoutView",
            "align_content": null,
            "align_items": null,
            "align_self": null,
            "border": null,
            "bottom": null,
            "display": null,
            "flex": null,
            "flex_flow": null,
            "grid_area": null,
            "grid_auto_columns": null,
            "grid_auto_flow": null,
            "grid_auto_rows": null,
            "grid_column": null,
            "grid_gap": null,
            "grid_row": null,
            "grid_template_areas": null,
            "grid_template_columns": null,
            "grid_template_rows": null,
            "height": null,
            "justify_content": null,
            "justify_items": null,
            "left": null,
            "margin": null,
            "max_height": null,
            "max_width": null,
            "min_height": null,
            "min_width": null,
            "object_fit": null,
            "object_position": null,
            "order": null,
            "overflow": null,
            "overflow_x": null,
            "overflow_y": null,
            "padding": null,
            "right": null,
            "top": null,
            "visibility": null,
            "width": null
          }
        },
        "ad91ffb59d1e4001bb5d2dd131469521": {
          "model_module": "@jupyter-widgets/controls",
          "model_name": "DescriptionStyleModel",
          "model_module_version": "1.5.0",
          "state": {
            "_model_module": "@jupyter-widgets/controls",
            "_model_module_version": "1.5.0",
            "_model_name": "DescriptionStyleModel",
            "_view_count": null,
            "_view_module": "@jupyter-widgets/base",
            "_view_module_version": "1.2.0",
            "_view_name": "StyleView",
            "description_width": ""
          }
        }
      }
    }
  },
  "nbformat": 4,
  "nbformat_minor": 5
}
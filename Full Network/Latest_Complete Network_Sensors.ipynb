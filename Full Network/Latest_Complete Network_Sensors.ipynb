{
  "cells": [
    {
      "cell_type": "markdown",
      "metadata": {
        "id": "view-in-github",
        "colab_type": "text"
      },
      "source": [
        "<a href=\"https://colab.research.google.com/github/hegdenischay/NEURONNet/blob/main/Full%20Network/Latest_Complete%20Network_Sensors.ipynb\" target=\"_parent\"><img src=\"https://colab.research.google.com/assets/colab-badge.svg\" alt=\"Open In Colab\"/></a>"
      ]
    },
    {
      "cell_type": "code",
      "execution_count": 1,
      "metadata": {
        "cellView": "form",
        "id": "HBtbl9iM-hha"
      },
      "outputs": [],
      "source": [
        "size =   15#@param {type:\"integer\"}\n",
        "dimension = \"High\" #@param [\"High\", \"Low\"]\n",
        "epochs =  20 #@param {type:\"integer\"}\n",
        "A_plus = 0.01 #@param {type:\"number\"}\n",
        "A_minus = -0.0011 #@param {type: \"number\"}\n",
        "lateralDelay = 5 #@param {type: \"number\"}"
      ],
      "id": "HBtbl9iM-hha"
    },
    {
      "cell_type": "code",
      "execution_count": 2,
      "metadata": {
        "cellView": "form",
        "colab": {
          "base_uri": "https://localhost:8080/",
          "height": 113,
          "referenced_widgets": [
            "34bfd490b9a84b7a91625d7e2cdd8908",
            "9367d45c8bfd4f9ab14c6d6406ce6c03",
            "8431d58adef04d1c884b510c017ddcdf",
            "0c3c0d0df2a94aa1a4cb4fe35d7d9787",
            "363ec4e319754db3b22dcb3eb6555ce1",
            "ecde8c372a1d487ea7e74309820252f0",
            "57c215c0584049c9ad863c99fe0f865f",
            "f6ebb3ce7cbe4a499bab2e2b99df3fd8",
            "44df582a5ece41b7a42e2f76cc00cc20",
            "ebd88484beb64e20a84d258cdaf7aac4",
            "c9327aff2a7c4d34bdabc46209de25a6"
          ]
        },
        "id": "0c4-GSDp5oLJ",
        "outputId": "78e64a04-6aae-43ff-e920-ae531f882105"
      },
      "outputs": [
        {
          "output_type": "display_data",
          "data": {
            "text/plain": [
              "Checkbox(value=False, description='Add noise')"
            ],
            "application/vnd.jupyter.widget-view+json": {
              "version_major": 2,
              "version_minor": 0,
              "model_id": "34bfd490b9a84b7a91625d7e2cdd8908"
            }
          },
          "metadata": {}
        },
        {
          "output_type": "display_data",
          "data": {
            "text/plain": [
              "VBox(children=(FloatText(value=0.1, description='Amplitude:'), FloatText(value=15.0, description='sets:')))"
            ],
            "application/vnd.jupyter.widget-view+json": {
              "version_major": 2,
              "version_minor": 0,
              "model_id": "0c3c0d0df2a94aa1a4cb4fe35d7d9787"
            }
          },
          "metadata": {}
        }
      ],
      "source": [
        "#@title Parameters\n",
        "from ipywidgets import FloatText, Checkbox, VBox, Dropdown\n",
        "import ipywidgets as widgets\n",
        "\n",
        "currentAmp = FloatText(description='Amplitude:', value=0.1)\n",
        "sets = FloatText(description='sets:', value=15)\n",
        "noiseSD = FloatText(description='noiseSD:', value=0.01)\n",
        "\n",
        "vb = VBox(children = [currentAmp, sets])\n",
        "with_noise = Checkbox(description='Add noise')\n",
        "\n",
        "def add_noise(button):\n",
        "    if button['new']:\n",
        "        vb.children = [currentAmp, sets, noiseSD]\n",
        "    else:\n",
        "        vb.children = [currentAmp, sets]\n",
        "\n",
        "with_noise.observe(add_noise, names='value')\n",
        "display(with_noise)\n",
        "display(vb)"
      ],
      "id": "0c4-GSDp5oLJ"
    },
    {
      "cell_type": "code",
      "execution_count": 3,
      "metadata": {
        "cellView": "form",
        "colab": {
          "base_uri": "https://localhost:8080/",
          "height": 145,
          "referenced_widgets": [
            "e4dd9baad32e4af59727fc31cb95aee1",
            "8a4980c504d840da87fdc6775bbd9db1",
            "44b455915b8f4015b1828425e936897f",
            "82d76092bcaa4d49ad1bf7fe63808b29",
            "f7e381d5b20b457db8c2bca88ba6b098",
            "21cd0cf7057142a8b344eec6d7440517",
            "6856c08d441d426db32d9fc958230853",
            "3304ce36e7b84d9ead8a3d33d506bb03",
            "dc0501560da64055b703db1aaf642cec",
            "fa9deb4f9b634b8d8889ae853123918b",
            "ae1ea9368f7a46b18a120a83c5639043",
            "6a73722fae7d491ebdef6406a078d598",
            "d9fffd0470ac4595a2b7b44b9ef549ca",
            "3ab2bd9d305a4edf92f3778cd9761967"
          ]
        },
        "id": "R-P8mRYb5rGX",
        "outputId": "9034efb9-0eff-424f-ba6f-7f6bba99c6c8"
      },
      "outputs": [
        {
          "output_type": "display_data",
          "data": {
            "text/plain": [
              "Dropdown(description='distribution:', options=('uniform', 'normal', 'poisson'), value='uniform')"
            ],
            "application/vnd.jupyter.widget-view+json": {
              "version_major": 2,
              "version_minor": 0,
              "model_id": "e4dd9baad32e4af59727fc31cb95aee1"
            }
          },
          "metadata": {}
        },
        {
          "output_type": "display_data",
          "data": {
            "text/plain": [
              "VBox(children=(FloatText(value=1.0, description='low:'), FloatText(value=1.5, description='high:'), FloatText(…"
            ],
            "application/vnd.jupyter.widget-view+json": {
              "version_major": 2,
              "version_minor": 0,
              "model_id": "82d76092bcaa4d49ad1bf7fe63808b29"
            }
          },
          "metadata": {}
        }
      ],
      "source": [
        "#@title Distribution\n",
        "from ipywidgets import FloatText, Checkbox, VBox, Dropdown\n",
        "import ipywidgets as widgets\n",
        "\n",
        "distribution = Dropdown(description='distribution:', options=[\"uniform\", \"normal\", \"poisson\"], value=\"uniform\")\n",
        "low = FloatText(description='low:', value=1)\n",
        "high = FloatText(description='high:', value=1.5)\n",
        "leng = FloatText(description='size:', value=sets.value)\n",
        "mean = FloatText(description='mean:', value=1)\n",
        "sd = FloatText(description='SD:', value=0.5)\n",
        "lam = FloatText(description='lam', value=3)\n",
        "\n",
        "vb2 = VBox(children = [low, high, leng])\n",
        "\n",
        "def change_widgets(button):\n",
        "    if button['new'] == \"uniform\":\n",
        "        vb2.children = [low, high, leng]\n",
        "    elif button['new'] == \"normal\":\n",
        "        vb2.children = [mean, sd, leng]\n",
        "    elif button['new'] == \"poisson\":\n",
        "        vb2.children = [lam, sets]\n",
        "\n",
        "distribution.observe(change_widgets, names='value')\n",
        "display(distribution)\n",
        "display(vb2)"
      ],
      "id": "R-P8mRYb5rGX"
    },
    {
      "cell_type": "markdown",
      "metadata": {
        "id": "L_9d7LtSWFA0"
      },
      "source": [
        "### Install Neuron"
      ],
      "id": "L_9d7LtSWFA0"
    },
    {
      "cell_type": "code",
      "execution_count": 4,
      "metadata": {
        "colab": {
          "base_uri": "https://localhost:8080/"
        },
        "id": "CHPcM6GtV5K_",
        "outputId": "8d6713e2-7122-47db-f7da-381b068df8ee"
      },
      "outputs": [
        {
          "output_type": "stream",
          "name": "stdout",
          "text": [
            "Looking in indexes: https://pypi.org/simple, https://us-python.pkg.dev/colab-wheels/public/simple/\n",
            "Requirement already satisfied: pandas in /usr/local/lib/python3.7/dist-packages (1.3.5)\n",
            "Collecting neuron\n",
            "  Downloading NEURON-8.1.0-cp37-cp37m-manylinux_2_17_x86_64.manylinux2014_x86_64.whl (15.0 MB)\n",
            "\u001b[K     |████████████████████████████████| 15.0 MB 6.7 MB/s \n",
            "\u001b[?25hCollecting hfda\n",
            "  Downloading hfda-0.1.1.tar.gz (1.8 kB)\n",
            "Requirement already satisfied: numpy>=1.17.3 in /usr/local/lib/python3.7/dist-packages (from pandas) (1.21.6)\n",
            "Requirement already satisfied: pytz>=2017.3 in /usr/local/lib/python3.7/dist-packages (from pandas) (2022.1)\n",
            "Requirement already satisfied: python-dateutil>=2.7.3 in /usr/local/lib/python3.7/dist-packages (from pandas) (2.8.2)\n",
            "Requirement already satisfied: six>=1.5 in /usr/local/lib/python3.7/dist-packages (from python-dateutil>=2.7.3->pandas) (1.15.0)\n",
            "Building wheels for collected packages: hfda\n",
            "  Building wheel for hfda (setup.py) ... \u001b[?25l\u001b[?25hdone\n",
            "  Created wheel for hfda: filename=hfda-0.1.1-py3-none-any.whl size=2160 sha256=556ec06536ce74b76cbe17597f44e79313e91bd86e1afd0f665d2faa27a81835\n",
            "  Stored in directory: /root/.cache/pip/wheels/cc/cf/2e/ee8b2442bdfd74fb48c59230ac1ab1d32574e8d41130ded745\n",
            "Successfully built hfda\n",
            "Installing collected packages: neuron, hfda\n",
            "Successfully installed hfda-0.1.1 neuron-8.1.0\n"
          ]
        }
      ],
      "source": [
        "pip install pandas neuron hfda"
      ],
      "id": "CHPcM6GtV5K_"
    },
    {
      "cell_type": "code",
      "execution_count": 5,
      "metadata": {
        "id": "jcQEX_3vHOUz"
      },
      "outputs": [],
      "source": [
        "# %load_ext google.colab.data_table\n",
        "# import pandas\n",
        "# data = {'Time taken': ['5 sets (with learning)', '5 sets (without learning)', '30 sets (with learning)', '30 sets (without)'], 'Time (s)': [64.94386959075928, 64.94386959075928-47.318169593811035, 163.1467843055725, 163.1467843055725-123.22148942947388]}  \n",
        "# pandas.DataFrame(data)"
      ],
      "id": "jcQEX_3vHOUz"
    },
    {
      "cell_type": "markdown",
      "metadata": {
        "id": "MWYTz03xLsWS"
      },
      "source": [
        "### Import prerequisites"
      ],
      "id": "MWYTz03xLsWS"
    },
    {
      "cell_type": "code",
      "execution_count": 6,
      "metadata": {
        "id": "1452ffae"
      },
      "outputs": [],
      "source": [
        "import time\n",
        "totalstart = time.time()\n",
        "import os\n",
        "if os.getcwd() != \"/content\":\n",
        "    # we are not in google colab, assume hebbian library is in current dir\n",
        "    from hebb import ORN, MCELL, GCELL\n",
        "else:\n",
        "    # download from git\n",
        "    import shutil, requests\n",
        "    url = 'https://cloud.operationtulip.com/s/t8nbn8Y582w94P3/download/git.zip'\n",
        "    response = requests.get(url, stream=True)\n",
        "    with open('git.zip', 'wb') as out_file:\n",
        "        shutil.copyfileobj(response.raw, out_file)\n",
        "    del response\n",
        "    import zipfile\n",
        "    with zipfile.ZipFile('git.zip', 'r') as zip_ref:\n",
        "        zip_ref.extractall('')\n"
      ],
      "id": "1452ffae"
    },
    {
      "cell_type": "code",
      "execution_count": 7,
      "metadata": {
        "id": "63491b2a"
      },
      "outputs": [],
      "source": [
        "!nrnivmodl &>/dev/null"
      ],
      "id": "63491b2a"
    },
    {
      "cell_type": "code",
      "execution_count": 8,
      "metadata": {
        "id": "EYQ3O2_rte6s"
      },
      "outputs": [],
      "source": [
        "from neuron import h #.h is a HOC object instance & gui from neuron can also be imported \n",
        "from math import pi                  \n",
        "from neuron.units import ms,mV\n",
        "from hebb_test import ORN, MCELL, GCELL\n",
        "h.load_file('stdrun.hoc')                #Allows us to do a high level simulation\n",
        "pc = h.ParallelContext()\n",
        "import random  \n",
        "import matplotlib.pyplot as plt1\n",
        "\n",
        "from bokeh.io import output_notebook\n",
        "import bokeh.plotting as plt2\n",
        "output_notebook()\n",
        "\n",
        "import seaborn as sns"
      ],
      "id": "EYQ3O2_rte6s"
    },
    {
      "cell_type": "code",
      "source": [
        "import csv\n",
        "from google.colab import drive\n",
        "drive.mount('/content/drive')"
      ],
      "metadata": {
        "colab": {
          "base_uri": "https://localhost:8080/"
        },
        "id": "UR2S2Isg9KrC",
        "outputId": "59e7f59f-2724-4939-c20a-b326532b6ade"
      },
      "id": "UR2S2Isg9KrC",
      "execution_count": 9,
      "outputs": [
        {
          "output_type": "stream",
          "name": "stdout",
          "text": [
            "Mounted at /content/drive\n"
          ]
        }
      ]
    },
    {
      "cell_type": "code",
      "source": [
        "!ls /content/drive/MyDrive/csvs/rose_natural/rose_nat.csv"
      ],
      "metadata": {
        "colab": {
          "base_uri": "https://localhost:8080/"
        },
        "id": "cjFLtocf-dM_",
        "outputId": "1414ac63-9a47-4430-fb88-3347dbe328c1"
      },
      "id": "cjFLtocf-dM_",
      "execution_count": 10,
      "outputs": [
        {
          "output_type": "stream",
          "name": "stdout",
          "text": [
            "/content/drive/MyDrive/csvs/rose_natural/rose_nat.csv\n"
          ]
        }
      ]
    },
    {
      "cell_type": "code",
      "source": [
        "import pandas as pd\n",
        "df = pd.read_csv('/content/drive/MyDrive/csvs/orange_artificial/art_orange_day1(1).csv')"
      ],
      "metadata": {
        "id": "W1M78X9z9rqT"
      },
      "id": "W1M78X9z9rqT",
      "execution_count": 11,
      "outputs": []
    },
    {
      "cell_type": "markdown",
      "metadata": {
        "id": "IqVU4uAHwxiJ"
      },
      "source": [
        "## Helper Functions"
      ],
      "id": "IqVU4uAHwxiJ"
    },
    {
      "cell_type": "code",
      "execution_count": 12,
      "metadata": {
        "id": "9o2Z2RO4_o5B"
      },
      "outputs": [],
      "source": [
        "def stairstep(lo: float, hi: float, duration: int, max_duration: int = 200, noise: list = []) -> list:\n",
        "    # duration and max_duration are in ms\n",
        "    ans = [lo if i < duration else hi for i in range(0,max_duration)]\n",
        "    if len(noise) == 0:\n",
        "        return ans\n",
        "    else:\n",
        "        assert len(ans) == len(noise)\n",
        "        return [ans[i]+noise[i] for i in range(len(ans))]\n",
        "    # return [0+0.8*(i/duration) if i < duration else 0 for i in range(0,max_duration)]\n",
        "    # visualize input "
      ],
      "id": "9o2Z2RO4_o5B"
    },
    {
      "cell_type": "code",
      "execution_count": 13,
      "metadata": {
        "id": "5odvQsJ7wzh_"
      },
      "outputs": [],
      "source": [
        "def netConMaker(source, dest, weights, delay, threshold, place='axon', type='exc'):\n",
        "    # print(source, dest)\n",
        "    if place == 'axon':\n",
        "        if type == 'exc':\n",
        "            netcon = h.NetCon(source.axon(0.5)._ref_v, dest.dendexcisyn, sec=source.axon)\n",
        "        elif type == 'inh':\n",
        "            netcon = h.NetCon(source.axon(0.5)._ref_v, dest.dendinhisyn, sec=source.axon)\n",
        "    elif place == 'soma':\n",
        "        if type == 'exc':\n",
        "            netcon = h.NetCon(source.soma(0.5)._ref_v, dest.dendexcisyn, sec=source.soma)\n",
        "        elif type == 'inh':\n",
        "            netcon = h.NetCon(source.soma(0.5)._ref_v, dest.dendinhisyn, sec=source.soma)\n",
        "    netcon.weight[0] = weights\n",
        "    netcon.delay = delay\n",
        "    netcon.threshold = threshold\n",
        "    return netcon"
      ],
      "id": "5odvQsJ7wzh_"
    },
    {
      "cell_type": "code",
      "execution_count": 14,
      "metadata": {
        "id": "fyVJT9eYTbt1"
      },
      "outputs": [],
      "source": [
        "def latConMaker(source, dest, weights, delay, threshold, type='exc'):\n",
        "    if type == 'exc':\n",
        "        netcon = h.NetCon(source.dend(0.5)._ref_v, dest.dendexcisyn, sec=source.dend)\n",
        "    else:\n",
        "        netcon = h.NetCon(source.dend(0.5)._ref_v, dest.dendinhisyn, sec=source.dend)\n",
        "    netcon.weight[0] = weights\n",
        "    netcon.delay = delay\n",
        "    netcon.threshold = threshold\n",
        "    return netcon"
      ],
      "id": "fyVJT9eYTbt1"
    },
    {
      "cell_type": "code",
      "execution_count": 15,
      "metadata": {
        "id": "G2RZsImWw1pX"
      },
      "outputs": [],
      "source": [
        "%matplotlib inline\n",
        "def plotCell(source, name, addendum=''):\n",
        "    recording_cell = source\n",
        "    cell_axon = h.Vector().record(recording_cell.axon(0.5)._ref_v)\n",
        "    cell_dend = h.Vector().record(recording_cell.dend(0.5)._ref_v)\n",
        "    t = h.Vector().record(h._ref_t)\n",
        "\n",
        "    h.finitialize(-70 * mV)\n",
        "    h.continuerun(300 * ms)\n",
        "\n",
        "    f = plt1.figure(figsize=(16,9))\n",
        "    ax = f.add_subplot(1,1,1)\n",
        "    ax.plot(t, list(cell_axon), label=name+' axon '+addendum)\n",
        "    ax.plot(t, list(cell_dend), label=name+' dendrite '+addendum)\n",
        "    ax.legend(loc=\"upper right\")\n",
        "    ax.set_xlabel('t (ms)')\n",
        "    ax.set_ylabel('v (mV)')\n",
        "    plt1.show()"
      ],
      "id": "G2RZsImWw1pX"
    },
    {
      "cell_type": "code",
      "execution_count": 16,
      "metadata": {
        "id": "fRU2J5WKw3Cm"
      },
      "outputs": [],
      "source": [
        "import math\n",
        "def generate_L_weight_delta(first, second):\n",
        "    A_plus = 0.01\n",
        "    A_minus = -0.011\n",
        "    tau_pre =20*ms\n",
        "    tau_post =20*ms\n",
        "    delta_t = [(second[iter] - first[iter]) for iter in range(min(len(first),len(second)))]\n",
        "    delta_w_list = [A_plus*math.exp(-delta_t[iter]/tau_post) if delta_t[iter] >=0 else A_minus*math.exp(delta_t[iter]/tau_pre) for iter in range(min(len(first),len(second)))]  \n",
        "    delta_w = sum(delta_w_list)\n",
        "    return delta_w"
      ],
      "id": "fRU2J5WKw3Cm"
    },
    {
      "cell_type": "code",
      "execution_count": 17,
      "metadata": {
        "id": "K6OJ0E7jV4nG"
      },
      "outputs": [],
      "source": [
        "from IPython.display import HTML, display\n",
        "import time\n",
        "\n",
        "def progress(value, max=100):\n",
        "    return HTML(\"\"\"\n",
        "        <progress\n",
        "            value='{value}'\n",
        "            max='{max}',\n",
        "            style='width: 100%'\n",
        "        >\n",
        "            {value}\n",
        "        </progress>\n",
        "    \"\"\".format(value=value, max=max))"
      ],
      "id": "K6OJ0E7jV4nG"
    },
    {
      "cell_type": "markdown",
      "metadata": {
        "id": "90Kn6XE2V6nW"
      },
      "source": [
        "## Network Definitions"
      ],
      "id": "90Kn6XE2V6nW"
    },
    {
      "cell_type": "code",
      "execution_count": 18,
      "metadata": {
        "id": "IGDhgsQEYa2X"
      },
      "outputs": [],
      "source": [
        "class AON:\n",
        "    def __init__(self,M,weights,delay1=1,delay2=2,delay3=3,delay4=4):\n",
        "        wMM=weights[0]\n",
        "        wMG=weights[1]\n",
        "        wGM=weights[2]\n",
        "        wGG=weights[3]\n",
        "        \n",
        "        self.M = M #Set no.\n",
        "        self.th = -70\n",
        "        self.maindelay = 5\n",
        "\n",
        "        self.M1=MCELL(1,self.M)\n",
        "        self.M2=MCELL(2,self.M)\n",
        "        self.G1=GCELL(3,self.M)\n",
        "        self.G2=GCELL(4,self.M)\n",
        "        self.cells = [self.M1, self.M2, self.G1, self.G2]\n",
        "        \n",
        "        self.nc0 = netConMaker(self.M1, self.M2, wMM, delay1+self.maindelay, self.th, 'soma') #Connecting E1 to E2\n",
        "        self.nc1 = netConMaker(self.M2, self.M1, wMM, delay2+self.maindelay, self.th, 'soma') #Connecting E2 to E1\n",
        "        self.nc2 = netConMaker(self.M2, self.G1, wMG, delay2+self.maindelay, self.th, 'soma') #Connecting E2 to I1\n",
        "        self.nc3 = netConMaker(self.G1, self.M2, wGM, delay3+self.maindelay, self.th, 'soma', type='inh') #Connecting I1 to E2\n",
        "        self.nc4 = netConMaker(self.G1, self.G2, wGG, delay3+self.maindelay, self.th, 'soma', type='inh') #Connecting I1 to I2\n",
        "        self.nc5 = netConMaker(self.G2, self.G1, wGG, delay4+self.maindelay, self.th, 'soma', type='inh') #Connecting I2 to I1\n",
        "        self.nc6 = netConMaker(self.G2, self.M1, wGM, delay4+self.maindelay, self.th, 'soma', type='inh') #Connecting I2 to E1\n",
        "        self.nc7 = netConMaker(self.M1, self.G2, wMG, delay1+self.maindelay, self.th, 'soma') #Connecting E1 to I2\n",
        "        self.nc8 = netConMaker(self.M1, self.G1, wMG, delay1+self.maindelay, self.th, 'soma') #Connecting E1 to I1\n",
        "        self.nc9 = netConMaker(self.G1, self.M1, wGM, delay3+self.maindelay, self.th, 'soma', type='inh') #Connecting I1 to E1"
      ],
      "id": "IGDhgsQEYa2X"
    },
    {
      "cell_type": "code",
      "execution_count": 19,
      "metadata": {
        "id": "6b8b7d01"
      },
      "outputs": [],
      "source": [
        "#Gives one 2 coupled neuron using freeman's topology in olfactory bulb\n",
        "class CONNECTING:\n",
        "\n",
        "    def __init__(self,M,weights,delay1=0,delay2=2,delay3=4,delay4=6):\n",
        "        wMM=weights[0]\n",
        "        wMG=weights[1]\n",
        "        wGM=weights[2]\n",
        "        wGG=weights[3]\n",
        "        \n",
        "        self.M = M #Set no.\n",
        "        self.th = -70\n",
        "        self.maindelay = 5\n",
        "        \n",
        "        #Making 2 neurons\n",
        "        self.orn = ORN(1,self.M)\n",
        "        self.P1=MCELL(2,self.M)\n",
        "        self.P2=MCELL(3,self.M)\n",
        "        self.cells = [self.orn, self.P1, self.P2]\n",
        "        \n",
        "        #Giving current pulse\n",
        "        self.stim = h.IClamp(self.orn.dend(0.5))  #P1.soma to P1.dend\n",
        "        # self.stimArr = [h.IClamp(self.orn.ciliumArr[i](0.5)) for i in range(len(self.orn.ciliumArr))]\n",
        "        if with_noise.value == True:\n",
        "            self.noise = np.random.normal(0, noiseSD.value, 100)\n",
        "            self.input = [i/(7527002.35578777) for i in df[sensor]]\n",
        "            self.tv = h.Vector([i for i in range(len(df[sensor]))])\n",
        "            self.stim.delay = 10\n",
        "            self.stim.dur = len(df[sensor])\n",
        "            self.stim.amp = 0\n",
        "            self.input.play(self.stim._ref_amp, self.tv, True) \n",
        "        else:\n",
        "            self.stim.delay = 10\n",
        "            self.stim.dur = 100\n",
        "            self.stim.amp = currentAmp.value\n",
        "        \n",
        "        self.nc0 = netConMaker(self.orn, self.P1, wMM, self.maindelay+delay2, self.th, 'soma') #Connecting ORN to P1\n",
        "        self.nc1 = netConMaker(self.P1, self.P2, wMM, self.maindelay+delay3, self.th, 'soma') #Connecting P1 to P2\n",
        "        self.nc2 = netConMaker(self.P2, self.P1, wMM, self.maindelay+delay3, self.th, 'soma') #Connecting P2 to P1\n",
        "    \n",
        "        # 4-coupled\n",
        "\n",
        "        self.M1=MCELL(1,self.M)\n",
        "        self.M2=MCELL(2,self.M)\n",
        "        self.G1=GCELL(3,self.M)\n",
        "        self.G2=GCELL(4,self.M)\n",
        "        self.cells.extend([self.M1, self.M2, self.G1, self.G2])\n",
        "\n",
        "        self.nc14 = netConMaker(self.orn, self.M1, wMM, delay1+self.maindelay, self.th, 'soma')\n",
        "        self.nc3 = netConMaker(self.P1, self.M1, wMM, delay1+self.maindelay, self.th, 'soma')\n",
        "        self.nc4 = netConMaker(self.M1, self.M2, wMM, delay2+self.maindelay, self.th, 'soma') #Connecting M1 to M2\n",
        "        self.nc5 = netConMaker(self.M2, self.M1, wMM, delay2+self.maindelay, self.th, 'soma') #Connecting M2 to M1\n",
        "        self.nc6 = netConMaker(self.M2, self.G1, wMG, delay2+self.maindelay, self.th, 'soma') #Connecting M2 to G1\n",
        "        self.nc7 = netConMaker(self.G1, self.M2, wGM, delay2+self.maindelay, self.th, 'soma', type='inh') #Connecting G1 to M2\n",
        "        self.nc8 = netConMaker(self.G1, self.G2, wGG, delay3+self.maindelay, self.th, 'soma', type='inh') #Connecting G1 to G2\n",
        "        self.nc9 = netConMaker(self.G2, self.G1, wGG, delay3+self.maindelay, self.th, 'soma', type='inh') #Connecting G2 to G1\n",
        "        self.nc10 = netConMaker(self.G2, self.M1, wGM, delay4+self.maindelay, self.th, 'soma', type='inh') #Connecting G2 to M1\n",
        "        self.nc11 = netConMaker(self.M1, self.G2, wMG, delay4+self.maindelay, self.th, 'soma') #Connecting M1 to G2\n",
        "        self.nc12 = netConMaker(self.M1, self.G1, wMG, delay1+self.maindelay, self.th, 'soma') #Connecting M1 to G1\n",
        "        self.nc13 = netConMaker(self.G1, self.M1, wGM, delay1+self.maindelay, self.th, 'soma', type='inh') #Connecting G1 to M1"
      ],
      "id": "6b8b7d01"
    },
    {
      "cell_type": "code",
      "execution_count": 20,
      "metadata": {
        "id": "e3d8b0fd"
      },
      "outputs": [],
      "source": [
        "\n",
        "class LATERAL:\n",
        "    \"\"\"Laterally coupling N-2 coupled neurons\n",
        "    \"\"\"\n",
        "    def __init__(self,N,weights,delay1=0,delay2=2,delay3=4,delay4=6):\n",
        "        wMML=weights[1]\n",
        "        wGGL=weights[5]\n",
        "        \n",
        "        self.N = N\n",
        "        self.th = -70\n",
        "        self.maindelay = lateralDelay\n",
        "        self.sets = [CONNECTING(i, weights) for i in range(N)]\n",
        "            \n",
        "        self.twoCupArr = []\n",
        "        for r in range(0,N-1):\n",
        "          #Connecting P1[0] to P1[1]\n",
        "          # make a list for easier access\n",
        "          netConList = []\n",
        "          netConList.append(latConMaker(self.sets[r].P1, self.sets[r+1].P1,wMML,self.maindelay+delay2,self.th)) #P1[0] to P1[1]\n",
        "          netConList.append(latConMaker(self.sets[r+1].P1, self.sets[r].P1, wMML, self.maindelay+delay2,self.th))\n",
        "\n",
        "          self.twoCupArr.append(netConList)\n",
        "        self.fourCupArr = []\n",
        "        for r in range(1,N-1):\n",
        "            for j in range(N-r):\n",
        "                netConList = []\n",
        "                netConList.append(latConMaker(self.sets[j].M1, self.sets[j+r].M1, wMML, self.maindelay+delay3, self.th)) #Connect M1[0] to M1[1]\n",
        "                netConList.append(latConMaker(self.sets[j+r].M1, self.sets[j].M1, wMML, self.maindelay+delay3, self.th)) #Connect M1[1] to M1[0]\n",
        "                netConList.append(latConMaker(self.sets[j].G1, self.sets[j+r].G1, wGGL, self.maindelay+delay2, self.th, 'inh')) #Connecting G1[0] to G1[1]\n",
        "                netConList.append(latConMaker(self.sets[j+r].G1, self.sets[j].G1, wGGL, self.maindelay+delay2, self.th, 'inh')) #Connecting G1[1] to G1[0]\n",
        "                self.fourCupArr.append(netConList)\n",
        "\n",
        "        # add AON and PC\n",
        "        self.AON = AON(5,weights)\n",
        "        self.PC = AON(6,weights)\n",
        "        self.DPC = GCELL(7,self.N)\n",
        "        # add noise to AON's M1\n",
        "        self.stim = h.IClamp(self.AON.M1.dend(0.5))  #P1.soma to P1.dend\n",
        "        self.noise = np.random.normal(0, 0.1, 100)\n",
        "        self.input = h.Vector(self.noise)\n",
        "        self.tv = h.Vector([i for i in range(100)])\n",
        "        self.input.play(self.stim._ref_amp, self.tv, True)\n",
        "        self.otherNetCons = []\n",
        "        self.otherNetCons.append(netConMaker(self.sets[0].M1, self.AON.M1, wMML, self.maindelay+delay2, self.th, 'soma')) # 4-coupled M1 -> AON's E1\n",
        "        for i in self.sets:\n",
        "            for j in self.sets:\n",
        "                if i != j:\n",
        "                    self.otherNetCons.append(netConMaker(i.P1, j.P1, wMML, self.maindelay+delay2, self.th, 'soma')) # all-to-all in P1\n",
        "                    self.otherNetCons.append(netConMaker(i.M1, j.M1, wMML, self.maindelay+delay3, self.th, 'soma')) # all-to-all in M1\n",
        "                    self.otherNetCons.append(netConMaker(i.G1, j.G1, wGGL, self.maindelay+delay2, self.th, 'soma')) # all-to-all in M1\n",
        "\n",
        "        for i in self.sets:\n",
        "            self.otherNetCons.append(netConMaker(self.AON.M1, i.P2, wMML, self.maindelay+delay2, self.th, 'soma')) # AON E1 -> 2-coupled P2\n",
        "        if dimension == \"High\":\n",
        "            self.otherNetCons.append(netConMaker(self.PC.M1, self.AON.G1, wMML, self.maindelay+delay3+10, self.th, 'soma')) # PC's A1 to AON's I1\n",
        "        self.otherNetCons.append(netConMaker(self.sets[0].M1, self.PC.M1, wMML, self.maindelay+delay2, self.th, 'soma')) # M1 to A1\n",
        "        for i in self.sets:\n",
        "            self.otherNetCons.append(netConMaker(self.AON.M1, i.G1, wMML, self.maindelay+delay2, self.th, 'soma')) # AON's E1 -> 4-coupled G1\n",
        "        \n",
        "        self.otherNetCons.append(netConMaker(self.PC.G1, self.DPC, wMML/100000, self.maindelay+delay3, self.th, 'soma', 'inh')) # PC's B1 -> DPC\n",
        "        self.otherNetCons.append(netConMaker(self.DPC, self.PC.G1, wMML/100000, self.maindelay+delay3, self.th, 'soma')) # DPC -> PC's B1\n",
        "        if dimension == \"High\":\n",
        "            for i in self.sets:\n",
        "                self.otherNetCons.append(netConMaker(self.DPC, i.G1, wMML/100000, self.maindelay+delay3+10, self.th))# DPC to G1 \n",
        "        self.otherNetCons.append(netConMaker(self.sets[-1].G1, self.DPC, wMML, self.maindelay+4, self.th, 'soma'))\n",
        "        \n"
      ],
      "id": "e3d8b0fd"
    },
    {
      "cell_type": "code",
      "execution_count": 21,
      "metadata": {
        "id": "akuCSVQv7mlc"
      },
      "outputs": [],
      "source": [
        "import numpy as np\n",
        "if distribution.value == \"uniform\":\n",
        "    weights = np.random.uniform(low.value, high.value, 2*int(leng.value)-1)\n",
        "elif distribution.value == \"normal\":\n",
        "    weights = np.random.normal(mean.value, sd.value, 2*int(leng.value)-1)\n",
        "elif distribution.value == \"poisson\":\n",
        "    weights = np.random.poisson(lam.value, 2*int(leng.value)-1)"
      ],
      "id": "akuCSVQv7mlc"
    },
    {
      "cell_type": "code",
      "execution_count": 22,
      "metadata": {
        "id": "665f6425"
      },
      "outputs": [],
      "source": [
        "# #Give N value to get N no. of 2 coupled neurons laterally connected\n",
        "# #given_input_from_user = int(input('Enter the number of 2 coupled sets required: '))\n",
        "# import numpy as np\n",
        "# # size = 5\n",
        "# low, high = 1, 5\n",
        "# # all_weights = np.random.uniform(low, high,2*given_input_from_user-1)\n",
        "# # all_weights = [4.65058555, 2.92840154, 3.68134116, 1.30487304, 1.07771946, 3.15136447, 1.04247865, 2.29878494, 2.01195344]\n",
        "# # all_weights = [0.95336892, 0.87793015, 0.71060386, 0.88298338, 0.84561174, 0.5006465, 0.60983793, 0.88890724, 0.85189888]\n",
        "# L1=LATERAL(size,weights)"
      ],
      "id": "665f6425"
    },
    {
      "cell_type": "code",
      "execution_count": 23,
      "metadata": {
        "id": "Xfmf2k-NDN29"
      },
      "outputs": [],
      "source": [
        "def learn():\n",
        "    import sys, time\n",
        "    # tick = time.time()\n",
        "    weight_data = []\n",
        "\n",
        "    # out = display(progress(0, epochs), display_id=True)\n",
        "\n",
        "    for l in range(epochs):\n",
        "        #print(\"iteration no is\",l)\n",
        "        # out.update(progress(l, epochs))    \n",
        "        # print(\"\\nmutual learning\")\n",
        "        P1_axon_data = []\n",
        "        P1_dend_data = []\n",
        "        P2_axon_data = []\n",
        "        P2_dend_data = []\n",
        "        M1_axon_data = []\n",
        "        M1_dend_data = []\n",
        "        M2_axon_data = []\n",
        "        M2_dend_data = []\n",
        "        G1_axon_data = []\n",
        "        G1_dend_data = []\n",
        "        G2_axon_data = []\n",
        "        G2_dend_data = []\n",
        "        P1_spike_times = []\n",
        "        P2_spike_times = []\n",
        "        M1_spike_times = []\n",
        "        M2_spike_times = []\n",
        "        G1_spike_times = []\n",
        "        G2_spike_times = []\n",
        "\n",
        "        h.finitialize(-70* mV)\n",
        "        h.continuerun(300*ms)\n",
        "        t = h.Vector().record(h._ref_t)\n",
        "        \n",
        "        for i in range(len(L1.sets)):\n",
        "            P1_axon_data.append(list(h.Vector().record(L1.sets[i].P1.axon(0.5)._ref_v)))\n",
        "            P1_dend_data.append(list(h.Vector().record(L1.sets[i].P1.dend(0.5)._ref_v)))\n",
        "            P1_spike_times.append(list(L1.sets[i].P1.spike_times))\n",
        "            P2_axon_data.append(list(h.Vector().record(L1.sets[i].P2.axon(0.5)._ref_v)))\n",
        "            P2_spike_times.append(list(L1.sets[i].P2.spike_times))\n",
        "            P2_dend_data.append(list(h.Vector().record(L1.sets[i].P2.dend(0.5)._ref_v)))\n",
        "            M1_axon_data.append(list(h.Vector().record(L1.sets[i].M1.axon(0.5)._ref_v)))\n",
        "            M1_dend_data.append(list(h.Vector().record(L1.sets[i].M1.dend(0.5)._ref_v)))\n",
        "            M1_spike_times.append(list(L1.sets[i].M1.spike_times))\n",
        "            M2_axon_data.append(list(h.Vector().record(L1.sets[i].M2.axon(0.5)._ref_v)))\n",
        "            M2_dend_data.append(list(h.Vector().record(L1.sets[i].M2.dend(0.5)._ref_v)))\n",
        "            M2_spike_times.append(list(L1.sets[i].M2.spike_times))\n",
        "            G1_axon_data.append(list(h.Vector().record(L1.sets[i].G1.axon(0.5)._ref_v)))\n",
        "            G1_dend_data.append(list(h.Vector().record(L1.sets[i].G1.dend(0.5)._ref_v)))\n",
        "            G1_spike_times.append(list(L1.sets[i].G1.spike_times))\n",
        "            G2_axon_data.append(list(h.Vector().record(L1.sets[i].G2.axon(0.5)._ref_v)))\n",
        "            G2_dend_data.append(list(h.Vector().record(L1.sets[i].G2.dend(0.5)._ref_v)))\n",
        "            G2_spike_times.append(list(L1.sets[i].G2.spike_times))\n",
        "\n",
        "    \n",
        "        # h.finitialize(-70 * mV)\n",
        "\n",
        "        for i in range(len(L1.sets)):\n",
        "            # 2-coupled STDP-based learning\n",
        "            L1.sets[i].nc1.weight[0] += generate_L_weight_delta(P1_spike_times[i], P2_spike_times[i])\n",
        "            # logging\n",
        "            # print(\"P1_axon\", P1_spike_times[i], P2_spike_times[i])\n",
        "            L1.sets[i].nc2.weight[0] += generate_L_weight_delta(P2_spike_times[i], P1_spike_times[i])\n",
        "            L1.sets[i].nc3.weight[0] += generate_L_weight_delta(P1_spike_times[i], M1_spike_times[i])\n",
        "            # 4-coupled STDP-based learning\n",
        "            L1.sets[i].nc4.weight[0] += generate_L_weight_delta(M1_spike_times[i], M2_spike_times[i])\n",
        "            L1.sets[i].nc5.weight[0] += generate_L_weight_delta(M2_spike_times[i], M1_spike_times[i])\n",
        "            L1.sets[i].nc6.weight[0] += generate_L_weight_delta(M2_spike_times[i], G1_spike_times[i])\n",
        "            L1.sets[i].nc7.weight[0] += generate_L_weight_delta(G1_spike_times[i], M2_spike_times[i])\n",
        "            L1.sets[i].nc8.weight[0] += generate_L_weight_delta(G1_spike_times[i], G2_spike_times[i])\n",
        "            L1.sets[i].nc9.weight[0] += generate_L_weight_delta(G2_spike_times[i], G1_spike_times[i])\n",
        "            L1.sets[i].nc10.weight[0] += generate_L_weight_delta(G2_spike_times[i], M1_spike_times[i])\n",
        "            L1.sets[i].nc11.weight[0] += generate_L_weight_delta(M1_spike_times[i], G2_spike_times[i])\n",
        "            L1.sets[i].nc12.weight[0] += generate_L_weight_delta(M1_spike_times[i], G1_spike_times[i])\n",
        "            L1.sets[i].nc13.weight[0] += generate_L_weight_delta(G1_spike_times[i], M1_spike_times[i])\n",
        "            # L1.sets[i].DPC.weight[0] += generate_L_weight_delta(G1_spike_times[i], M1_spike_times[i])\n",
        "            \n",
        "        # do a proper logging function\n",
        "        weight_data.append(L1.sets[0].nc1.weight[0])\n",
        "\n",
        "\n",
        "        #Lateral Learning\n",
        "        for i in range(len(L1.sets)-1):\n",
        "            # 2-coupled part\n",
        "            L1.twoCupArr[i][0].weight[0] += generate_L_weight_delta(P1_spike_times[i], P1_spike_times[i+1])\n",
        "            L1.twoCupArr[i][1].weight[0] += generate_L_weight_delta(P1_spike_times[i+1], P1_spike_times[i])\n",
        "            # 4-coupled part\n",
        "            L1.fourCupArr[i][0].weight[0] += generate_L_weight_delta(M1_spike_times[i], M1_spike_times[i+1])\n",
        "            L1.fourCupArr[i][1].weight[0] += generate_L_weight_delta(M1_spike_times[i+1], M1_spike_times[i])\n",
        "            L1.fourCupArr[i][2].weight[0] += generate_L_weight_delta(G1_spike_times[i], G1_spike_times[i+1])\n",
        "            L1.fourCupArr[i][3].weight[0] += generate_L_weight_delta(G1_spike_times[i+1], G1_spike_times[i])\n",
        "        # plotCell(L1.sets[-1].M1, 'M1')\n",
        "\n",
        "\n",
        "    # out.update(progress(epochs, epochs))    \n",
        "    # tock = time.time()\n",
        "    # print(\"The time it took to learn\", tock-tick, \"seconds\")"
      ],
      "id": "Xfmf2k-NDN29"
    },
    {
      "cell_type": "code",
      "execution_count": 24,
      "metadata": {
        "cellView": "form",
        "id": "n-sh-9ksMxO1",
        "colab": {
          "base_uri": "https://localhost:8080/"
        },
        "outputId": "d9f52d6b-5a87-48bc-e585-332f8cba97bd"
      },
      "outputs": [
        {
          "output_type": "stream",
          "name": "stdout",
          "text": [
            "Total time it took:  34.16690111160278\n"
          ]
        }
      ],
      "source": [
        "#@title Time Taken { vertical-output: true }\n",
        "totalend = time.time()\n",
        "print(\"Total time it took: \", totalend-totalstart)"
      ],
      "id": "n-sh-9ksMxO1"
    },
    {
      "cell_type": "markdown",
      "source": [
        "# Autoamte Various Sensor Data"
      ],
      "metadata": {
        "id": "Yo4GUiBVG3iC"
      },
      "id": "Yo4GUiBVG3iC"
    },
    {
      "cell_type": "code",
      "source": [
        "pip install antropy"
      ],
      "metadata": {
        "colab": {
          "base_uri": "https://localhost:8080/"
        },
        "id": "I_4s-XJ7KkKe",
        "outputId": "52e4ff55-bc3f-45fc-bdc7-07f632700c8c"
      },
      "id": "I_4s-XJ7KkKe",
      "execution_count": 25,
      "outputs": [
        {
          "output_type": "stream",
          "name": "stdout",
          "text": [
            "Looking in indexes: https://pypi.org/simple, https://us-python.pkg.dev/colab-wheels/public/simple/\n",
            "Collecting antropy\n",
            "  Downloading antropy-0.1.4.tar.gz (16 kB)\n",
            "Collecting stochastic\n",
            "  Downloading stochastic-0.6.0-py3-none-any.whl (49 kB)\n",
            "\u001b[K     |████████████████████████████████| 49 kB 4.3 MB/s \n",
            "\u001b[?25hRequirement already satisfied: numpy<2.0,>=1.17 in /usr/local/lib/python3.7/dist-packages (from stochastic->antropy) (1.21.6)\n",
            "Requirement already satisfied: scipy<2.0,>=1.3 in /usr/local/lib/python3.7/dist-packages (from stochastic->antropy) (1.4.1)\n",
            "Building wheels for collected packages: antropy\n",
            "  Building wheel for antropy (setup.py) ... \u001b[?25l\u001b[?25hdone\n",
            "  Created wheel for antropy: filename=antropy-0.1.4-py3-none-any.whl size=16159 sha256=7dcee8464e59471b30dffa939765866c43e60947f6a221d66a05cc7eb2169efe\n",
            "  Stored in directory: /root/.cache/pip/wheels/d4/cc/6b/28fa7036bdabc6f1f92fd6a108ae259dbb48f107f676d6b491\n",
            "Successfully built antropy\n",
            "Installing collected packages: stochastic, antropy\n",
            "Successfully installed antropy-0.1.4 stochastic-0.6.0\n"
          ]
        }
      ]
    },
    {
      "cell_type": "code",
      "source": [
        "def welch(file, sensor):\n",
        "    from scipy import signal\n",
        "    recording_cell = L1.PC.G1\n",
        "    axon = h.Vector().record(recording_cell.axon(0.5)._ref_v)\n",
        "    h.finitialize(-70*mV)\n",
        "    h.continuerun(300*ms)\n",
        "    f, Pxx_den = signal.welch(list(axon),4000)\n",
        "    Pxx_den_db = 10*np.log10(Pxx_den)\n",
        "    plt1.plot(f, Pxx_den_db)\n",
        "    plt1.title(\"PSD of Output \" + file + \" \" + sensor)\n",
        "    plt1.ylim([-30, 20])\n",
        "    plt1.xlim([0,100])\n",
        "    plt1.xlabel('frequency [Hz]')\n",
        "    plt1.ylabel('PSD [dB/Hz]')\n",
        "    plt1.show()\n",
        "    # plt1.plot(scipy.signal.welch(list(axon))) "
      ],
      "metadata": {
        "id": "-z59senREetv"
      },
      "id": "-z59senREetv",
      "execution_count": 39,
      "outputs": []
    },
    {
      "cell_type": "code",
      "source": [
        "def welchmultiple(file, sensor):\n",
        "    from scipy import signal\n",
        "    recording_cell = []\n",
        "    for i in range(size):\n",
        "        recording_cell.append(h.Vector().record(L1.sets[i].M1.axon(0.5)._ref_v))\n",
        "    h.finitialize(-70*mV)\n",
        "    h.continuerun(300*ms)\n",
        "    axon = np.mean(recording_cell, axis=0)\n",
        "    f, Pxx_den = signal.welch(list(axon),4000)\n",
        "    Pxx_den_db = 10*np.log10(Pxx_den)\n",
        "    plt1.plot(f, Pxx_den_db)\n",
        "    plt1.title(\"PSD of M1 Mean Field \" + file + \" \" + sensor)\n",
        "    plt1.ylim([-30, 20])\n",
        "    plt1.xlim([0,100])\n",
        "    plt1.xlabel('frequency [Hz]')\n",
        "    plt1.ylabel('PSD [dB/Hz]')\n",
        "    plt1.show()\n",
        "    # plt1.plot(scipy.signal.welch(list(axon)))     "
      ],
      "metadata": {
        "id": "q5uShhCOGcbk"
      },
      "id": "q5uShhCOGcbk",
      "execution_count": 40,
      "outputs": []
    },
    {
      "cell_type": "code",
      "source": [
        "import hfda\n",
        "import numpy as np\n",
        "import antropy as ant# Katz fractal dimension\n",
        "k_max = 10\n",
        "csv_files = ['rose_natural/rose_nat.csv', 'rose_artificial/rose_art.csv', 'orange_natural/orange_natural.csv', 'orange_artificial/orange_art.csv', 'lemon_natural/lemon_nat.csv', 'lemon_artificial/lemon_art.csv', 'apple_natural/apple_nat.csv', 'apple_artificial/art_apple_day4.csv']\n",
        "fd_hfda = {}\n",
        "fd_katz = {}\n",
        "for file in csv_files:\n",
        "    df = pd.read_csv('/content/drive/MyDrive/csvs/'+file)\n",
        "\n",
        "    for num in range(6):\n",
        "        print(file, num)\n",
        "        sensor = \"Sensor\"+str(num+1)\n",
        "        L1 = LATERAL(15, np.random.uniform(0.5,1,15))\n",
        "        learn()\n",
        "        recording_cell = L1.AON.G1\n",
        "        axon = h.Vector().record(recording_cell.axon(0.5)._ref_v)\n",
        "        h.finitialize(-70*mV)\n",
        "        h.continuerun(500*ms)\n",
        "        welch(file, sensor)\n",
        "        welch(\"L1\")\n",
        "        fin_out = np.array(list(axon))\n",
        "        D1 = hfda.measure(fin_out, k_max)\n",
        "        D2 = ant.katz_fd(list(axon))\n",
        "        try:\n",
        "            fd_hfda[file].append(D1)\n",
        "            fd_katz[file].append(D2)\n",
        "        except KeyError:\n",
        "            fd_hfda[file] = [D1]\n",
        "            fd_katz[file] = [D2]\n",
        "        print(file, sensor, \"HFDA:\", D1, \"Katz FD:\", D2)\n"
      ],
      "metadata": {
        "id": "wT_qS9RyLu4Q"
      },
      "id": "wT_qS9RyLu4Q",
      "execution_count": null,
      "outputs": []
    },
    {
      "cell_type": "markdown",
      "metadata": {
        "id": "RYcaSlQaX8NY"
      },
      "source": [
        "# Scratchpad "
      ],
      "id": "RYcaSlQaX8NY"
    },
    {
      "cell_type": "code",
      "execution_count": null,
      "metadata": {
        "id": "SL3LpJeyY1do"
      },
      "outputs": [],
      "source": [
        "name = 'DPC'\n",
        "addendum=\"\"\n",
        "recording_cell = L1.DPC\n",
        "cell_axon = h.Vector().record(recording_cell.axon(0.5)._ref_v)\n",
        "cell_dend = h.Vector().record(recording_cell.dend(0.5)._ref_v)\n",
        "t = h.Vector().record(h._ref_t)\n",
        "\n",
        "h.finitialize(-70 * mV)\n",
        "h.continuerun(300 * ms)\n",
        "\n",
        "f = plt2.figure(x_axis_label='t (ms)', y_axis_label='v (mV)')\n",
        "f.line(t, list(cell_axon), line_width=1,legend_label=name+' axon '+addendum,line_color='black')\n",
        "f.line(t, list(cell_dend), line_width=2,legend_label=name+' dendrite '+addendum,line_color='red', line_dash='dashed')\n",
        "plt2.show(f)"
      ],
      "id": "SL3LpJeyY1do"
    },
    {
      "cell_type": "code",
      "execution_count": null,
      "metadata": {
        "id": "39kj6_YAdD6p"
      },
      "outputs": [],
      "source": [
        ""
      ],
      "id": "39kj6_YAdD6p"
    }
  ],
  "metadata": {
    "colab": {
      "collapsed_sections": [
        "L_9d7LtSWFA0",
        "MWYTz03xLsWS",
        "IqVU4uAHwxiJ",
        "90Kn6XE2V6nW",
        "VWHFMMFXWjhI",
        "N5NCjS3XWr6s",
        "8b2874e2",
        "8ba65a81",
        "4tGgp4nPXab1",
        "dpdAXofpXg5X",
        "4fsYjO7nXqIO",
        "RYcaSlQaX8NY"
      ],
      "name": "Latest: Complete Network.ipynb",
      "provenance": [],
      "include_colab_link": true
    },
    "kernelspec": {
      "display_name": "Python 3",
      "language": "python",
      "name": "python3"
    },
    "language_info": {
      "codemirror_mode": {
        "name": "ipython",
        "version": 3
      },
      "file_extension": ".py",
      "mimetype": "text/x-python",
      "name": "python",
      "nbconvert_exporter": "python",
      "pygments_lexer": "ipython3",
      "version": "3.9.6"
    },
    "widgets": {
      "application/vnd.jupyter.widget-state+json": {
        "34bfd490b9a84b7a91625d7e2cdd8908": {
          "model_module": "@jupyter-widgets/controls",
          "model_name": "CheckboxModel",
          "model_module_version": "1.5.0",
          "state": {
            "_dom_classes": [],
            "_model_module": "@jupyter-widgets/controls",
            "_model_module_version": "1.5.0",
            "_model_name": "CheckboxModel",
            "_view_count": null,
            "_view_module": "@jupyter-widgets/controls",
            "_view_module_version": "1.5.0",
            "_view_name": "CheckboxView",
            "description": "Add noise",
            "description_tooltip": null,
            "disabled": false,
            "indent": true,
            "layout": "IPY_MODEL_9367d45c8bfd4f9ab14c6d6406ce6c03",
            "style": "IPY_MODEL_8431d58adef04d1c884b510c017ddcdf",
            "value": false
          }
        },
        "9367d45c8bfd4f9ab14c6d6406ce6c03": {
          "model_module": "@jupyter-widgets/base",
          "model_name": "LayoutModel",
          "model_module_version": "1.2.0",
          "state": {
            "_model_module": "@jupyter-widgets/base",
            "_model_module_version": "1.2.0",
            "_model_name": "LayoutModel",
            "_view_count": null,
            "_view_module": "@jupyter-widgets/base",
            "_view_module_version": "1.2.0",
            "_view_name": "LayoutView",
            "align_content": null,
            "align_items": null,
            "align_self": null,
            "border": null,
            "bottom": null,
            "display": null,
            "flex": null,
            "flex_flow": null,
            "grid_area": null,
            "grid_auto_columns": null,
            "grid_auto_flow": null,
            "grid_auto_rows": null,
            "grid_column": null,
            "grid_gap": null,
            "grid_row": null,
            "grid_template_areas": null,
            "grid_template_columns": null,
            "grid_template_rows": null,
            "height": null,
            "justify_content": null,
            "justify_items": null,
            "left": null,
            "margin": null,
            "max_height": null,
            "max_width": null,
            "min_height": null,
            "min_width": null,
            "object_fit": null,
            "object_position": null,
            "order": null,
            "overflow": null,
            "overflow_x": null,
            "overflow_y": null,
            "padding": null,
            "right": null,
            "top": null,
            "visibility": null,
            "width": null
          }
        },
        "8431d58adef04d1c884b510c017ddcdf": {
          "model_module": "@jupyter-widgets/controls",
          "model_name": "DescriptionStyleModel",
          "model_module_version": "1.5.0",
          "state": {
            "_model_module": "@jupyter-widgets/controls",
            "_model_module_version": "1.5.0",
            "_model_name": "DescriptionStyleModel",
            "_view_count": null,
            "_view_module": "@jupyter-widgets/base",
            "_view_module_version": "1.2.0",
            "_view_name": "StyleView",
            "description_width": ""
          }
        },
        "0c3c0d0df2a94aa1a4cb4fe35d7d9787": {
          "model_module": "@jupyter-widgets/controls",
          "model_name": "VBoxModel",
          "model_module_version": "1.5.0",
          "state": {
            "_dom_classes": [],
            "_model_module": "@jupyter-widgets/controls",
            "_model_module_version": "1.5.0",
            "_model_name": "VBoxModel",
            "_view_count": null,
            "_view_module": "@jupyter-widgets/controls",
            "_view_module_version": "1.5.0",
            "_view_name": "VBoxView",
            "box_style": "",
            "children": [
              "IPY_MODEL_363ec4e319754db3b22dcb3eb6555ce1",
              "IPY_MODEL_ecde8c372a1d487ea7e74309820252f0"
            ],
            "layout": "IPY_MODEL_57c215c0584049c9ad863c99fe0f865f"
          }
        },
        "363ec4e319754db3b22dcb3eb6555ce1": {
          "model_module": "@jupyter-widgets/controls",
          "model_name": "FloatTextModel",
          "model_module_version": "1.5.0",
          "state": {
            "_dom_classes": [],
            "_model_module": "@jupyter-widgets/controls",
            "_model_module_version": "1.5.0",
            "_model_name": "FloatTextModel",
            "_view_count": null,
            "_view_module": "@jupyter-widgets/controls",
            "_view_module_version": "1.5.0",
            "_view_name": "FloatTextView",
            "continuous_update": false,
            "description": "Amplitude:",
            "description_tooltip": null,
            "disabled": false,
            "layout": "IPY_MODEL_f6ebb3ce7cbe4a499bab2e2b99df3fd8",
            "step": null,
            "style": "IPY_MODEL_44df582a5ece41b7a42e2f76cc00cc20",
            "value": 0.1
          }
        },
        "ecde8c372a1d487ea7e74309820252f0": {
          "model_module": "@jupyter-widgets/controls",
          "model_name": "FloatTextModel",
          "model_module_version": "1.5.0",
          "state": {
            "_dom_classes": [],
            "_model_module": "@jupyter-widgets/controls",
            "_model_module_version": "1.5.0",
            "_model_name": "FloatTextModel",
            "_view_count": null,
            "_view_module": "@jupyter-widgets/controls",
            "_view_module_version": "1.5.0",
            "_view_name": "FloatTextView",
            "continuous_update": false,
            "description": "sets:",
            "description_tooltip": null,
            "disabled": false,
            "layout": "IPY_MODEL_ebd88484beb64e20a84d258cdaf7aac4",
            "step": null,
            "style": "IPY_MODEL_c9327aff2a7c4d34bdabc46209de25a6",
            "value": 15
          }
        },
        "57c215c0584049c9ad863c99fe0f865f": {
          "model_module": "@jupyter-widgets/base",
          "model_name": "LayoutModel",
          "model_module_version": "1.2.0",
          "state": {
            "_model_module": "@jupyter-widgets/base",
            "_model_module_version": "1.2.0",
            "_model_name": "LayoutModel",
            "_view_count": null,
            "_view_module": "@jupyter-widgets/base",
            "_view_module_version": "1.2.0",
            "_view_name": "LayoutView",
            "align_content": null,
            "align_items": null,
            "align_self": null,
            "border": null,
            "bottom": null,
            "display": null,
            "flex": null,
            "flex_flow": null,
            "grid_area": null,
            "grid_auto_columns": null,
            "grid_auto_flow": null,
            "grid_auto_rows": null,
            "grid_column": null,
            "grid_gap": null,
            "grid_row": null,
            "grid_template_areas": null,
            "grid_template_columns": null,
            "grid_template_rows": null,
            "height": null,
            "justify_content": null,
            "justify_items": null,
            "left": null,
            "margin": null,
            "max_height": null,
            "max_width": null,
            "min_height": null,
            "min_width": null,
            "object_fit": null,
            "object_position": null,
            "order": null,
            "overflow": null,
            "overflow_x": null,
            "overflow_y": null,
            "padding": null,
            "right": null,
            "top": null,
            "visibility": null,
            "width": null
          }
        },
        "f6ebb3ce7cbe4a499bab2e2b99df3fd8": {
          "model_module": "@jupyter-widgets/base",
          "model_name": "LayoutModel",
          "model_module_version": "1.2.0",
          "state": {
            "_model_module": "@jupyter-widgets/base",
            "_model_module_version": "1.2.0",
            "_model_name": "LayoutModel",
            "_view_count": null,
            "_view_module": "@jupyter-widgets/base",
            "_view_module_version": "1.2.0",
            "_view_name": "LayoutView",
            "align_content": null,
            "align_items": null,
            "align_self": null,
            "border": null,
            "bottom": null,
            "display": null,
            "flex": null,
            "flex_flow": null,
            "grid_area": null,
            "grid_auto_columns": null,
            "grid_auto_flow": null,
            "grid_auto_rows": null,
            "grid_column": null,
            "grid_gap": null,
            "grid_row": null,
            "grid_template_areas": null,
            "grid_template_columns": null,
            "grid_template_rows": null,
            "height": null,
            "justify_content": null,
            "justify_items": null,
            "left": null,
            "margin": null,
            "max_height": null,
            "max_width": null,
            "min_height": null,
            "min_width": null,
            "object_fit": null,
            "object_position": null,
            "order": null,
            "overflow": null,
            "overflow_x": null,
            "overflow_y": null,
            "padding": null,
            "right": null,
            "top": null,
            "visibility": null,
            "width": null
          }
        },
        "44df582a5ece41b7a42e2f76cc00cc20": {
          "model_module": "@jupyter-widgets/controls",
          "model_name": "DescriptionStyleModel",
          "model_module_version": "1.5.0",
          "state": {
            "_model_module": "@jupyter-widgets/controls",
            "_model_module_version": "1.5.0",
            "_model_name": "DescriptionStyleModel",
            "_view_count": null,
            "_view_module": "@jupyter-widgets/base",
            "_view_module_version": "1.2.0",
            "_view_name": "StyleView",
            "description_width": ""
          }
        },
        "ebd88484beb64e20a84d258cdaf7aac4": {
          "model_module": "@jupyter-widgets/base",
          "model_name": "LayoutModel",
          "model_module_version": "1.2.0",
          "state": {
            "_model_module": "@jupyter-widgets/base",
            "_model_module_version": "1.2.0",
            "_model_name": "LayoutModel",
            "_view_count": null,
            "_view_module": "@jupyter-widgets/base",
            "_view_module_version": "1.2.0",
            "_view_name": "LayoutView",
            "align_content": null,
            "align_items": null,
            "align_self": null,
            "border": null,
            "bottom": null,
            "display": null,
            "flex": null,
            "flex_flow": null,
            "grid_area": null,
            "grid_auto_columns": null,
            "grid_auto_flow": null,
            "grid_auto_rows": null,
            "grid_column": null,
            "grid_gap": null,
            "grid_row": null,
            "grid_template_areas": null,
            "grid_template_columns": null,
            "grid_template_rows": null,
            "height": null,
            "justify_content": null,
            "justify_items": null,
            "left": null,
            "margin": null,
            "max_height": null,
            "max_width": null,
            "min_height": null,
            "min_width": null,
            "object_fit": null,
            "object_position": null,
            "order": null,
            "overflow": null,
            "overflow_x": null,
            "overflow_y": null,
            "padding": null,
            "right": null,
            "top": null,
            "visibility": null,
            "width": null
          }
        },
        "c9327aff2a7c4d34bdabc46209de25a6": {
          "model_module": "@jupyter-widgets/controls",
          "model_name": "DescriptionStyleModel",
          "model_module_version": "1.5.0",
          "state": {
            "_model_module": "@jupyter-widgets/controls",
            "_model_module_version": "1.5.0",
            "_model_name": "DescriptionStyleModel",
            "_view_count": null,
            "_view_module": "@jupyter-widgets/base",
            "_view_module_version": "1.2.0",
            "_view_name": "StyleView",
            "description_width": ""
          }
        },
        "e4dd9baad32e4af59727fc31cb95aee1": {
          "model_module": "@jupyter-widgets/controls",
          "model_name": "DropdownModel",
          "model_module_version": "1.5.0",
          "state": {
            "_dom_classes": [],
            "_model_module": "@jupyter-widgets/controls",
            "_model_module_version": "1.5.0",
            "_model_name": "DropdownModel",
            "_options_labels": [
              "uniform",
              "normal",
              "poisson"
            ],
            "_view_count": null,
            "_view_module": "@jupyter-widgets/controls",
            "_view_module_version": "1.5.0",
            "_view_name": "DropdownView",
            "description": "distribution:",
            "description_tooltip": null,
            "disabled": false,
            "index": 0,
            "layout": "IPY_MODEL_8a4980c504d840da87fdc6775bbd9db1",
            "style": "IPY_MODEL_44b455915b8f4015b1828425e936897f"
          }
        },
        "8a4980c504d840da87fdc6775bbd9db1": {
          "model_module": "@jupyter-widgets/base",
          "model_name": "LayoutModel",
          "model_module_version": "1.2.0",
          "state": {
            "_model_module": "@jupyter-widgets/base",
            "_model_module_version": "1.2.0",
            "_model_name": "LayoutModel",
            "_view_count": null,
            "_view_module": "@jupyter-widgets/base",
            "_view_module_version": "1.2.0",
            "_view_name": "LayoutView",
            "align_content": null,
            "align_items": null,
            "align_self": null,
            "border": null,
            "bottom": null,
            "display": null,
            "flex": null,
            "flex_flow": null,
            "grid_area": null,
            "grid_auto_columns": null,
            "grid_auto_flow": null,
            "grid_auto_rows": null,
            "grid_column": null,
            "grid_gap": null,
            "grid_row": null,
            "grid_template_areas": null,
            "grid_template_columns": null,
            "grid_template_rows": null,
            "height": null,
            "justify_content": null,
            "justify_items": null,
            "left": null,
            "margin": null,
            "max_height": null,
            "max_width": null,
            "min_height": null,
            "min_width": null,
            "object_fit": null,
            "object_position": null,
            "order": null,
            "overflow": null,
            "overflow_x": null,
            "overflow_y": null,
            "padding": null,
            "right": null,
            "top": null,
            "visibility": null,
            "width": null
          }
        },
        "44b455915b8f4015b1828425e936897f": {
          "model_module": "@jupyter-widgets/controls",
          "model_name": "DescriptionStyleModel",
          "model_module_version": "1.5.0",
          "state": {
            "_model_module": "@jupyter-widgets/controls",
            "_model_module_version": "1.5.0",
            "_model_name": "DescriptionStyleModel",
            "_view_count": null,
            "_view_module": "@jupyter-widgets/base",
            "_view_module_version": "1.2.0",
            "_view_name": "StyleView",
            "description_width": ""
          }
        },
        "82d76092bcaa4d49ad1bf7fe63808b29": {
          "model_module": "@jupyter-widgets/controls",
          "model_name": "VBoxModel",
          "model_module_version": "1.5.0",
          "state": {
            "_dom_classes": [],
            "_model_module": "@jupyter-widgets/controls",
            "_model_module_version": "1.5.0",
            "_model_name": "VBoxModel",
            "_view_count": null,
            "_view_module": "@jupyter-widgets/controls",
            "_view_module_version": "1.5.0",
            "_view_name": "VBoxView",
            "box_style": "",
            "children": [
              "IPY_MODEL_f7e381d5b20b457db8c2bca88ba6b098",
              "IPY_MODEL_21cd0cf7057142a8b344eec6d7440517",
              "IPY_MODEL_6856c08d441d426db32d9fc958230853"
            ],
            "layout": "IPY_MODEL_3304ce36e7b84d9ead8a3d33d506bb03"
          }
        },
        "f7e381d5b20b457db8c2bca88ba6b098": {
          "model_module": "@jupyter-widgets/controls",
          "model_name": "FloatTextModel",
          "model_module_version": "1.5.0",
          "state": {
            "_dom_classes": [],
            "_model_module": "@jupyter-widgets/controls",
            "_model_module_version": "1.5.0",
            "_model_name": "FloatTextModel",
            "_view_count": null,
            "_view_module": "@jupyter-widgets/controls",
            "_view_module_version": "1.5.0",
            "_view_name": "FloatTextView",
            "continuous_update": false,
            "description": "low:",
            "description_tooltip": null,
            "disabled": false,
            "layout": "IPY_MODEL_dc0501560da64055b703db1aaf642cec",
            "step": null,
            "style": "IPY_MODEL_fa9deb4f9b634b8d8889ae853123918b",
            "value": 1
          }
        },
        "21cd0cf7057142a8b344eec6d7440517": {
          "model_module": "@jupyter-widgets/controls",
          "model_name": "FloatTextModel",
          "model_module_version": "1.5.0",
          "state": {
            "_dom_classes": [],
            "_model_module": "@jupyter-widgets/controls",
            "_model_module_version": "1.5.0",
            "_model_name": "FloatTextModel",
            "_view_count": null,
            "_view_module": "@jupyter-widgets/controls",
            "_view_module_version": "1.5.0",
            "_view_name": "FloatTextView",
            "continuous_update": false,
            "description": "high:",
            "description_tooltip": null,
            "disabled": false,
            "layout": "IPY_MODEL_ae1ea9368f7a46b18a120a83c5639043",
            "step": null,
            "style": "IPY_MODEL_6a73722fae7d491ebdef6406a078d598",
            "value": 1.5
          }
        },
        "6856c08d441d426db32d9fc958230853": {
          "model_module": "@jupyter-widgets/controls",
          "model_name": "FloatTextModel",
          "model_module_version": "1.5.0",
          "state": {
            "_dom_classes": [],
            "_model_module": "@jupyter-widgets/controls",
            "_model_module_version": "1.5.0",
            "_model_name": "FloatTextModel",
            "_view_count": null,
            "_view_module": "@jupyter-widgets/controls",
            "_view_module_version": "1.5.0",
            "_view_name": "FloatTextView",
            "continuous_update": false,
            "description": "size:",
            "description_tooltip": null,
            "disabled": false,
            "layout": "IPY_MODEL_d9fffd0470ac4595a2b7b44b9ef549ca",
            "step": null,
            "style": "IPY_MODEL_3ab2bd9d305a4edf92f3778cd9761967",
            "value": 15
          }
        },
        "3304ce36e7b84d9ead8a3d33d506bb03": {
          "model_module": "@jupyter-widgets/base",
          "model_name": "LayoutModel",
          "model_module_version": "1.2.0",
          "state": {
            "_model_module": "@jupyter-widgets/base",
            "_model_module_version": "1.2.0",
            "_model_name": "LayoutModel",
            "_view_count": null,
            "_view_module": "@jupyter-widgets/base",
            "_view_module_version": "1.2.0",
            "_view_name": "LayoutView",
            "align_content": null,
            "align_items": null,
            "align_self": null,
            "border": null,
            "bottom": null,
            "display": null,
            "flex": null,
            "flex_flow": null,
            "grid_area": null,
            "grid_auto_columns": null,
            "grid_auto_flow": null,
            "grid_auto_rows": null,
            "grid_column": null,
            "grid_gap": null,
            "grid_row": null,
            "grid_template_areas": null,
            "grid_template_columns": null,
            "grid_template_rows": null,
            "height": null,
            "justify_content": null,
            "justify_items": null,
            "left": null,
            "margin": null,
            "max_height": null,
            "max_width": null,
            "min_height": null,
            "min_width": null,
            "object_fit": null,
            "object_position": null,
            "order": null,
            "overflow": null,
            "overflow_x": null,
            "overflow_y": null,
            "padding": null,
            "right": null,
            "top": null,
            "visibility": null,
            "width": null
          }
        },
        "dc0501560da64055b703db1aaf642cec": {
          "model_module": "@jupyter-widgets/base",
          "model_name": "LayoutModel",
          "model_module_version": "1.2.0",
          "state": {
            "_model_module": "@jupyter-widgets/base",
            "_model_module_version": "1.2.0",
            "_model_name": "LayoutModel",
            "_view_count": null,
            "_view_module": "@jupyter-widgets/base",
            "_view_module_version": "1.2.0",
            "_view_name": "LayoutView",
            "align_content": null,
            "align_items": null,
            "align_self": null,
            "border": null,
            "bottom": null,
            "display": null,
            "flex": null,
            "flex_flow": null,
            "grid_area": null,
            "grid_auto_columns": null,
            "grid_auto_flow": null,
            "grid_auto_rows": null,
            "grid_column": null,
            "grid_gap": null,
            "grid_row": null,
            "grid_template_areas": null,
            "grid_template_columns": null,
            "grid_template_rows": null,
            "height": null,
            "justify_content": null,
            "justify_items": null,
            "left": null,
            "margin": null,
            "max_height": null,
            "max_width": null,
            "min_height": null,
            "min_width": null,
            "object_fit": null,
            "object_position": null,
            "order": null,
            "overflow": null,
            "overflow_x": null,
            "overflow_y": null,
            "padding": null,
            "right": null,
            "top": null,
            "visibility": null,
            "width": null
          }
        },
        "fa9deb4f9b634b8d8889ae853123918b": {
          "model_module": "@jupyter-widgets/controls",
          "model_name": "DescriptionStyleModel",
          "model_module_version": "1.5.0",
          "state": {
            "_model_module": "@jupyter-widgets/controls",
            "_model_module_version": "1.5.0",
            "_model_name": "DescriptionStyleModel",
            "_view_count": null,
            "_view_module": "@jupyter-widgets/base",
            "_view_module_version": "1.2.0",
            "_view_name": "StyleView",
            "description_width": ""
          }
        },
        "ae1ea9368f7a46b18a120a83c5639043": {
          "model_module": "@jupyter-widgets/base",
          "model_name": "LayoutModel",
          "model_module_version": "1.2.0",
          "state": {
            "_model_module": "@jupyter-widgets/base",
            "_model_module_version": "1.2.0",
            "_model_name": "LayoutModel",
            "_view_count": null,
            "_view_module": "@jupyter-widgets/base",
            "_view_module_version": "1.2.0",
            "_view_name": "LayoutView",
            "align_content": null,
            "align_items": null,
            "align_self": null,
            "border": null,
            "bottom": null,
            "display": null,
            "flex": null,
            "flex_flow": null,
            "grid_area": null,
            "grid_auto_columns": null,
            "grid_auto_flow": null,
            "grid_auto_rows": null,
            "grid_column": null,
            "grid_gap": null,
            "grid_row": null,
            "grid_template_areas": null,
            "grid_template_columns": null,
            "grid_template_rows": null,
            "height": null,
            "justify_content": null,
            "justify_items": null,
            "left": null,
            "margin": null,
            "max_height": null,
            "max_width": null,
            "min_height": null,
            "min_width": null,
            "object_fit": null,
            "object_position": null,
            "order": null,
            "overflow": null,
            "overflow_x": null,
            "overflow_y": null,
            "padding": null,
            "right": null,
            "top": null,
            "visibility": null,
            "width": null
          }
        },
        "6a73722fae7d491ebdef6406a078d598": {
          "model_module": "@jupyter-widgets/controls",
          "model_name": "DescriptionStyleModel",
          "model_module_version": "1.5.0",
          "state": {
            "_model_module": "@jupyter-widgets/controls",
            "_model_module_version": "1.5.0",
            "_model_name": "DescriptionStyleModel",
            "_view_count": null,
            "_view_module": "@jupyter-widgets/base",
            "_view_module_version": "1.2.0",
            "_view_name": "StyleView",
            "description_width": ""
          }
        },
        "d9fffd0470ac4595a2b7b44b9ef549ca": {
          "model_module": "@jupyter-widgets/base",
          "model_name": "LayoutModel",
          "model_module_version": "1.2.0",
          "state": {
            "_model_module": "@jupyter-widgets/base",
            "_model_module_version": "1.2.0",
            "_model_name": "LayoutModel",
            "_view_count": null,
            "_view_module": "@jupyter-widgets/base",
            "_view_module_version": "1.2.0",
            "_view_name": "LayoutView",
            "align_content": null,
            "align_items": null,
            "align_self": null,
            "border": null,
            "bottom": null,
            "display": null,
            "flex": null,
            "flex_flow": null,
            "grid_area": null,
            "grid_auto_columns": null,
            "grid_auto_flow": null,
            "grid_auto_rows": null,
            "grid_column": null,
            "grid_gap": null,
            "grid_row": null,
            "grid_template_areas": null,
            "grid_template_columns": null,
            "grid_template_rows": null,
            "height": null,
            "justify_content": null,
            "justify_items": null,
            "left": null,
            "margin": null,
            "max_height": null,
            "max_width": null,
            "min_height": null,
            "min_width": null,
            "object_fit": null,
            "object_position": null,
            "order": null,
            "overflow": null,
            "overflow_x": null,
            "overflow_y": null,
            "padding": null,
            "right": null,
            "top": null,
            "visibility": null,
            "width": null
          }
        },
        "3ab2bd9d305a4edf92f3778cd9761967": {
          "model_module": "@jupyter-widgets/controls",
          "model_name": "DescriptionStyleModel",
          "model_module_version": "1.5.0",
          "state": {
            "_model_module": "@jupyter-widgets/controls",
            "_model_module_version": "1.5.0",
            "_model_name": "DescriptionStyleModel",
            "_view_count": null,
            "_view_module": "@jupyter-widgets/base",
            "_view_module_version": "1.2.0",
            "_view_name": "StyleView",
            "description_width": ""
          }
        }
      }
    }
  },
  "nbformat": 4,
  "nbformat_minor": 5
}
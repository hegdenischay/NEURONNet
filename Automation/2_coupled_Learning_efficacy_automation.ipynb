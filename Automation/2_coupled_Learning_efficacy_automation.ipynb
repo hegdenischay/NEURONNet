{
  "cells": [
    {
      "cell_type": "markdown",
      "metadata": {
        "id": "6AP-DJRCsM2x"
      },
      "source": [
        "### By default\n",
        "case 1:\n",
        "- Amplitude 0.1, 30 sets, uniform distribution with (0.05, 0.1, 30), with noise amp of 0.01\n",
        "\n",
        "case 2:\n",
        "- Amplitude 0.1, 30 sets, Normal distribution with (1, 0.5, 30), with noise amp of 0.01\n",
        "\n",
        "case 3:\n"
      ]
    },
    {
      "cell_type": "markdown",
      "metadata": {
        "id": "VkhnjYHAU8pc"
      },
      "source": [
        "References:\n",
        "\n",
        "1) https://www.neuron.yale.edu/neuron/static/new_doc/programming/hocsyntax.html\n",
        "\n",
        "2) https://www.neuron.yale.edu/neuron/static/new_doc/programming/python.html\n",
        "\n",
        "3) https://www.neuron.yale.edu/neuron/static/py_doc/programming/python.html\n",
        "\n",
        "4) https://www.geeksforgeeks.org/single-neuron-neural-network-python/\n",
        "\n",
        "5) https://github.com/piazentin/ksets\n",
        "\n",
        "6) AP - https://www.moleculardevices.com/applications/\n",
        "patch-clamp-electrophysiology/what-action-potential#gref\n",
        "\n",
        "7) https://www.neuron.yale.edu/neuron/static/py_doc/modelspec/programmatic/network/netcon.html\n",
        "\n",
        "8) http://neupy.com/apidocs/neupy.algorithms.associative.hebb.html\n",
        "\n",
        "9) https://qbi-software.github.io/NEURON-tutorial/lessons/network\n",
        "\n",
        "10) https://www.neuron.yale.edu/neuron/static/py_doc/modelspec/programmatic/topology/geometry.html\n",
        "\n",
        "11) http://www.cnel.ufl.edu/courses/EEL6814/chapter6.pdf\n",
        "\n",
        "12) https://www.slideshare.net/mentelibre/hebbian-learning\n",
        "\n",
        "13) http://www.diva-portal.org/smash/get/diva2:1089220/FULLTEXT02"
      ]
    },
    {
      "cell_type": "markdown",
      "source": [
        "# Helper Functions"
      ],
      "metadata": {
        "id": "INx44FUc2j9X"
      }
    },
    {
      "cell_type": "code",
      "source": [
        "import numpy as np\n",
        "currentAmp = 1\n",
        "sets = 3\n",
        "# noiseSD = 0.01\n",
        "weights = np.random.uniform(0.05, 0.1, sets*2)\n",
        "delayP1P2 = 0.1\n",
        "delayP2P1 = 0.3"
      ],
      "metadata": {
        "id": "dF0bfh-jrfIJ"
      },
      "execution_count": 1,
      "outputs": []
    },
    {
      "cell_type": "code",
      "execution_count": 2,
      "metadata": {
        "colab": {
          "base_uri": "https://localhost:8080/"
        },
        "id": "Ru9daIXaVDN4",
        "outputId": "87d7f7c0-d829-4c3b-d9a9-e312bc9808f3"
      },
      "outputs": [
        {
          "output_type": "stream",
          "name": "stdout",
          "text": [
            "Collecting neuron\n",
            "  Downloading NEURON-8.1.0-cp37-cp37m-manylinux_2_17_x86_64.manylinux2014_x86_64.whl (15.0 MB)\n",
            "\u001b[K     |████████████████████████████████| 15.0 MB 4.9 MB/s \n",
            "\u001b[?25hRequirement already satisfied: numpy>=1.9.3 in /usr/local/lib/python3.7/dist-packages (from neuron) (1.21.5)\n",
            "Installing collected packages: neuron\n",
            "Successfully installed neuron-8.1.0\n"
          ]
        }
      ],
      "source": [
        "pip install neuron"
      ]
    },
    {
      "cell_type": "code",
      "execution_count": 3,
      "metadata": {
        "id": "dT9S8WN_TqKj"
      },
      "outputs": [],
      "source": [
        "import time\n",
        "totalstart = time.time()\n",
        "import os\n",
        "if os.getcwd() != \"/content\":\n",
        "    # we are not in google colab, assume hebbian library is in current dir\n",
        "    from hebb import ORN, MCELL, GCELL\n",
        "else:\n",
        "    # download from git\n",
        "    import shutil, requests\n",
        "    url = 'https://cloud.operationtulip.com/s/t8nbn8Y582w94P3/download/git.zip'\n",
        "    response = requests.get(url, stream=True)\n",
        "    with open('git.zip', 'wb') as out_file:\n",
        "        shutil.copyfileobj(response.raw, out_file)\n",
        "    del response\n",
        "    import zipfile\n",
        "    with zipfile.ZipFile('git.zip', 'r') as zip_ref:\n",
        "        zip_ref.extractall('')\n",
        "    from hebb_test import ORN, MCELL, GCELL"
      ]
    },
    {
      "cell_type": "code",
      "execution_count": 4,
      "metadata": {
        "id": "qHQnzAX3VMu-"
      },
      "outputs": [],
      "source": [
        "from neuron import h                     #.h is a HOC object instanced & gui from neuron can also be imported \n",
        "from neuron.units import ms,mV\n",
        "h.load_file('stdrun.hoc')                #Allows us to do a high level simulation\n",
        "  \n",
        "import matplotlib.pyplot as plt1\n",
        "\n",
        "import numpy as np\n",
        "from scipy.stats import poisson\n",
        "import seaborn as sb\n",
        "\n",
        "from bokeh.io import output_notebook\n",
        "import bokeh.plotting as plt2\n",
        "output_notebook()\n",
        "\n"
      ]
    },
    {
      "cell_type": "code",
      "execution_count": 5,
      "metadata": {
        "id": "9o2Z2RO4_o5B"
      },
      "outputs": [],
      "source": [
        "def stairstep(lo: float, hi: float, duration: int, max_duration: int = 200, noise: list = []) -> list:\n",
        "    # duration and max_duration are in ms\n",
        "    ans = [lo if i < duration else hi for i in range(0,max_duration)]\n",
        "    if len(noise) == 0:\n",
        "        return ans\n",
        "    else:\n",
        "        assert len(ans) == len(noise)\n",
        "        return [ans[i]+noise[i] for i in range(len(ans))]\n",
        "    # return [0+0.8*(i/duration) if i < duration else 0 for i in range(0,max_duration)]\n",
        "    # visualize input "
      ]
    },
    {
      "cell_type": "code",
      "execution_count": 6,
      "metadata": {
        "id": "5odvQsJ7wzh_"
      },
      "outputs": [],
      "source": [
        "def netConMaker(source, dest, weights, delay, threshold, place='axon', type='exc'):\n",
        "    if place == 'axon':\n",
        "        if type == 'exc':\n",
        "            netcon = h.NetCon(source.axon(0.5)._ref_v, dest.dendexcisyn, sec=source.axon)\n",
        "        elif type == 'inh':\n",
        "            netcon = h.NetCon(source.axon(0.5)._ref_v, dest.dendinhisyn, sec=source.axon)\n",
        "    elif place == 'soma':\n",
        "        if type == 'exc':\n",
        "            netcon = h.NetCon(source.soma(0.5)._ref_v, dest.dendexcisyn, sec=source.soma)\n",
        "        elif type == 'inh':\n",
        "            netcon = h.NetCon(source.soma(0.5)._ref_v, dest.dendinhisyn, sec=source.soma)\n",
        "    netcon.weight[0] = weights\n",
        "    netcon.delay = delay\n",
        "    netcon.threshold = threshold\n",
        "    return netcon"
      ]
    },
    {
      "cell_type": "code",
      "execution_count": 7,
      "metadata": {
        "id": "fyVJT9eYTbt1"
      },
      "outputs": [],
      "source": [
        "def latConMaker(source, dest, weights, delay, threshold, type='exc'):\n",
        "    if type == 'exc':\n",
        "        netcon = h.NetCon(source.dend(0.5)._ref_v, dest.dendexcisyn, sec=source.dend)\n",
        "    else:\n",
        "        netcon = h.NetCon(source.dend(0.5)._ref_v, dest.dendinhisyn, sec=source.dend)\n",
        "    netcon.weight[0] = weights\n",
        "    netcon.delay = delay\n",
        "    netcon.threshold = threshold\n",
        "    return netcon"
      ]
    },
    {
      "cell_type": "code",
      "execution_count": 8,
      "metadata": {
        "id": "G2RZsImWw1pX"
      },
      "outputs": [],
      "source": [
        "def plotCell(source, name, addendum=''):\n",
        "    recording_cell = source\n",
        "    cell_axon = h.Vector().record(recording_cell.axon(0.5)._ref_v)\n",
        "    cell_dend = h.Vector().record(recording_cell.dend(0.5)._ref_v)\n",
        "    t = h.Vector().record(h._ref_t)\n",
        "\n",
        "    h.finitialize(-70 * mV)\n",
        "    h.continuerun(300 * ms)\n",
        "\n",
        "    f = plt2.figure(x_axis_label='t (ms)', y_axis_label='v (mV)')\n",
        "    f.line(t, list(cell_axon), line_width=1,legend_label=name+' axon '+addendum,line_color='black')\n",
        "    f.line(t, list(cell_dend), line_width=2,legend_label=name+' dendrite '+addendum,line_color='red', line_dash='dashed')\n",
        "    plt2.show(f)"
      ]
    },
    {
      "cell_type": "code",
      "execution_count": 9,
      "metadata": {
        "id": "fRU2J5WKw3Cm"
      },
      "outputs": [],
      "source": [
        "import math\n",
        "def generate_L_weight_delta(first, second, A_minus=-0.011, A_plus=0.01):\n",
        "    tau_pre =20*ms\n",
        "    tau_post =20*ms\n",
        "    delta_t = [(second[iter] - first[iter]) for iter in range(min(len(first),len(second)))]\n",
        "    delta_w_list = [A_plus*math.exp(-delta_t[iter]/tau_post) if delta_t[iter] >=0 else A_minus*math.exp(delta_t[iter]/tau_pre) for iter in range(min(len(first),len(second)))]  \n",
        "    delta_w = sum(delta_w_list)\n",
        "    return delta_w"
      ]
    },
    {
      "cell_type": "code",
      "execution_count": 10,
      "metadata": {
        "id": "K6OJ0E7jV4nG"
      },
      "outputs": [],
      "source": [
        "from IPython.display import HTML, display\n",
        "import time\n",
        "\n",
        "def progress(value, max=100):\n",
        "    return HTML(\"\"\"\n",
        "        <progress\n",
        "            value='{value}'\n",
        "            max='{max}',\n",
        "            style='width: 100%'\n",
        "        >\n",
        "            {value}\n",
        "        </progress>\n",
        "    \"\"\".format(value=value, max=max))"
      ]
    },
    {
      "cell_type": "code",
      "execution_count": 11,
      "metadata": {
        "id": "5hImk4fLWGmW"
      },
      "outputs": [],
      "source": [
        "#Gives one 2 coupled neuron using freeman's topology in olfactory bulb\n",
        "class CONNECTING:\n",
        "\n",
        "    def __init__(self,M,weights,delay1=1,delay2=1):\n",
        "        wMM=weights[0]\n",
        "        \n",
        "        self.M = M #Set no.\n",
        "        self.th = -70\n",
        "        self.maindelay = 0\n",
        "        \n",
        "        #Making 2 neurons\n",
        "        self.cells=[]\n",
        "        self.P1=MCELL(1,self.M)\n",
        "        self.P2=MCELL(2,self.M)\n",
        "        self.cells.append(self.P1)\n",
        "        self.cells.append(self.P2)\n",
        "        \n",
        "        #Giving current pulse\n",
        "        self.stim = h.IClamp(self.P1.dend(0.5))\n",
        "        # self.noise = np.random.normal(0, noiseSD.value, 100)\n",
        "        # self.input = h.Vector(stairstep(0,currentAmp.value,10,100,self.noise))\n",
        "        # self.tv = h.Vector([i for i in range(100)])\n",
        "        # self.stim.delay = 10\n",
        "        # self.stim.dur = 100\n",
        "        # self.stim.amp = 0\n",
        "        # self.input.play(self.stim._ref_amp, self.tv, True) \n",
        "        self.stim.delay = 10\n",
        "        self.stim.dur = 100\n",
        "        self.stim.amp = currentAmp\n",
        "        \n",
        "                \n",
        "        #Connecting P1 to P2\n",
        "        self.nc1 = h.NetCon(self.P1.axon(0.5)._ref_v,self.P2.dendexcisyn,sec=self.P1.axon)   # P1.axon to P2.dend\n",
        "        self.nc1.weight[0] = weights[M]\n",
        "        # print(\"mutual weight is \", weights[M])\n",
        "        self.nc1.delay = delayP1P2 #tP1P2\n",
        "        self.nc1.threshold = self.th\n",
        "        \n",
        "        #Connecting P2 to P1\n",
        "        self.nc2 = h.NetCon(self.P2.axon(0.5)._ref_v,self.P1.dendexcisyn,sec=self.P2.axon)    #P2.axon to P1.dend\n",
        "        self.nc2.weight[0] = weights[M]\n",
        "        self.nc2.delay = delayP2P1 #tP2P1\n",
        "        self.nc2.threshold = self.th    \n",
        "\n",
        "            "
      ]
    },
    {
      "cell_type": "code",
      "execution_count": 12,
      "metadata": {
        "id": "b8K_pZaJjibo"
      },
      "outputs": [],
      "source": [
        "class LATERAL:\n",
        "\n",
        "    def __init__(self,N,weights):\n",
        "        wMML=weights\n",
        "        #wMML=0.1\n",
        "        \n",
        "        self.N = N\n",
        "        self.th = -70\n",
        "        self.maindelay = 20\n",
        "        self.sets = []\n",
        "        c=0\n",
        "        for i in range(N):\n",
        "            self.sets.append(CONNECTING(i,weights))\n",
        "        \n",
        "        self.netConArr = []\n",
        "        for r in range(0,N-1):\n",
        "          #Connecting P1[0] to P1[1]\n",
        "          # make a list for easier access\n",
        "          netConList = []\n",
        "          netConList.append(h.NetCon(self.sets[r].P1.axon(0.5)._ref_v, self.sets[r+1].P1.dendexcisyn,sec=self.sets[r].P1.axon))\n",
        "          netConList[0].weight[0]  = wMML[r+N]\n",
        "        #   print(\"Lateral weight is\", wMML[r+N])\n",
        "          netConList[0].delay = self.maindelay+1\n",
        "          netConList[0].threshold = self.th\n",
        "\n",
        "          netConList.append(h.NetCon(self.sets[r+1].P1.axon(0.5)._ref_v, self.sets[r].P1.dendexcisyn, sec=self.sets[r+1].P1.axon))\n",
        "          netConList[1].weight[0] = wMML[r+N]\n",
        "          netConList[1].delay = self.maindelay+2\n",
        "          netConList[1].threshold = self.th\n",
        "\n",
        "          self.netConArr.append(netConList)\n",
        "\n",
        "          # exec(f\"self.nc11_{r} = h.NetCon(getattr(self.sets[r].P1.axon(0.5), '_ref_v'), self.sets[1+r].P1.dendexcisyn,sec=self.sets[r].P1.axon)\")\n",
        "          # exec(f\"self.nc11_{r}.weight[0] = wMML[r+N]\")\n",
        "          # print(\"lateral weight is\", wMML[r+N])\n",
        "          # exec(f\"self.nc11_{r}.delay = self.maindelay+1\")\n",
        "          # exec(f\"self.nc11_{r}.threshold = self.th\")\n",
        "          # exec(f\"self.nc12_{r} = h.NetCon(getattr(self.sets[1+r].P1.axon(0.5), '_ref_v'), self.sets[r].P1.dendexcisyn,sec=self.sets[1+r].P1.axon)\")\n",
        "          # exec(f\"self.nc12_{r}.weight[0] = wMML[r+N]\")\n",
        "          # #print(wMML[r+N])\n",
        "          # exec(f\"self.nc12_{r}.delay = self.maindelay+2\")\n",
        "          # exec(f\"self.nc12_{r}.threshold = self.th\")"
      ]
    },
    {
      "cell_type": "code",
      "execution_count": 13,
      "metadata": {
        "id": "Jt-gfxD13JYa"
      },
      "outputs": [],
      "source": [
        "%matplotlib inline\n",
        "def plotSpikes():\n",
        "    color=['green','orange']\n",
        "    label=['P1','P2']\n",
        "    plt1.figure(figsize=(16,10))\n",
        "    for j in range(len(L1.sets)):\n",
        "    # for i,cell in enumerate(L1.sets[j].cells):\n",
        "        plt1.scatter(L1.sets[j].cells[0].spike_times, [0.5 + 0.5*j for i in range(len(L1.sets[j].cells[0].spike_times))], s=10,color=color[0]) # for P1\n",
        "        plt1.scatter(L1.sets[j].cells[1].spike_times, [0.7 + 0.5*j for i in range(len(L1.sets[j].cells[1].spike_times))], s=10, color=color[1])\n",
        "    plt1.xlabel('time(ms)')\n",
        "    plt1.legend(label)\n",
        "    plt1.show()"
      ]
    },
    {
      "cell_type": "code",
      "source": [
        "def countSpikes():\n",
        "    sum1=0\n",
        "    sum2=0\n",
        "    list1=[]\n",
        "    list2=[]\n",
        "    for i in range(len(L1.sets)):\n",
        "        list1.append(list(L1.sets[i].cells[0].spike_times))\n",
        "        list2.append(list(L1.sets[i].cells[1].spike_times))\n",
        "        sum1+=len(list1[-1])\n",
        "        sum2+=len(list2[-1])\n",
        "    return (sum1, sum2)"
      ],
      "metadata": {
        "id": "Wwc6aA2Nz0Im"
      },
      "execution_count": 14,
      "outputs": []
    },
    {
      "cell_type": "code",
      "execution_count": 15,
      "metadata": {
        "id": "qSdAfc_Jrx4v"
      },
      "outputs": [],
      "source": [
        "def learn(A_plus, A_minus):\n",
        "    import sys, time\n",
        "    tick = time.time()\n",
        "    epochs = 30\n",
        "    weight_data = []\n",
        "\n",
        "    out = display(progress(0, epochs), display_id=True)\n",
        "\n",
        "    for l in range(epochs):\n",
        "        #print(\"iteration no is\",l)\n",
        "        out.update(progress(l, epochs))    \n",
        "        # print(\"\\nmutual learning\")\n",
        "        P1_axon_data = []\n",
        "        P1_dend_data = []\n",
        "        P2_axon_data = []\n",
        "        P2_dend_data = []\n",
        "        P1_spike_times = []\n",
        "        P2_spike_times = []\n",
        "\n",
        "\n",
        "        \n",
        "        for i in range(len(L1.sets)):\n",
        "            P1_axon_data.append(list(h.Vector().record(L1.sets[i].P1.axon(0.5)._ref_v)))\n",
        "            P1_dend_data.append(list(h.Vector().record(L1.sets[i].P1.dend(0.5)._ref_v)))\n",
        "            P1_spike_times.append(list(L1.sets[i].P1.spike_times))\n",
        "            P2_axon_data.append(list(h.Vector().record(L1.sets[i].P2.axon(0.5)._ref_v)))\n",
        "            P2_spike_times.append(list(L1.sets[i].P2.spike_times))\n",
        "            P2_dend_data.append(list(h.Vector().record(L1.sets[i].P2.dend(0.5)._ref_v)))\n",
        "\n",
        "        t = h.Vector().record(h._ref_t)\n",
        "        h.finitialize(-70* mV)\n",
        "        h.continuerun(300*ms)\n",
        "\n",
        "        # h.finitialize(-70 * mV)\n",
        "\n",
        "        for i in range(len(L1.sets)):\n",
        "            # 2-coupled STDP-based learning\n",
        "            L1.sets[i].nc1.weight[0] += generate_L_weight_delta(P1_spike_times[i], P2_spike_times[i], A_plus, A_minus)\n",
        "            # logging\n",
        "            # print(\"P1_axon\", P1_spike_times[i], P2_spike_times[i])\n",
        "            L1.sets[i].nc2.weight[0] += generate_L_weight_delta(P1_spike_times[i], P2_spike_times[i], A_plus, A_minus)\n",
        "            \n",
        "        # do a proper logging function\n",
        "        weight_data.append(L1.sets[0].nc1.weight[0])\n",
        "        # print(L1.sets[0].nc1.weight[0], L1.sets[0].nc2.weight[0])\n",
        "\n",
        "\n",
        "        #Lateral Learning\n",
        "        for i in range(len(L1.sets)-1):\n",
        "            # print(i)\n",
        "            # 2-coupled part\n",
        "            L1.netConArr[i][0].weight[0] += generate_L_weight_delta(P1_spike_times[i], P1_spike_times[i+1], A_plus, A_minus)\n",
        "            L1.netConArr[i][1].weight[0] += generate_L_weight_delta(P1_spike_times[i+1], P1_spike_times[i], A_plus, A_minus)\n",
        "        \n",
        "        # plotCell(L1.sets[i].P1, 'P1')\n",
        "    out.update(progress(epochs, epochs))    \n",
        "    tock = time.time()\n",
        "    # print(\"The time it took to learn\", tock-tick, \"seconds\")"
      ]
    },
    {
      "cell_type": "markdown",
      "metadata": {
        "id": "0G1qSmrwCd-H"
      },
      "source": [
        "# A_plus automation"
      ]
    },
    {
      "cell_type": "code",
      "source": [
        "p1_spikes = []\n",
        "p2_spikes = []\n",
        "for A_plus in np.arange(0.01, 0.21, 0.01).round(2):\n",
        "    L1=LATERAL(sets,weights)\n",
        "    print(\"The A_plus value is\", A_plus)\n",
        "    # print(\"Spikes Before Learning\")\n",
        "    # plotSpikes()\n",
        "    learn(A_plus, -0.011)\n",
        "    # print(\"Spikes After Learning\")\n",
        "    # plotSpikes()\n",
        "    spikes = countSpikes()\n",
        "    p1_spikes.append(spikes[0])\n",
        "    p2_spikes.append(spikes[1])"
      ],
      "metadata": {
        "id": "fn_eEbDgzMta",
        "outputId": "50e484e9-5fa8-4d8d-fac5-ed1b7f676cca",
        "colab": {
          "base_uri": "https://localhost:8080/",
          "height": 711
        }
      },
      "execution_count": 16,
      "outputs": [
        {
          "output_type": "stream",
          "name": "stdout",
          "text": [
            "The A_plus value is 0.01\n"
          ]
        },
        {
          "output_type": "display_data",
          "data": {
            "text/plain": [
              "<IPython.core.display.HTML object>"
            ],
            "text/html": [
              "\n",
              "        <progress\n",
              "            value='30'\n",
              "            max='30',\n",
              "            style='width: 100%'\n",
              "        >\n",
              "            30\n",
              "        </progress>\n",
              "    "
            ]
          },
          "metadata": {}
        },
        {
          "output_type": "stream",
          "name": "stdout",
          "text": [
            "The A_plus value is 0.02\n"
          ]
        },
        {
          "output_type": "display_data",
          "data": {
            "text/plain": [
              "<IPython.core.display.HTML object>"
            ],
            "text/html": [
              "\n",
              "        <progress\n",
              "            value='30'\n",
              "            max='30',\n",
              "            style='width: 100%'\n",
              "        >\n",
              "            30\n",
              "        </progress>\n",
              "    "
            ]
          },
          "metadata": {}
        },
        {
          "output_type": "stream",
          "name": "stdout",
          "text": [
            "The A_plus value is 0.03\n"
          ]
        },
        {
          "output_type": "display_data",
          "data": {
            "text/plain": [
              "<IPython.core.display.HTML object>"
            ],
            "text/html": [
              "\n",
              "        <progress\n",
              "            value='30'\n",
              "            max='30',\n",
              "            style='width: 100%'\n",
              "        >\n",
              "            30\n",
              "        </progress>\n",
              "    "
            ]
          },
          "metadata": {}
        },
        {
          "output_type": "stream",
          "name": "stdout",
          "text": [
            "The A_plus value is 0.04\n"
          ]
        },
        {
          "output_type": "display_data",
          "data": {
            "text/plain": [
              "<IPython.core.display.HTML object>"
            ],
            "text/html": [
              "\n",
              "        <progress\n",
              "            value='30'\n",
              "            max='30',\n",
              "            style='width: 100%'\n",
              "        >\n",
              "            30\n",
              "        </progress>\n",
              "    "
            ]
          },
          "metadata": {}
        },
        {
          "output_type": "stream",
          "name": "stdout",
          "text": [
            "The A_plus value is 0.05\n"
          ]
        },
        {
          "output_type": "display_data",
          "data": {
            "text/plain": [
              "<IPython.core.display.HTML object>"
            ],
            "text/html": [
              "\n",
              "        <progress\n",
              "            value='30'\n",
              "            max='30',\n",
              "            style='width: 100%'\n",
              "        >\n",
              "            30\n",
              "        </progress>\n",
              "    "
            ]
          },
          "metadata": {}
        },
        {
          "output_type": "stream",
          "name": "stdout",
          "text": [
            "The A_plus value is 0.06\n"
          ]
        },
        {
          "output_type": "display_data",
          "data": {
            "text/plain": [
              "<IPython.core.display.HTML object>"
            ],
            "text/html": [
              "\n",
              "        <progress\n",
              "            value='30'\n",
              "            max='30',\n",
              "            style='width: 100%'\n",
              "        >\n",
              "            30\n",
              "        </progress>\n",
              "    "
            ]
          },
          "metadata": {}
        },
        {
          "output_type": "stream",
          "name": "stdout",
          "text": [
            "The A_plus value is 0.07\n"
          ]
        },
        {
          "output_type": "display_data",
          "data": {
            "text/plain": [
              "<IPython.core.display.HTML object>"
            ],
            "text/html": [
              "\n",
              "        <progress\n",
              "            value='30'\n",
              "            max='30',\n",
              "            style='width: 100%'\n",
              "        >\n",
              "            30\n",
              "        </progress>\n",
              "    "
            ]
          },
          "metadata": {}
        },
        {
          "output_type": "stream",
          "name": "stdout",
          "text": [
            "The A_plus value is 0.08\n"
          ]
        },
        {
          "output_type": "display_data",
          "data": {
            "text/plain": [
              "<IPython.core.display.HTML object>"
            ],
            "text/html": [
              "\n",
              "        <progress\n",
              "            value='30'\n",
              "            max='30',\n",
              "            style='width: 100%'\n",
              "        >\n",
              "            30\n",
              "        </progress>\n",
              "    "
            ]
          },
          "metadata": {}
        },
        {
          "output_type": "stream",
          "name": "stdout",
          "text": [
            "The A_plus value is 0.09\n"
          ]
        },
        {
          "output_type": "display_data",
          "data": {
            "text/plain": [
              "<IPython.core.display.HTML object>"
            ],
            "text/html": [
              "\n",
              "        <progress\n",
              "            value='30'\n",
              "            max='30',\n",
              "            style='width: 100%'\n",
              "        >\n",
              "            30\n",
              "        </progress>\n",
              "    "
            ]
          },
          "metadata": {}
        },
        {
          "output_type": "stream",
          "name": "stdout",
          "text": [
            "The A_plus value is 0.1\n"
          ]
        },
        {
          "output_type": "display_data",
          "data": {
            "text/plain": [
              "<IPython.core.display.HTML object>"
            ],
            "text/html": [
              "\n",
              "        <progress\n",
              "            value='30'\n",
              "            max='30',\n",
              "            style='width: 100%'\n",
              "        >\n",
              "            30\n",
              "        </progress>\n",
              "    "
            ]
          },
          "metadata": {}
        },
        {
          "output_type": "stream",
          "name": "stdout",
          "text": [
            "The A_plus value is 0.11\n"
          ]
        },
        {
          "output_type": "display_data",
          "data": {
            "text/plain": [
              "<IPython.core.display.HTML object>"
            ],
            "text/html": [
              "\n",
              "        <progress\n",
              "            value='30'\n",
              "            max='30',\n",
              "            style='width: 100%'\n",
              "        >\n",
              "            30\n",
              "        </progress>\n",
              "    "
            ]
          },
          "metadata": {}
        },
        {
          "output_type": "stream",
          "name": "stdout",
          "text": [
            "The A_plus value is 0.12\n"
          ]
        },
        {
          "output_type": "display_data",
          "data": {
            "text/plain": [
              "<IPython.core.display.HTML object>"
            ],
            "text/html": [
              "\n",
              "        <progress\n",
              "            value='30'\n",
              "            max='30',\n",
              "            style='width: 100%'\n",
              "        >\n",
              "            30\n",
              "        </progress>\n",
              "    "
            ]
          },
          "metadata": {}
        },
        {
          "output_type": "stream",
          "name": "stdout",
          "text": [
            "The A_plus value is 0.13\n"
          ]
        },
        {
          "output_type": "display_data",
          "data": {
            "text/plain": [
              "<IPython.core.display.HTML object>"
            ],
            "text/html": [
              "\n",
              "        <progress\n",
              "            value='30'\n",
              "            max='30',\n",
              "            style='width: 100%'\n",
              "        >\n",
              "            30\n",
              "        </progress>\n",
              "    "
            ]
          },
          "metadata": {}
        },
        {
          "output_type": "stream",
          "name": "stdout",
          "text": [
            "The A_plus value is 0.14\n"
          ]
        },
        {
          "output_type": "display_data",
          "data": {
            "text/plain": [
              "<IPython.core.display.HTML object>"
            ],
            "text/html": [
              "\n",
              "        <progress\n",
              "            value='30'\n",
              "            max='30',\n",
              "            style='width: 100%'\n",
              "        >\n",
              "            30\n",
              "        </progress>\n",
              "    "
            ]
          },
          "metadata": {}
        },
        {
          "output_type": "stream",
          "name": "stdout",
          "text": [
            "The A_plus value is 0.15\n"
          ]
        },
        {
          "output_type": "display_data",
          "data": {
            "text/plain": [
              "<IPython.core.display.HTML object>"
            ],
            "text/html": [
              "\n",
              "        <progress\n",
              "            value='30'\n",
              "            max='30',\n",
              "            style='width: 100%'\n",
              "        >\n",
              "            30\n",
              "        </progress>\n",
              "    "
            ]
          },
          "metadata": {}
        },
        {
          "output_type": "stream",
          "name": "stdout",
          "text": [
            "The A_plus value is 0.16\n"
          ]
        },
        {
          "output_type": "display_data",
          "data": {
            "text/plain": [
              "<IPython.core.display.HTML object>"
            ],
            "text/html": [
              "\n",
              "        <progress\n",
              "            value='30'\n",
              "            max='30',\n",
              "            style='width: 100%'\n",
              "        >\n",
              "            30\n",
              "        </progress>\n",
              "    "
            ]
          },
          "metadata": {}
        },
        {
          "output_type": "stream",
          "name": "stdout",
          "text": [
            "The A_plus value is 0.17\n"
          ]
        },
        {
          "output_type": "display_data",
          "data": {
            "text/plain": [
              "<IPython.core.display.HTML object>"
            ],
            "text/html": [
              "\n",
              "        <progress\n",
              "            value='30'\n",
              "            max='30',\n",
              "            style='width: 100%'\n",
              "        >\n",
              "            30\n",
              "        </progress>\n",
              "    "
            ]
          },
          "metadata": {}
        },
        {
          "output_type": "stream",
          "name": "stdout",
          "text": [
            "The A_plus value is 0.18\n"
          ]
        },
        {
          "output_type": "display_data",
          "data": {
            "text/plain": [
              "<IPython.core.display.HTML object>"
            ],
            "text/html": [
              "\n",
              "        <progress\n",
              "            value='30'\n",
              "            max='30',\n",
              "            style='width: 100%'\n",
              "        >\n",
              "            30\n",
              "        </progress>\n",
              "    "
            ]
          },
          "metadata": {}
        },
        {
          "output_type": "stream",
          "name": "stdout",
          "text": [
            "The A_plus value is 0.19\n"
          ]
        },
        {
          "output_type": "display_data",
          "data": {
            "text/plain": [
              "<IPython.core.display.HTML object>"
            ],
            "text/html": [
              "\n",
              "        <progress\n",
              "            value='30'\n",
              "            max='30',\n",
              "            style='width: 100%'\n",
              "        >\n",
              "            30\n",
              "        </progress>\n",
              "    "
            ]
          },
          "metadata": {}
        },
        {
          "output_type": "stream",
          "name": "stdout",
          "text": [
            "The A_plus value is 0.2\n"
          ]
        },
        {
          "output_type": "display_data",
          "data": {
            "text/plain": [
              "<IPython.core.display.HTML object>"
            ],
            "text/html": [
              "\n",
              "        <progress\n",
              "            value='30'\n",
              "            max='30',\n",
              "            style='width: 100%'\n",
              "        >\n",
              "            30\n",
              "        </progress>\n",
              "    "
            ]
          },
          "metadata": {}
        }
      ]
    },
    {
      "cell_type": "code",
      "source": [
        "a_plus_val = [i for i in np.arange(0.01, 0.21, 0.01)]\n",
        "legend=['P1', 'P2']\n",
        "plt1.plot(a_plus_val, p1_spikes)\n",
        "plt1.plot(a_plus_val, p2_spikes)\n",
        "plt1.legend(legend)\n",
        "plt1.show()"
      ],
      "metadata": {
        "id": "K8XPoCmb4MVT",
        "colab": {
          "base_uri": "https://localhost:8080/",
          "height": 265
        },
        "outputId": "a44571e2-df9a-4208-cc15-7b644531d338"
      },
      "execution_count": 17,
      "outputs": [
        {
          "output_type": "display_data",
          "data": {
            "text/plain": [
              "<Figure size 432x288 with 1 Axes>"
            ],
            "image/png": "[encoded data removed]"
          },
          "metadata": {
            "needs_background": "light"
          }
        }
      ]
    },
    {
      "cell_type": "markdown",
      "source": [
        "# A_minus automation"
      ],
      "metadata": {
        "id": "el-wF93H1mey"
      }
    },
    {
      "cell_type": "code",
      "source": [
        "p1_spikes = []\n",
        "p2_spikes = []\n",
        "for A_minus in np.arange(-0.011, -0.22, -0.011).round(3):\n",
        "    L1=LATERAL(sets,weights)\n",
        "    print(\"The A_minus value is\", A_minus)\n",
        "    # print(\"Spikes Before Learning\")\n",
        "    # plotSpikes()\n",
        "    learn(0.01, A_minus)\n",
        "    # print(\"Spikes After Learning\")\n",
        "    # plotSpikes()\n",
        "    spikes = countSpikes()\n",
        "    p1_spikes.append(spikes[0])\n",
        "    p2_spikes.append(spikes[1])"
      ],
      "metadata": {
        "id": "8RvAdcTi1q4O",
        "outputId": "6b5130f6-fbad-4807-b68d-256f7c1dde6f",
        "colab": {
          "base_uri": "https://localhost:8080/",
          "height": 677
        }
      },
      "execution_count": 18,
      "outputs": [
        {
          "output_type": "stream",
          "name": "stdout",
          "text": [
            "The A_minus value is -0.011\n"
          ]
        },
        {
          "output_type": "display_data",
          "data": {
            "text/plain": [
              "<IPython.core.display.HTML object>"
            ],
            "text/html": [
              "\n",
              "        <progress\n",
              "            value='30'\n",
              "            max='30',\n",
              "            style='width: 100%'\n",
              "        >\n",
              "            30\n",
              "        </progress>\n",
              "    "
            ]
          },
          "metadata": {}
        },
        {
          "output_type": "stream",
          "name": "stdout",
          "text": [
            "The A_minus value is -0.022\n"
          ]
        },
        {
          "output_type": "display_data",
          "data": {
            "text/plain": [
              "<IPython.core.display.HTML object>"
            ],
            "text/html": [
              "\n",
              "        <progress\n",
              "            value='30'\n",
              "            max='30',\n",
              "            style='width: 100%'\n",
              "        >\n",
              "            30\n",
              "        </progress>\n",
              "    "
            ]
          },
          "metadata": {}
        },
        {
          "output_type": "stream",
          "name": "stdout",
          "text": [
            "The A_minus value is -0.033\n"
          ]
        },
        {
          "output_type": "display_data",
          "data": {
            "text/plain": [
              "<IPython.core.display.HTML object>"
            ],
            "text/html": [
              "\n",
              "        <progress\n",
              "            value='30'\n",
              "            max='30',\n",
              "            style='width: 100%'\n",
              "        >\n",
              "            30\n",
              "        </progress>\n",
              "    "
            ]
          },
          "metadata": {}
        },
        {
          "output_type": "stream",
          "name": "stdout",
          "text": [
            "The A_minus value is -0.044\n"
          ]
        },
        {
          "output_type": "display_data",
          "data": {
            "text/plain": [
              "<IPython.core.display.HTML object>"
            ],
            "text/html": [
              "\n",
              "        <progress\n",
              "            value='30'\n",
              "            max='30',\n",
              "            style='width: 100%'\n",
              "        >\n",
              "            30\n",
              "        </progress>\n",
              "    "
            ]
          },
          "metadata": {}
        },
        {
          "output_type": "stream",
          "name": "stdout",
          "text": [
            "The A_minus value is -0.055\n"
          ]
        },
        {
          "output_type": "display_data",
          "data": {
            "text/plain": [
              "<IPython.core.display.HTML object>"
            ],
            "text/html": [
              "\n",
              "        <progress\n",
              "            value='30'\n",
              "            max='30',\n",
              "            style='width: 100%'\n",
              "        >\n",
              "            30\n",
              "        </progress>\n",
              "    "
            ]
          },
          "metadata": {}
        },
        {
          "output_type": "stream",
          "name": "stdout",
          "text": [
            "The A_minus value is -0.066\n"
          ]
        },
        {
          "output_type": "display_data",
          "data": {
            "text/plain": [
              "<IPython.core.display.HTML object>"
            ],
            "text/html": [
              "\n",
              "        <progress\n",
              "            value='30'\n",
              "            max='30',\n",
              "            style='width: 100%'\n",
              "        >\n",
              "            30\n",
              "        </progress>\n",
              "    "
            ]
          },
          "metadata": {}
        },
        {
          "output_type": "stream",
          "name": "stdout",
          "text": [
            "The A_minus value is -0.077\n"
          ]
        },
        {
          "output_type": "display_data",
          "data": {
            "text/plain": [
              "<IPython.core.display.HTML object>"
            ],
            "text/html": [
              "\n",
              "        <progress\n",
              "            value='30'\n",
              "            max='30',\n",
              "            style='width: 100%'\n",
              "        >\n",
              "            30\n",
              "        </progress>\n",
              "    "
            ]
          },
          "metadata": {}
        },
        {
          "output_type": "stream",
          "name": "stdout",
          "text": [
            "The A_minus value is -0.088\n"
          ]
        },
        {
          "output_type": "display_data",
          "data": {
            "text/plain": [
              "<IPython.core.display.HTML object>"
            ],
            "text/html": [
              "\n",
              "        <progress\n",
              "            value='30'\n",
              "            max='30',\n",
              "            style='width: 100%'\n",
              "        >\n",
              "            30\n",
              "        </progress>\n",
              "    "
            ]
          },
          "metadata": {}
        },
        {
          "output_type": "stream",
          "name": "stdout",
          "text": [
            "The A_minus value is -0.099\n"
          ]
        },
        {
          "output_type": "display_data",
          "data": {
            "text/plain": [
              "<IPython.core.display.HTML object>"
            ],
            "text/html": [
              "\n",
              "        <progress\n",
              "            value='30'\n",
              "            max='30',\n",
              "            style='width: 100%'\n",
              "        >\n",
              "            30\n",
              "        </progress>\n",
              "    "
            ]
          },
          "metadata": {}
        },
        {
          "output_type": "stream",
          "name": "stdout",
          "text": [
            "The A_minus value is -0.11\n"
          ]
        },
        {
          "output_type": "display_data",
          "data": {
            "text/plain": [
              "<IPython.core.display.HTML object>"
            ],
            "text/html": [
              "\n",
              "        <progress\n",
              "            value='30'\n",
              "            max='30',\n",
              "            style='width: 100%'\n",
              "        >\n",
              "            30\n",
              "        </progress>\n",
              "    "
            ]
          },
          "metadata": {}
        },
        {
          "output_type": "stream",
          "name": "stdout",
          "text": [
            "The A_minus value is -0.121\n"
          ]
        },
        {
          "output_type": "display_data",
          "data": {
            "text/plain": [
              "<IPython.core.display.HTML object>"
            ],
            "text/html": [
              "\n",
              "        <progress\n",
              "            value='30'\n",
              "            max='30',\n",
              "            style='width: 100%'\n",
              "        >\n",
              "            30\n",
              "        </progress>\n",
              "    "
            ]
          },
          "metadata": {}
        },
        {
          "output_type": "stream",
          "name": "stdout",
          "text": [
            "The A_minus value is -0.132\n"
          ]
        },
        {
          "output_type": "display_data",
          "data": {
            "text/plain": [
              "<IPython.core.display.HTML object>"
            ],
            "text/html": [
              "\n",
              "        <progress\n",
              "            value='30'\n",
              "            max='30',\n",
              "            style='width: 100%'\n",
              "        >\n",
              "            30\n",
              "        </progress>\n",
              "    "
            ]
          },
          "metadata": {}
        },
        {
          "output_type": "stream",
          "name": "stdout",
          "text": [
            "The A_minus value is -0.143\n"
          ]
        },
        {
          "output_type": "display_data",
          "data": {
            "text/plain": [
              "<IPython.core.display.HTML object>"
            ],
            "text/html": [
              "\n",
              "        <progress\n",
              "            value='30'\n",
              "            max='30',\n",
              "            style='width: 100%'\n",
              "        >\n",
              "            30\n",
              "        </progress>\n",
              "    "
            ]
          },
          "metadata": {}
        },
        {
          "output_type": "stream",
          "name": "stdout",
          "text": [
            "The A_minus value is -0.154\n"
          ]
        },
        {
          "output_type": "display_data",
          "data": {
            "text/plain": [
              "<IPython.core.display.HTML object>"
            ],
            "text/html": [
              "\n",
              "        <progress\n",
              "            value='30'\n",
              "            max='30',\n",
              "            style='width: 100%'\n",
              "        >\n",
              "            30\n",
              "        </progress>\n",
              "    "
            ]
          },
          "metadata": {}
        },
        {
          "output_type": "stream",
          "name": "stdout",
          "text": [
            "The A_minus value is -0.165\n"
          ]
        },
        {
          "output_type": "display_data",
          "data": {
            "text/plain": [
              "<IPython.core.display.HTML object>"
            ],
            "text/html": [
              "\n",
              "        <progress\n",
              "            value='30'\n",
              "            max='30',\n",
              "            style='width: 100%'\n",
              "        >\n",
              "            30\n",
              "        </progress>\n",
              "    "
            ]
          },
          "metadata": {}
        },
        {
          "output_type": "stream",
          "name": "stdout",
          "text": [
            "The A_minus value is -0.176\n"
          ]
        },
        {
          "output_type": "display_data",
          "data": {
            "text/plain": [
              "<IPython.core.display.HTML object>"
            ],
            "text/html": [
              "\n",
              "        <progress\n",
              "            value='30'\n",
              "            max='30',\n",
              "            style='width: 100%'\n",
              "        >\n",
              "            30\n",
              "        </progress>\n",
              "    "
            ]
          },
          "metadata": {}
        },
        {
          "output_type": "stream",
          "name": "stdout",
          "text": [
            "The A_minus value is -0.187\n"
          ]
        },
        {
          "output_type": "display_data",
          "data": {
            "text/plain": [
              "<IPython.core.display.HTML object>"
            ],
            "text/html": [
              "\n",
              "        <progress\n",
              "            value='30'\n",
              "            max='30',\n",
              "            style='width: 100%'\n",
              "        >\n",
              "            30\n",
              "        </progress>\n",
              "    "
            ]
          },
          "metadata": {}
        },
        {
          "output_type": "stream",
          "name": "stdout",
          "text": [
            "The A_minus value is -0.198\n"
          ]
        },
        {
          "output_type": "display_data",
          "data": {
            "text/plain": [
              "<IPython.core.display.HTML object>"
            ],
            "text/html": [
              "\n",
              "        <progress\n",
              "            value='30'\n",
              "            max='30',\n",
              "            style='width: 100%'\n",
              "        >\n",
              "            30\n",
              "        </progress>\n",
              "    "
            ]
          },
          "metadata": {}
        },
        {
          "output_type": "stream",
          "name": "stdout",
          "text": [
            "The A_minus value is -0.209\n"
          ]
        },
        {
          "output_type": "display_data",
          "data": {
            "text/plain": [
              "<IPython.core.display.HTML object>"
            ],
            "text/html": [
              "\n",
              "        <progress\n",
              "            value='30'\n",
              "            max='30',\n",
              "            style='width: 100%'\n",
              "        >\n",
              "            30\n",
              "        </progress>\n",
              "    "
            ]
          },
          "metadata": {}
        }
      ]
    },
    {
      "cell_type": "code",
      "source": [
        "a_minus_val = np.arange(-0.011, -0.22, -0.011)\n",
        "legend=['P1', 'P2']\n",
        "plt1.plot(a_minus_val, p1_spikes)\n",
        "plt1.plot(a_minus_val, p2_spikes)\n",
        "plt1.legend(legend)\n",
        "\n",
        "plt1.show()"
      ],
      "metadata": {
        "id": "bOcvZdj0Ag12",
        "colab": {
          "base_uri": "https://localhost:8080/",
          "height": 265
        },
        "outputId": "32f56a07-6fa7-490e-bdab-4f0a6801ad9c"
      },
      "execution_count": 21,
      "outputs": [
        {
          "output_type": "display_data",
          "data": {
            "text/plain": [
              "<Figure size 432x288 with 1 Axes>"
            ],
            "image/png": "[encoded data removed]"
          },
          "metadata": {
            "needs_background": "light"
          }
        }
      ]
    },
    {
      "cell_type": "code",
      "source": [
        ""
      ],
      "metadata": {
        "id": "WCIvU61-sjQ8"
      },
      "execution_count": null,
      "outputs": []
    }
  ],
  "metadata": {
    "colab": {
      "collapsed_sections": [
        "vQFzJzQPrjUE",
        "wNr4ni9HVQer",
        "1b0ufgLUZ3LE",
        "eAX_VQK4WEWT",
        "HHmcnjorW1p8",
        "Im35bWj7CSgR"
      ],
      "name": "Copy of learning efficacy 2-coupled.ipynb",
      "provenance": []
    },
    "kernelspec": {
      "display_name": "Python 3",
      "language": "python",
      "name": "python3"
    },
    "language_info": {
      "codemirror_mode": {
        "name": "ipython",
        "version": 3
      },
      "file_extension": ".py",
      "mimetype": "text/x-python",
      "name": "python",
      "nbconvert_exporter": "python",
      "pygments_lexer": "ipython3",
      "version": "3.9.6"
    }
  },
  "nbformat": 4,
  "nbformat_minor": 0
}
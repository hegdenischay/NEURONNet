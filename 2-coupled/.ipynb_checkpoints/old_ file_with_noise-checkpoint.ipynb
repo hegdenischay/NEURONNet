{
 "cells": [
  {
   "cell_type": "markdown",
   "metadata": {
    "id": "e-Rf1lyzlK23"
   },
   "source": [
    "### Phase Space plots of one P1-P2 pair from 5 sets of a  2-coupled network"
   ]
  },
  {
   "cell_type": "markdown",
   "metadata": {
    "id": "HGEGdKgGlK3B"
   },
   "source": [
    "# References:\n",
    "    1) https://www.neuron.yale.edu/neuron/static/new_doc/programming/hocsyntax.html\n",
    "    2) https://www.neuron.yale.edu/neuron/static/new_doc/programming/python.html\n",
    "    3) https://www.neuron.yale.edu/neuron/static/py_doc/programming/python.html\n",
    "    4) https://www.geeksforgeeks.org/single-neuron-neural-network-python/\n",
    "    5) https://github.com/piazentin/ksets\n",
    "    6) AP - https://www.moleculardevices.com/applications/patch-clamp-electrophysiology/what-action-potential#gref\n",
    "    7) https://www.neuron.yale.edu/neuron/static/py_doc/modelspec/programmatic/network/netcon.html\n",
    "    8) http://neupy.com/apidocs/neupy.algorithms.associative.hebb.html\n",
    "    9) https://qbi-software.github.io/NEURON-tutorial/lessons/network\n",
    "    10) https://www.neuron.yale.edu/neuron/static/py_doc/modelspec/programmatic/topology/geometry.html\n",
    "    11) http://www.cnel.ufl.edu/courses/EEL6814/chapter6.pdf\n",
    "    12) https://www.slideshare.net/mentelibre/hebbian-learning\n",
    "    13) http://www.diva-portal.org/smash/get/diva2:1089220/FULLTEXT02"
   ]
  },
  {
   "cell_type": "code",
   "execution_count": 1,
   "metadata": {
    "colab": {
     "base_uri": "https://localhost:8080/"
    },
    "executionInfo": {
     "elapsed": 5348,
     "status": "ok",
     "timestamp": 1646318599139,
     "user": {
      "displayName": "Nischay",
      "photoUrl": "https://lh3.googleusercontent.com/a-/AOh14GiafgZu5gwULCbF-UIEF5YBev6RYxvdtSZiGDXPWQ=s64",
      "userId": "16770127218483333634"
     },
     "user_tz": -330
    },
    "id": "vRoTODb4lK3F",
    "outputId": "79c25358-5965-43e2-bc99-05e286650f48"
   },
   "outputs": [
    {
     "name": "stdout",
     "output_type": "stream",
     "text": [
      "Collecting neuron\n",
      "  Downloading NEURON-8.0.2-cp37-cp37m-manylinux_2_5_x86_64.manylinux1_x86_64.whl (12.6 MB)\n",
      "\u001b[K     |████████████████████████████████| 12.6 MB 6.9 MB/s \n",
      "\u001b[?25hRequirement already satisfied: numpy>=1.9.3 in /usr/local/lib/python3.7/dist-packages (from neuron) (1.21.5)\n",
      "Installing collected packages: neuron\n",
      "Successfully installed neuron-8.0.2\n"
     ]
    }
   ],
   "source": [
    "!pip install neuron"
   ]
  },
  {
   "cell_type": "markdown",
   "metadata": {
    "id": "QIYYWio5lK3K"
   },
   "source": [
    "### Stage 1: Import the required libraries and import base neurons\n",
    "\n"
   ]
  },
  {
   "cell_type": "code",
   "execution_count": 3,
   "metadata": {
    "executionInfo": {
     "elapsed": 2335,
     "status": "ok",
     "timestamp": 1646318694747,
     "user": {
      "displayName": "Nischay",
      "photoUrl": "https://lh3.googleusercontent.com/a-/AOh14GiafgZu5gwULCbF-UIEF5YBev6RYxvdtSZiGDXPWQ=s64",
      "userId": "16770127218483333634"
     },
     "user_tz": -330
    },
    "id": "GmMgWjjMlK3W"
   },
   "outputs": [],
   "source": [
    "import os\n",
    "import sys\n",
    "\n",
    "if os.getcwd() != \"/content\":\n",
    "    # we are not in google colab, assume hebbian library is in current dir\n",
    "    from hebb import MCELL\n",
    "else:\n",
    "    # download from git\n",
    "    import shutil, requests\n",
    "    url = 'https://cloud.operationtulip.com/s/Nd7Wq4x7sCxB6Qx/download/git2.zip'\n",
    "    response = requests.get(url, stream=True)\n",
    "    with open('git2.zip', 'wb') as out_file:\n",
    "        shutil.copyfileobj(response.raw, out_file)\n",
    "    del response\n",
    "    import zipfile\n",
    "    with zipfile.ZipFile('git2.zip', 'r') as zip_ref:\n",
    "        zip_ref.extractall('')\n",
    "    from hebb_test import MCELL\n",
    "from neuron import h #.h is a HOC object instance & gui from neuron can also be imported \n",
    "from math import pi                  \n",
    "from neuron.units import ms,mV\n",
    "h.load_file('stdrun.hoc')                #Allows us to do a high level simulation\n",
    "\n",
    "import random  \n",
    "import matplotlib.pyplot as plt1\n",
    "\n",
    "from bokeh.io import output_notebook\n",
    "import bokeh.plotting as plt2\n",
    "output_notebook()\n",
    "\n",
    "import seaborn as sns"
   ]
  },
  {
   "cell_type": "markdown",
   "metadata": {
    "id": "jrOpoZFclK3h"
   },
   "source": [
    "### Stage 3: Import random weights\n",
    "We import the random weights as intitally the weights of the neurons are not adjusted to fire synchronously."
   ]
  },
  {
   "cell_type": "code",
   "execution_count": 4,
   "metadata": {
    "executionInfo": {
     "elapsed": 534,
     "status": "ok",
     "timestamp": 1646318702589,
     "user": {
      "displayName": "Nischay",
      "photoUrl": "https://lh3.googleusercontent.com/a-/AOh14GiafgZu5gwULCbF-UIEF5YBev6RYxvdtSZiGDXPWQ=s64",
      "userId": "16770127218483333634"
     },
     "user_tz": -330
    },
    "id": "xhGjRnKmlK3q"
   },
   "outputs": [],
   "source": [
    "#Give N value to get N no. of 2 coupled neurons laterally connected\n",
    "#given_input_from_user = int(input('Enter the number of 2 coupled sets required: '))\n",
    "import numpy as np\n",
    "given_input_from_user = 5\n",
    "low, high = 0.05, 0.1\n",
    "all_weights = np.random.uniform(low, high,2*given_input_from_user-1)"
   ]
  },
  {
   "cell_type": "code",
   "execution_count": 5,
   "metadata": {
    "executionInfo": {
     "elapsed": 3,
     "status": "ok",
     "timestamp": 1646318703126,
     "user": {
      "displayName": "Nischay",
      "photoUrl": "https://lh3.googleusercontent.com/a-/AOh14GiafgZu5gwULCbF-UIEF5YBev6RYxvdtSZiGDXPWQ=s64",
      "userId": "16770127218483333634"
     },
     "user_tz": -330
    },
    "id": "h4EWb_7_mdvb"
   },
   "outputs": [],
   "source": [
    "def stairstep(lo: float, hi: float, duration: int, max_duration: int = 200) -> list:\n",
    "    # duration and max_duration are in ms\n",
    "    return [hi if i < duration else lo for i in range(0,max_duration)]\n",
    "    # return [0+0.8*(i/duration) if i < duration else 0 for i in range(0,max_duration)]"
   ]
  },
  {
   "cell_type": "markdown",
   "metadata": {
    "id": "95EwHq8GlK3r"
   },
   "source": [
    "### Stage 4: Couple a neuron according to Freeman's KI Set with the weights generated above"
   ]
  },
  {
   "cell_type": "code",
   "execution_count": 6,
   "metadata": {
    "executionInfo": {
     "elapsed": 6,
     "status": "ok",
     "timestamp": 1646318704215,
     "user": {
      "displayName": "Nischay",
      "photoUrl": "https://lh3.googleusercontent.com/a-/AOh14GiafgZu5gwULCbF-UIEF5YBev6RYxvdtSZiGDXPWQ=s64",
      "userId": "16770127218483333634"
     },
     "user_tz": -330
    },
    "id": "qui2ACqFlK3s"
   },
   "outputs": [],
   "source": [
    "#Gives one 2 coupled neuron using freeman's topology in olfactory bulb\n",
    "class CONNECTING:\n",
    "    \"\"\"Coupling neurons\n",
    "    \"\"\"\n",
    "    def __init__(self,M,weights,delay1=1,delay2=1):\n",
    "        wMM=weights[0]\n",
    "        \n",
    "        self.M = M #Set no.\n",
    "        self.th = -70\n",
    "        self.maindelay = 0\n",
    "        #self.syns = []\n",
    "        #self.netcons = []\n",
    "        \n",
    "        #Making 2 neurons\n",
    "        self.cells=[]\n",
    "        self.M1=MCELL(1,self.M)\n",
    "        self.M2=MCELL(2,self.M)\n",
    "        self.cells.append(self.M1)\n",
    "        self.cells.append(self.M2)\n",
    "        \n",
    "        # give IClamp\n",
    "        self.stim = h.IClamp(self.M1.dend(0.9))\n",
    "        self.stim.delay = 1   #in ms\n",
    "        self.stim.dur = 100     #in ms\n",
    "        self.stim.amp = 0.8   #in nA\n",
    "\n",
    "        \n",
    "        #Connecting M1 to M2\n",
    "        self.nc1 = h.NetCon(self.M1.soma(0.5)._ref_v,self.M2.dendexcisyn,sec=self.M1.soma)\n",
    "        self.nc1.weight[0] = weights[0]\n",
    "        self.nc1.delay = 0 #tm1m2\n",
    "        self.nc1.threshold = self.th\n",
    "        \n",
    "        #Connecting M2 to M1\n",
    "        self.nc2 = h.NetCon(self.M2.soma(0.5)._ref_v,self.M1.dendexcisyn,sec=self.M2.soma)\n",
    "        self.nc2.weight[0] = weights[0]\n",
    "        self.nc2.delay = 0 #tm2m1\n",
    "        self.nc2.threshold = self.th\n",
    "        \n",
    "        "
   ]
  },
  {
   "cell_type": "markdown",
   "metadata": {
    "id": "HJJENFmAlK3v"
   },
   "source": [
    "### Stage 5: Laterally connect each set of 2 coupled neurons according to Freeman's KI Set"
   ]
  },
  {
   "cell_type": "code",
   "execution_count": 7,
   "metadata": {
    "executionInfo": {
     "elapsed": 4,
     "status": "ok",
     "timestamp": 1646318707497,
     "user": {
      "displayName": "Nischay",
      "photoUrl": "https://lh3.googleusercontent.com/a-/AOh14GiafgZu5gwULCbF-UIEF5YBev6RYxvdtSZiGDXPWQ=s64",
      "userId": "16770127218483333634"
     },
     "user_tz": -330
    },
    "id": "AzcKQCkWlK3x"
   },
   "outputs": [],
   "source": [
    "class LATERAL:\n",
    "    \"\"\"Laterally coupling N-2 coupled neurons\n",
    "    \"\"\"\n",
    "    def __init__(self,N,weights):\n",
    "        wMML=weights[1]\n",
    "        wGGL=weights[2]\n",
    "        \n",
    "        self.N = N\n",
    "        self.th = -70\n",
    "        self.maindelay = 20\n",
    "        self.sets = []\n",
    "        for i in range(N):\n",
    "            self.sets.append(CONNECTING(i,weights))\n",
    "            \n",
    "        self.twoCupArr = []\n",
    "        for r in range(0,N-1):\n",
    "          #Connecting P1[0] to P1[1]\n",
    "          # make a list for easier access\n",
    "          netConList = []\n",
    "          netConList.append(h.NetCon(self.sets[r].M1.axon(0.5)._ref_v, self.sets[r+1].M1.dendexcisyn,sec=self.sets[r].M1.axon))\n",
    "          netConList[0].weight[0]  = weights[r+N]\n",
    "          # print(\"Lateral weight is\", weights[r+N])\n",
    "          netConList[0].delay = self.maindelay+1\n",
    "          netConList[0].threshold = self.th\n",
    "\n",
    "          netConList.append(h.NetCon(self.sets[r+1].M1.axon(0.5)._ref_v, self.sets[r].M1.dendexcisyn, sec=self.sets[r+1].M1.axon))\n",
    "          netConList[1].weight[0] = weights[r+N]\n",
    "          netConList[1].delay = self.maindelay+2\n",
    "          netConList[1].threshold = self.th\n",
    "\n",
    "          self.twoCupArr.append(netConList)\n"
   ]
  },
  {
   "cell_type": "markdown",
   "metadata": {
    "id": "MBUBJnz0lK3z"
   },
   "source": [
    "### Stage 6: Input the number of 2 coupled sets required (which are all laterally connected)"
   ]
  },
  {
   "cell_type": "code",
   "execution_count": null,
   "metadata": {
    "executionInfo": {
     "elapsed": 50,
     "status": "aborted",
     "timestamp": 1646318600375,
     "user": {
      "displayName": "Nischay",
      "photoUrl": "https://lh3.googleusercontent.com/a-/AOh14GiafgZu5gwULCbF-UIEF5YBev6RYxvdtSZiGDXPWQ=s64",
      "userId": "16770127218483333634"
     },
     "user_tz": -330
    },
    "id": "lx7YWjYOlK30"
   },
   "outputs": [],
   "source": [
    "L1=LATERAL(given_input_from_user,all_weights)"
   ]
  },
  {
   "cell_type": "markdown",
   "metadata": {
    "id": "NYtFrlJ2lK31"
   },
   "source": [
    "### Stage 7: Visualize the topology of the neurons and the 3D space they are in. Also visualize the density mechanisms added to each neuron of a set."
   ]
  },
  {
   "cell_type": "code",
   "execution_count": null,
   "metadata": {
    "executionInfo": {
     "elapsed": 51,
     "status": "aborted",
     "timestamp": 1646318600376,
     "user": {
      "displayName": "Nischay",
      "photoUrl": "https://lh3.googleusercontent.com/a-/AOh14GiafgZu5gwULCbF-UIEF5YBev6RYxvdtSZiGDXPWQ=s64",
      "userId": "16770127218483333634"
     },
     "user_tz": -330
    },
    "id": "oEiev-4ZlK32"
   },
   "outputs": [],
   "source": [
    "h.topology()"
   ]
  },
  {
   "cell_type": "code",
   "execution_count": null,
   "metadata": {
    "executionInfo": {
     "elapsed": 51,
     "status": "aborted",
     "timestamp": 1646318600377,
     "user": {
      "displayName": "Nischay",
      "photoUrl": "https://lh3.googleusercontent.com/a-/AOh14GiafgZu5gwULCbF-UIEF5YBev6RYxvdtSZiGDXPWQ=s64",
      "userId": "16770127218483333634"
     },
     "user_tz": -330
    },
    "id": "gI8v9n_3lK34"
   },
   "outputs": [],
   "source": [
    "from neuron import h, gui2\n",
    "gui2.set_backend('jupyter')\n",
    "ps = gui2.PlotShape()\n",
    "ps.variable('v')\n",
    "ps.show(0)"
   ]
  },
  {
   "cell_type": "code",
   "execution_count": null,
   "metadata": {
    "executionInfo": {
     "elapsed": 50,
     "status": "aborted",
     "timestamp": 1646318600378,
     "user": {
      "displayName": "Nischay",
      "photoUrl": "https://lh3.googleusercontent.com/a-/AOh14GiafgZu5gwULCbF-UIEF5YBev6RYxvdtSZiGDXPWQ=s64",
      "userId": "16770127218483333634"
     },
     "user_tz": -330
    },
    "id": "SXt8Js75lK37"
   },
   "outputs": [],
   "source": [
    "for sec in h.allsec():\n",
    "    print('%s: %s' % (sec, ', '.join(sec.psection()['density_mechs'].keys())))"
   ]
  },
  {
   "cell_type": "markdown",
   "metadata": {
    "id": "zekpQ0BQlK38"
   },
   "source": [
    "### Stage 8 : Plot Activation and Inactivation Parameters"
   ]
  },
  {
   "cell_type": "code",
   "execution_count": null,
   "metadata": {
    "executionInfo": {
     "elapsed": 51,
     "status": "aborted",
     "timestamp": 1646318600379,
     "user": {
      "displayName": "Nischay",
      "photoUrl": "https://lh3.googleusercontent.com/a-/AOh14GiafgZu5gwULCbF-UIEF5YBev6RYxvdtSZiGDXPWQ=s64",
      "userId": "16770127218483333634"
     },
     "user_tz": -330
    },
    "id": "sFMPR091lK39",
    "scrolled": true
   },
   "outputs": [],
   "source": [
    "import numpy as np\n",
    "from matplotlib import pyplot\n",
    "\n",
    "checkCell = L1.sets[0].M1.axon(0.5)\n",
    "\n",
    "tvec = h.Vector().record(h._ref_t)\n",
    "\n",
    "vvecA = h.Vector().record(checkCell._ref_v)\n",
    "kvecA = h.Vector().record(checkCell.k_ion._ref_ik)\n",
    "# nvecA = h.Vector().record(checkCell.na_ion._ref_ina)\n",
    "mvecA = h.Vector().record(checkCell.hh._ref_m)\n",
    "hvecA = h.Vector().record(checkCell.hh._ref_h)\n",
    "nvecA = h.Vector().record(checkCell.hh._ref_n)\n",
    "\n",
    "\n",
    "h.finitialize(-70)\n",
    "h.continuerun(300)\n",
    "\n",
    "fig = pyplot.figure()\n",
    "pyplot.plot(tvec, vvecA, label=\"Membrane potential\")\n",
    "pyplot.xlabel('t (ms)')\n",
    "pyplot.ylabel('V$_m$ (mV)')\n",
    "pyplot.legend(frameon=False)\n",
    "\n",
    "fig = pyplot.figure()\n",
    "pyplot.plot(tvec, hvecA, '-b', label='h')\n",
    "pyplot.plot(tvec, nvecA, '-r', label='n')\n",
    "pyplot.xlabel('t (ms)')\n",
    "pyplot.ylabel('state')\n",
    "pyplot.legend(frameon=False)\n",
    "\n",
    "\n",
    "fig = pyplot.figure()\n",
    "pyplot.plot(tvec, kvecA.as_numpy(), '-b', label='h')\n",
    "pyplot.plot(tvec, nvecA.as_numpy(), '-r', label='n')\n",
    "pyplot.xlabel('t (ms)')\n",
    "pyplot.ylabel('current (mA/cm$^2$)')\n",
    "pyplot.legend(frameon=False)\n",
    "\n",
    "        \n"
   ]
  },
  {
   "cell_type": "code",
   "execution_count": null,
   "metadata": {
    "executionInfo": {
     "elapsed": 51,
     "status": "aborted",
     "timestamp": 1646318600380,
     "user": {
      "displayName": "Nischay",
      "photoUrl": "https://lh3.googleusercontent.com/a-/AOh14GiafgZu5gwULCbF-UIEF5YBev6RYxvdtSZiGDXPWQ=s64",
      "userId": "16770127218483333634"
     },
     "user_tz": -330
    },
    "id": "gX76x_FplK4A"
   },
   "outputs": [],
   "source": [
    "fig = pyplot.figure()\n",
    "pyplot.plot(hvecA, vvecA, label=\"\")\n",
    "pyplot.xlabel('h')\n",
    "pyplot.ylabel('V$_m$ (mV)')\n",
    "pyplot.title('Voltage vs Sodium inactivation parameter')\n",
    "pyplot.legend(frameon=False)"
   ]
  },
  {
   "cell_type": "code",
   "execution_count": null,
   "metadata": {
    "executionInfo": {
     "elapsed": 53,
     "status": "aborted",
     "timestamp": 1646318600382,
     "user": {
      "displayName": "Nischay",
      "photoUrl": "https://lh3.googleusercontent.com/a-/AOh14GiafgZu5gwULCbF-UIEF5YBev6RYxvdtSZiGDXPWQ=s64",
      "userId": "16770127218483333634"
     },
     "user_tz": -330
    },
    "id": "qJasJqr0lK4C"
   },
   "outputs": [],
   "source": [
    "fig = pyplot.figure()\n",
    "pyplot.plot(nvecA, vvecA, label=\"\")\n",
    "pyplot.xlabel('n')\n",
    "pyplot.ylabel('V$_m$ (mV)')\n",
    "pyplot.title('Voltage vs Potassium activation parameter')\n",
    "pyplot.legend(frameon=False)"
   ]
  },
  {
   "cell_type": "code",
   "execution_count": null,
   "metadata": {
    "executionInfo": {
     "elapsed": 55,
     "status": "aborted",
     "timestamp": 1646318600385,
     "user": {
      "displayName": "Nischay",
      "photoUrl": "https://lh3.googleusercontent.com/a-/AOh14GiafgZu5gwULCbF-UIEF5YBev6RYxvdtSZiGDXPWQ=s64",
      "userId": "16770127218483333634"
     },
     "user_tz": -330
    },
    "id": "3FdLVRk8lK4F"
   },
   "outputs": [],
   "source": [
    "fig = pyplot.figure()\n",
    "ax = fig.add_subplot(111, projection='3d')\n",
    "ax.plot(vvecA, nvecA, mvecA, hvecA)\n",
    "# pyplot.xlabel('m')\n",
    "# pyplot.ylabel('V$_m$ (mV)')\n",
    "pyplot.legend(frameon=False)"
   ]
  },
  {
   "cell_type": "code",
   "execution_count": null,
   "metadata": {
    "executionInfo": {
     "elapsed": 57,
     "status": "aborted",
     "timestamp": 1646318600387,
     "user": {
      "displayName": "Nischay",
      "photoUrl": "https://lh3.googleusercontent.com/a-/AOh14GiafgZu5gwULCbF-UIEF5YBev6RYxvdtSZiGDXPWQ=s64",
      "userId": "16770127218483333634"
     },
     "user_tz": -330
    },
    "id": "SzKTnNRslK4H"
   },
   "outputs": [],
   "source": [
    "fig = pyplot.figure()\n",
    "\n",
    "pyplot.plot(nvecA, hvecA)\n",
    "# pyplot.xlabel('m')\n",
    "# pyplot.ylabel('V$_m$ (mV)')\n",
    "pyplot.legend(frameon=False)"
   ]
  },
  {
   "cell_type": "markdown",
   "metadata": {
    "id": "9nxC9AWblK4I"
   },
   "source": [
    "### Stage 9: Record & visualize the voltage values at each axon of a neuron in the 1st set"
   ]
  },
  {
   "cell_type": "code",
   "execution_count": null,
   "metadata": {
    "executionInfo": {
     "elapsed": 62,
     "status": "aborted",
     "timestamp": 1646318600393,
     "user": {
      "displayName": "Nischay",
      "photoUrl": "https://lh3.googleusercontent.com/a-/AOh14GiafgZu5gwULCbF-UIEF5YBev6RYxvdtSZiGDXPWQ=s64",
      "userId": "16770127218483333634"
     },
     "user_tz": -330
    },
    "id": "EvwKpaD_lK4J",
    "scrolled": false
   },
   "outputs": [],
   "source": [
    "recording_cell = L1.sets[0].M1\n",
    "axon_m1 = h.Vector().record(recording_cell.axon(0.5)._ref_v)\n",
    "dend_m1 = h.Vector().record(recording_cell.dend(0.5)._ref_v)\n",
    "t = h.Vector().record(h._ref_t)\n",
    "\n",
    "h.finitialize(-70 * mV)\n",
    "h.continuerun(200 * ms)\n",
    "\n",
    "f = plt2.figure(x_axis_label='t (ms)', y_axis_label='v (mV)')\n",
    "f.line(t, list(axon_m1), line_width=1,legend_label='P1 axon',line_color='black')\n",
    "f.line(t, list(dend_m1), line_width=2,legend_label='P1 dendrite',line_color='red', line_dash='dashed')\n",
    "plt2.show(f)"
   ]
  },
  {
   "cell_type": "code",
   "execution_count": null,
   "metadata": {
    "executionInfo": {
     "elapsed": 64,
     "status": "aborted",
     "timestamp": 1646318600395,
     "user": {
      "displayName": "Nischay",
      "photoUrl": "https://lh3.googleusercontent.com/a-/AOh14GiafgZu5gwULCbF-UIEF5YBev6RYxvdtSZiGDXPWQ=s64",
      "userId": "16770127218483333634"
     },
     "user_tz": -330
    },
    "id": "vFuacq5GlK4M",
    "scrolled": false
   },
   "outputs": [],
   "source": [
    "recording_cell = L1.sets[0].M2\n",
    "axon_m2 = h.Vector().record(recording_cell.axon(0.5)._ref_v)\n",
    "dend_m2 = h.Vector().record(recording_cell.dend(0.5)._ref_v)\n",
    "t = h.Vector().record(h._ref_t)\n",
    "\n",
    "h.finitialize(-70 * mV)\n",
    "h.continuerun(200 * ms)\n",
    "\n",
    "f = plt2.figure(x_axis_label='t (ms)', y_axis_label='v (mV)')\n",
    "f.line(t, list(axon_m2), line_width=1,legend_label='P2 axon',line_color='black')\n",
    "f.line(t, list(dend_m2), line_width=2,legend_label='P2 dendrite',line_color='red', line_dash='dashed')\n",
    "plt2.show(f)"
   ]
  },
  {
   "cell_type": "code",
   "execution_count": null,
   "metadata": {
    "executionInfo": {
     "elapsed": 63,
     "status": "aborted",
     "timestamp": 1646318600395,
     "user": {
      "displayName": "Nischay",
      "photoUrl": "https://lh3.googleusercontent.com/a-/AOh14GiafgZu5gwULCbF-UIEF5YBev6RYxvdtSZiGDXPWQ=s64",
      "userId": "16770127218483333634"
     },
     "user_tz": -330
    },
    "id": "NwZ41x0mlK4P"
   },
   "outputs": [],
   "source": [
    "recording_cell = L1.sets[1].M1\n",
    "axon_m2 = h.Vector().record(recording_cell.axon(0.5)._ref_v)\n",
    "dend_m2 = h.Vector().record(recording_cell.dend(0.5)._ref_v)\n",
    "t = h.Vector().record(h._ref_t)\n",
    "\n",
    "h.finitialize(-70 * mV)\n",
    "h.continuerun(200 * ms)\n",
    "\n",
    "f = plt2.figure(x_axis_label='t (ms)', y_axis_label='v (mV)')\n",
    "f.line(t, list(axon_m1), line_width=1,legend_label='P1 axon',line_color='black')\n",
    "f.line(t, list(dend_m1), line_width=2,legend_label='P1 dendrite',line_color='red', line_dash='dashed')\n",
    "plt2.show(f)"
   ]
  },
  {
   "cell_type": "code",
   "execution_count": null,
   "metadata": {
    "executionInfo": {
     "elapsed": 65,
     "status": "aborted",
     "timestamp": 1646318600397,
     "user": {
      "displayName": "Nischay",
      "photoUrl": "https://lh3.googleusercontent.com/a-/AOh14GiafgZu5gwULCbF-UIEF5YBev6RYxvdtSZiGDXPWQ=s64",
      "userId": "16770127218483333634"
     },
     "user_tz": -330
    },
    "id": "pQgABUC-lK4R"
   },
   "outputs": [],
   "source": [
    "recording_cell = L1.sets[0].M1\n",
    "recording_cell_2 = L1.sets[0].M2\n",
    "axon_m1 = h.Vector().record(recording_cell.axon(0.5)._ref_v)\n",
    "dend_m1 = h.Vector().record(recording_cell.dend(0.5)._ref_v)\n",
    "axon_m2 = h.Vector().record(recording_cell_2.axon(0.5)._ref_v)\n",
    "dend_m2 = h.Vector().record(recording_cell_2.dend(0.5)._ref_v)\n",
    "t = h.Vector().record(h._ref_t)\n",
    "\n",
    "h.finitialize(-70 * mV)\n",
    "h.continuerun(200 * ms)\n",
    "\n",
    "f = plt2.figure(x_axis_label='v (mV)', y_axis_label='v (mV)',title='P1 axon vs P1 dendrite (2-coupled)')\n",
    "f.line(list(axon_m1), list(dend_m1), line_width=1,line_color='black')\n",
    "f2 = plt2.figure(x_axis_label='v (mV)', y_axis_label='v (mV)', title='P2 axon vs P2 dendrite (2-coupled)')\n",
    "f2.line(list(axon_m2), list(dend_m2), line_width=2,line_color='black')\n",
    "plt2.show(f)\n",
    "plt2.show(f2)"
   ]
  },
  {
   "cell_type": "code",
   "execution_count": null,
   "metadata": {
    "executionInfo": {
     "elapsed": 66,
     "status": "aborted",
     "timestamp": 1646318600398,
     "user": {
      "displayName": "Nischay",
      "photoUrl": "https://lh3.googleusercontent.com/a-/AOh14GiafgZu5gwULCbF-UIEF5YBev6RYxvdtSZiGDXPWQ=s64",
      "userId": "16770127218483333634"
     },
     "user_tz": -330
    },
    "id": "6BpWo9ehlK4T"
   },
   "outputs": [],
   "source": [
    "recording_cell = L1.sets[0].M1\n",
    "recording_cell_2 = L1.sets[0].M2\n",
    "axon_m1 = h.Vector().record(recording_cell.axon(0.5)._ref_v)\n",
    "dend_m1 = h.Vector().record(recording_cell.dend(0.5)._ref_v)\n",
    "axon_m2 = h.Vector().record(recording_cell_2.axon(0.5)._ref_v)\n",
    "dend_m2 = h.Vector().record(recording_cell_2.dend(0.5)._ref_v)\n",
    "t = h.Vector().record(h._ref_t)\n",
    "\n",
    "h.finitialize(-70 * mV)\n",
    "h.continuerun(200 * ms)\n",
    "\n",
    "f = plt2.figure(x_axis_label='v (mV)', y_axis_label='v (mV)',title='P1 axon vs P2 axon (2-coupled)')\n",
    "f.line(list(axon_m1), list(axon_m2), line_width=1,line_color='black')\n",
    "f2 = plt2.figure(x_axis_label='v (mV)', y_axis_label='v (mV)',title='P1 dendrite vs P2 dendrite (2-coupled)')\n",
    "f2.line(list(dend_m1), list(dend_m2), line_width=2,line_color='black')\n",
    "plt2.show(f)\n",
    "plt2.show(f2)\n"
   ]
  },
  {
   "cell_type": "markdown",
   "metadata": {
    "id": "aE-70oOBlK4U"
   },
   "source": [
    "### Stage 10: Visualize the spike timing of each neuron in a set"
   ]
  },
  {
   "cell_type": "code",
   "execution_count": null,
   "metadata": {
    "executionInfo": {
     "elapsed": 67,
     "status": "aborted",
     "timestamp": 1646318600400,
     "user": {
      "displayName": "Nischay",
      "photoUrl": "https://lh3.googleusercontent.com/a-/AOh14GiafgZu5gwULCbF-UIEF5YBev6RYxvdtSZiGDXPWQ=s64",
      "userId": "16770127218483333634"
     },
     "user_tz": -330
    },
    "id": "6FzvzFtSlK4V"
   },
   "outputs": [],
   "source": [
    "color=['green','orange']\n",
    "label=['P1','P2']\n",
    "plt1.figure(figsize=(16,10))\n",
    "for j in range(given_input_from_user):\n",
    "    for i,cell in enumerate(L1.sets[j].cells):\n",
    "        plt1.vlines(cell.spike_times+(100*j), i + 0.5, i + 1,color=color[i])\n",
    "plt1.xlabel('time(ms)')\n",
    "plt1.show()\n",
    "t1=list(L1.sets[0].cells[0].spike_times)\n",
    "t2=list(L1.sets[1].cells[0].spike_times)\n",
    "print(t1)\n",
    "print(t2)"
   ]
  },
  {
   "cell_type": "code",
   "execution_count": null,
   "metadata": {
    "executionInfo": {
     "elapsed": 69,
     "status": "aborted",
     "timestamp": 1646318600402,
     "user": {
      "displayName": "Nischay",
      "photoUrl": "https://lh3.googleusercontent.com/a-/AOh14GiafgZu5gwULCbF-UIEF5YBev6RYxvdtSZiGDXPWQ=s64",
      "userId": "16770127218483333634"
     },
     "user_tz": -330
    },
    "id": "hPRy7H5ulK4W"
   },
   "outputs": [],
   "source": [
    "color=['green','orange']\n",
    "label=['P1','P2']\n",
    "plt1.figure(figsize=(15,8))\n",
    "for i,cell in enumerate(L1.sets[j].cells):\n",
    "    plt1.vlines(cell.spike_times, i + 0.5, i + 1,color=color[i],label=label[i])\n",
    "plt1.xlabel('t (ms)')\n",
    "plt1.legend()\n",
    "plt1.show()"
   ]
  },
  {
   "cell_type": "markdown",
   "metadata": {
    "id": "OuNK9yrWlK4X"
   },
   "source": [
    "##### "
   ]
  },
  {
   "cell_type": "markdown",
   "metadata": {
    "id": "gpqRxhjqlK4Y"
   },
   "source": [
    "## Stage 11: Induce Learning in the network\n",
    "\n"
   ]
  },
  {
   "cell_type": "code",
   "execution_count": null,
   "metadata": {
    "executionInfo": {
     "elapsed": 69,
     "status": "aborted",
     "timestamp": 1646318600403,
     "user": {
      "displayName": "Nischay",
      "photoUrl": "https://lh3.googleusercontent.com/a-/AOh14GiafgZu5gwULCbF-UIEF5YBev6RYxvdtSZiGDXPWQ=s64",
      "userId": "16770127218483333634"
     },
     "user_tz": -330
    },
    "id": "pOfmgYfWlK4a"
   },
   "outputs": [],
   "source": [
    "def generate_L_weight_delta(first, second):\n",
    "    A_plus = 0.01\n",
    "    A_minus = -0.0011\n",
    "    tau_pre =20*ms\n",
    "    tau_post =20*ms\n",
    "    delta_t = [(second[iter] - first[iter]) for iter in range(min(len(first),len(second)))]\n",
    "    delta_w_list = [A_plus*math.exp(-delta_t[iter]/tau_post) if delta_t[iter] >=0 else A_minus*math.exp(delta_t[iter]/tau_pre) for iter in range(min(len(first),len(second)))]  \n",
    "    delta_w = sum(delta_w_list)\n",
    "    return delta_w"
   ]
  },
  {
   "cell_type": "code",
   "execution_count": null,
   "metadata": {
    "executionInfo": {
     "elapsed": 70,
     "status": "aborted",
     "timestamp": 1646318600405,
     "user": {
      "displayName": "Nischay",
      "photoUrl": "https://lh3.googleusercontent.com/a-/AOh14GiafgZu5gwULCbF-UIEF5YBev6RYxvdtSZiGDXPWQ=s64",
      "userId": "16770127218483333634"
     },
     "user_tz": -330
    },
    "id": "W1U0teeIlK4b"
   },
   "outputs": [],
   "source": [
    "epochs = 50\n",
    "import numpy as np\n",
    "import math\n",
    "out_1_1_data = []\n",
    "A_plus = 0.01      #0.2 to 2.5\n",
    "A_minus = -0.01\n",
    "tau_pre = 20*ms\n",
    "tau_post = 20*ms\n",
    "\n",
    "weights_rec = [[0 for i in range(epochs)] for j in range(len(L1.sets))]\n",
    "weights_rec_2 = [[0 for i in range(epochs)] for j in range(len(L1.sets))]\n",
    "L_weights_rec= [[0 for i in range(epochs)] for j in range(len(L1.sets)-1)]\n",
    "L_weights_rec_2= [[0 for i in range(epochs)] for j in range(len(L1.sets)-1)]\n",
    "\n",
    "for l in range(epochs):  \n",
    "    print(\"\\niteration no is\",l)\n",
    "    P1_data = []\n",
    "    print(\"\\nmutual learning\")\n",
    "    for i in range(len(L1.sets)):\n",
    "        h.continuerun(300 *ms)\n",
    "        out_1_1 = h.Vector().record(L1.sets[i].M1.axon(0.5)._ref_v)\n",
    "        # print(\"Spike times P{0}\".format(1+i*2), list(L1.sets[i].P1.spike_times))\n",
    "        spike_1_1 = list(L1.sets[i].M1.spike_times)\n",
    "        out_1_2 = h.Vector().record(L1.sets[i].M2.dend(0.5)._ref_v)\n",
    "        spike_1_2 = list(L1.sets[i].M2.spike_times)\n",
    "        # print(\"Spike times P{0}\".format(2+i*2), list(L1.sets[i].P2.spike_times))\n",
    "        t = h.Vector().record(h._ref_t)\n",
    "        h.finitialize(-70 * mV)\n",
    "        \n",
    "        for k in range(1,3):\n",
    "            delta_t = [(spike_1_2[iter] - spike_1_1[iter]) for iter in range(min(len(spike_1_1),len(spike_1_2)))]\n",
    "            delta_w_list = [A_plus*math.exp(-delta_t[iter]/tau_post) if delta_t[iter] >=0.24 else A_minus*math.exp(delta_t[iter]/tau_pre) for iter in range(min(len(spike_1_1),len(spike_1_2)))]\n",
    "            delta_w = sum(delta_w_list)\n",
    "            exec(f\"L1.sets[i].nc{k}.weight[0] += delta_w\")         \n",
    "        P1_data.append(list(out_1_1))\n",
    "        print(\"weight:\", L1.sets[i].nc1.weight[0])\n",
    "        weights_rec[i][l] = L1.sets[i].nc1.weight[0]\n",
    "        weights_rec_2[i][l] = L1.sets[i].nc2.weight[0]    \n",
    "\n",
    "\n",
    "\n",
    "#Lateral Learning\n",
    "    print(\"\\tlateral learning\")\n",
    "    for i in range(len(L1.sets)-1):\n",
    "      h.continuerun(300 *ms)\n",
    "      out_1_1 = h.Vector().record(L1.sets[i].M1.axon(0.5)._ref_v)\n",
    "      print(\"Spike times P{0}\".format(1+2*i), list(L1.sets[i].M1.spike_times))\n",
    "      spike_1_1 = list(L1.sets[i].M1.spike_times)\n",
    "      out_2_1 = h.Vector().record(L1.sets[i+1].M1.axon(0.5)._ref_v)\n",
    "      print(\"Spike times P{0}\".format(3+2*i), list(L1.sets[i+1].M1.spike_times))\n",
    "      spike_2_1 = list(L1.sets[i+1].M1.spike_times)\n",
    "      h.finitialize(-70 * mV)\n",
    "\n",
    "      # change the deltas\n",
    "      \n",
    "      L1.twoCupArr[i][0].weight[0] += generate_L_weight_delta(spike_1_1, spike_2_1)\n",
    "      L1.twoCupArr[i][1].weight[0] += generate_L_weight_delta(spike_1_1, spike_2_1)\n",
    "\n",
    "      # Logging work\n",
    "\n",
    "      print(L1.twoCupArr[i][0].weight[0])\n",
    "      L_weights_rec[i][l] = L1.twoCupArr[i][0].weight[0]\n",
    "      L_weights_rec[i][l] = L1.twoCupArr[i][1].weight[0]\n"
   ]
  },
  {
   "cell_type": "markdown",
   "metadata": {
    "id": "8DrRkC5JlK4d"
   },
   "source": [
    "## 12 : Plot Activation and Inactivation Parameters again (After Learning)"
   ]
  },
  {
   "cell_type": "code",
   "execution_count": null,
   "metadata": {
    "executionInfo": {
     "elapsed": 71,
     "status": "aborted",
     "timestamp": 1646318600406,
     "user": {
      "displayName": "Nischay",
      "photoUrl": "https://lh3.googleusercontent.com/a-/AOh14GiafgZu5gwULCbF-UIEF5YBev6RYxvdtSZiGDXPWQ=s64",
      "userId": "16770127218483333634"
     },
     "user_tz": -330
    },
    "id": "erhyhCtelK4f",
    "scrolled": true
   },
   "outputs": [],
   "source": [
    "import numpy as np\n",
    "from matplotlib import pyplot\n",
    "\n",
    "checkCell = L1.sets[0].M1.axon(0.5)\n",
    "\n",
    "tvec = h.Vector().record(h._ref_t)\n",
    "\n",
    "vvecA = h.Vector().record(checkCell._ref_v)\n",
    "kvecA = h.Vector().record(checkCell.k_ion._ref_ik)\n",
    "# nvecA = h.Vector().record(checkCell.na_ion._ref_ina)\n",
    "mvecA = h.Vector().record(checkCell.hh._ref_m)\n",
    "hvecA = h.Vector().record(checkCell.hh._ref_h)\n",
    "nvecA = h.Vector().record(checkCell.hh._ref_n)\n",
    "\n",
    "\n",
    "h.finitialize(-70)\n",
    "h.continuerun(300)\n",
    "\n",
    "fig = pyplot.figure()\n",
    "pyplot.plot(tvec, vvecA, label=\"Membrane potential\")\n",
    "pyplot.xlabel('t (ms)')\n",
    "pyplot.ylabel('V$_m$ (mV)')\n",
    "pyplot.legend(frameon=False)\n",
    "\n",
    "fig = pyplot.figure()\n",
    "pyplot.plot(tvec, hvecA, '-b', label='h')\n",
    "pyplot.plot(tvec, nvecA, '-r', label='n')\n",
    "pyplot.xlabel('t (ms)')\n",
    "pyplot.ylabel('state')\n",
    "pyplot.legend(frameon=False)\n",
    "\n",
    "\n",
    "fig = pyplot.figure()\n",
    "pyplot.plot(tvec, kvecA.as_numpy(), '-b', label='h')\n",
    "pyplot.plot(tvec, nvecA.as_numpy(), '-r', label='n')\n",
    "pyplot.xlabel('t (ms)')\n",
    "pyplot.ylabel('current (mA/cm$^2$)')\n",
    "pyplot.legend(frameon=False)\n",
    "\n",
    "        \n"
   ]
  },
  {
   "cell_type": "code",
   "execution_count": null,
   "metadata": {
    "executionInfo": {
     "elapsed": 72,
     "status": "aborted",
     "timestamp": 1646318600408,
     "user": {
      "displayName": "Nischay",
      "photoUrl": "https://lh3.googleusercontent.com/a-/AOh14GiafgZu5gwULCbF-UIEF5YBev6RYxvdtSZiGDXPWQ=s64",
      "userId": "16770127218483333634"
     },
     "user_tz": -330
    },
    "id": "dw8UyHuIlK4h"
   },
   "outputs": [],
   "source": [
    "fig = pyplot.figure()\n",
    "pyplot.plot(hvecA, vvecA, label=\"\")\n",
    "pyplot.xlabel('h')\n",
    "pyplot.ylabel('V$_m$ (mV)')\n",
    "pyplot.title('Voltage vs Sodium inactivation parameter')\n",
    "pyplot.legend(frameon=False)"
   ]
  },
  {
   "cell_type": "code",
   "execution_count": null,
   "metadata": {
    "executionInfo": {
     "elapsed": 74,
     "status": "aborted",
     "timestamp": 1646318600410,
     "user": {
      "displayName": "Nischay",
      "photoUrl": "https://lh3.googleusercontent.com/a-/AOh14GiafgZu5gwULCbF-UIEF5YBev6RYxvdtSZiGDXPWQ=s64",
      "userId": "16770127218483333634"
     },
     "user_tz": -330
    },
    "id": "VPikJXFylK4j"
   },
   "outputs": [],
   "source": [
    "fig = pyplot.figure()\n",
    "pyplot.plot(nvecA, vvecA, label=\"\")\n",
    "pyplot.xlabel('n')\n",
    "pyplot.ylabel('V$_m$ (mV)')\n",
    "pyplot.title('Voltage vs Potassium activation parameter')\n",
    "pyplot.legend(frameon=False)"
   ]
  },
  {
   "cell_type": "code",
   "execution_count": null,
   "metadata": {
    "executionInfo": {
     "elapsed": 74,
     "status": "aborted",
     "timestamp": 1646318600411,
     "user": {
      "displayName": "Nischay",
      "photoUrl": "https://lh3.googleusercontent.com/a-/AOh14GiafgZu5gwULCbF-UIEF5YBev6RYxvdtSZiGDXPWQ=s64",
      "userId": "16770127218483333634"
     },
     "user_tz": -330
    },
    "id": "Ipet7FKblK4k"
   },
   "outputs": [],
   "source": [
    "fig = pyplot.figure()\n",
    "ax = fig.add_subplot(111, projection='3d')\n",
    "ax.plot(vvecA, nvecA, mvecA, hvecA)\n",
    "# pyplot.xlabel('m')\n",
    "# pyplot.ylabel('V$_m$ (mV)')\n",
    "pyplot.legend(frameon=False)"
   ]
  },
  {
   "cell_type": "markdown",
   "metadata": {
    "id": "hC8fnZmFlK4l"
   },
   "source": [
    "## Stage 13: Plot Voltage vs Voltage graphs"
   ]
  },
  {
   "cell_type": "code",
   "execution_count": null,
   "metadata": {
    "executionInfo": {
     "elapsed": 75,
     "status": "aborted",
     "timestamp": 1646318600413,
     "user": {
      "displayName": "Nischay",
      "photoUrl": "https://lh3.googleusercontent.com/a-/AOh14GiafgZu5gwULCbF-UIEF5YBev6RYxvdtSZiGDXPWQ=s64",
      "userId": "16770127218483333634"
     },
     "user_tz": -330
    },
    "id": "SwLVILwulK4m"
   },
   "outputs": [],
   "source": [
    "recording_cell = L1.sets[0].M1\n",
    "recording_cell_2 = L1.sets[0].M2\n",
    "axon_m1 = h.Vector().record(recording_cell.axon(0.5)._ref_v)\n",
    "dend_m1 = h.Vector().record(recording_cell.dend(0.5)._ref_v)\n",
    "axon_m2 = h.Vector().record(recording_cell_2.axon(0.5)._ref_v)\n",
    "dend_m2 = h.Vector().record(recording_cell_2.dend(0.5)._ref_v)\n",
    "t = h.Vector().record(h._ref_t)\n",
    "\n",
    "h.finitialize(-70 * mV)\n",
    "h.continuerun(200 * ms)\n",
    "\n",
    "f = plt2.figure(x_axis_label='v (mV)', y_axis_label='v (mV)',title='P1 axon vs P1 dendrite (2-coupled)')\n",
    "f.line(list(axon_m1), list(dend_m1), line_width=1,line_color='black')\n",
    "f2 = plt2.figure(x_axis_label='v (mV)', y_axis_label='v (mV)', title='P2 axon vs P2 dendrite (2-coupled)')\n",
    "f2.line(list(axon_m2), list(dend_m2), line_width=2,line_color='black')\n",
    "plt2.show(f)\n",
    "plt2.show(f2)"
   ]
  },
  {
   "cell_type": "code",
   "execution_count": null,
   "metadata": {
    "executionInfo": {
     "elapsed": 77,
     "status": "aborted",
     "timestamp": 1646318600415,
     "user": {
      "displayName": "Nischay",
      "photoUrl": "https://lh3.googleusercontent.com/a-/AOh14GiafgZu5gwULCbF-UIEF5YBev6RYxvdtSZiGDXPWQ=s64",
      "userId": "16770127218483333634"
     },
     "user_tz": -330
    },
    "id": "3axvy6MPlK4n"
   },
   "outputs": [],
   "source": [
    "recording_cell = L1.sets[0].M1\n",
    "recording_cell_2 = L1.sets[0].M2\n",
    "axon_m1 = h.Vector().record(recording_cell.axon(0.5)._ref_v)\n",
    "dend_m1 = h.Vector().record(recording_cell.dend(0.5)._ref_v)\n",
    "axon_m2 = h.Vector().record(recording_cell_2.axon(0.5)._ref_v)\n",
    "dend_m2 = h.Vector().record(recording_cell_2.dend(0.5)._ref_v)\n",
    "t = h.Vector().record(h._ref_t)\n",
    "\n",
    "h.finitialize(-70 * mV)\n",
    "h.continuerun(200 * ms)\n",
    "\n",
    "f = plt2.figure(x_axis_label='v (mV)', y_axis_label='v (mV)',title='P1 axon vs P2 axon (2-coupled)')\n",
    "f.line(list(axon_m1), list(axon_m2), line_width=1,line_color='black')\n",
    "f2 = plt2.figure(x_axis_label='v (mV)', y_axis_label='v (mV)',title='P1 dendrite vs P2 dendrite (2-coupled)')\n",
    "f2.line(list(dend_m1), list(dend_m2), line_width=2,line_color='black')\n",
    "plt2.show(f)\n",
    "plt2.show(f2)\n"
   ]
  },
  {
   "cell_type": "code",
   "execution_count": null,
   "metadata": {
    "executionInfo": {
     "elapsed": 77,
     "status": "aborted",
     "timestamp": 1646318600416,
     "user": {
      "displayName": "Nischay",
      "photoUrl": "https://lh3.googleusercontent.com/a-/AOh14GiafgZu5gwULCbF-UIEF5YBev6RYxvdtSZiGDXPWQ=s64",
      "userId": "16770127218483333634"
     },
     "user_tz": -330
    },
    "id": "9EUigTz1lK4o"
   },
   "outputs": [],
   "source": []
  }
 ],
 "metadata": {
  "colab": {
   "collapsed_sections": [
    "NYtFrlJ2lK31",
    "zekpQ0BQlK38",
    "9nxC9AWblK4I",
    "aE-70oOBlK4U"
   ],
   "name": "old_ file_with_noise.ipynb",
   "provenance": [
    {
     "file_id": "1bc-nwuXbHzsx9Tn2TIqPdoVe65bQ47zl",
     "timestamp": 1629530511428
    }
   ]
  },
  "kernelspec": {
   "display_name": "Python 3 (ipykernel)",
   "language": "python",
   "name": "python3"
  },
  "language_info": {
   "codemirror_mode": {
    "name": "ipython",
    "version": 3
   },
   "file_extension": ".py",
   "mimetype": "text/x-python",
   "name": "python",
   "nbconvert_exporter": "python",
   "pygments_lexer": "ipython3",
   "version": "3.10.5"
  }
 },
 "nbformat": 4,
 "nbformat_minor": 1
}
